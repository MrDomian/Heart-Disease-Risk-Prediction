{
 "cells": [
  {
   "cell_type": "markdown",
   "source": [
    "# Feature Engineering\n",
    "Feature Engineering is the process of manipulating and transforming data to create new, more relevant features that can be used to build effective machine learning models. Feature Engineering techniques are commonly used to increase the performance and relevance of models and improve the overall quality of data analysis. The main goal of Feature Engineering is to extract valuable information from existing data by creating new variables or transforming existing variables. This can include combining different features, removing redundant data, transforming numerical data, normalizing, coding categorical variables, scaling data, removing outliers, etc.\n",
    "Different Feature Engineering techniques are used depending on the nature of the data and the type of problem we are working on. Some popular techniques are:\n",
    "- feature creation: involves creating new features from existing data. This can include extracting information from text, generating statistics from temporal data, creating interactions between variables, aggregating data.\n",
    "- feature removal: some features may be uninformative, contain a lot of missing values, or introduce noise into the data. In such cases, they can be removed to increase the effectiveness of the model.\n",
    "- data transformation: many machine learning algorithms require data to meet certain distribution assumptions. This may include logarithmization, standardization, normalization or removal of skewness in the data.\n",
    "- coding of categorical variables: categorical variables cannot be used directly in many models. It is necessary to code them, for example, using explicit coding, ordinal coding or binary coding.\n",
    "\n",
    "\n",
    "Applications of Feature Engineering techniques can vary depending on the dataset and problem. Correct use of Feature Engineering techniques can lead to better model performance, reduced overfitting, increased predictive accuracy and better understanding of the data. However, excessive or inappropriate use of Feature Engineering techniques can lead to the introduction of noise into the data or the introduction of incorrect assumptions, which can degrade model quality."
   ],
   "metadata": {
    "collapsed": false
   }
  },
  {
   "cell_type": "markdown",
   "source": [
    "### Required libraries"
   ],
   "metadata": {
    "collapsed": false
   }
  },
  {
   "cell_type": "code",
   "execution_count": 1,
   "outputs": [],
   "source": [
    "import pandas as pd\n",
    "\n",
    "from main import one_hot_encoding, label_encoding, ordinal_encoding, create_interaction_features, create_polynomial_features, standardize_features, normalize_features, discretize_features, remove_highly_correlated_features, remove_features_with_high_missing_data"
   ],
   "metadata": {
    "collapsed": false,
    "pycharm": {
     "name": "#%%\n"
    }
   }
  },
  {
   "cell_type": "markdown",
   "source": [
    "### Loading data"
   ],
   "metadata": {
    "collapsed": false
   }
  },
  {
   "cell_type": "code",
   "execution_count": 2,
   "outputs": [
    {
     "data": {
      "text/plain": "      age  sex   cp  trestbps   chol  fbs  restecg  thalach  exang  oldpeak  \\\n0    63.0  1.0  1.0     145.0  233.0  1.0      2.0    150.0    0.0      2.3   \n1    67.0  1.0  4.0     160.0  286.0  0.0      2.0    108.0    1.0      1.5   \n2    67.0  1.0  4.0     120.0  229.0  0.0      2.0    129.0    1.0      2.6   \n3    37.0  1.0  3.0     130.0  250.0  0.0      0.0    187.0    0.0      3.5   \n4    41.0  0.0  2.0     130.0  204.0  0.0      2.0    172.0    0.0      1.4   \n..    ...  ...  ...       ...    ...  ...      ...      ...    ...      ...   \n292  57.0  0.0  4.0     140.0  241.0  0.0      0.0    123.0    1.0      0.2   \n293  45.0  1.0  1.0     110.0  264.0  0.0      0.0    132.0    0.0      1.2   \n294  68.0  1.0  4.0     144.0  193.0  1.0      0.0    141.0    0.0      3.4   \n295  57.0  1.0  4.0     130.0  131.0  0.0      0.0    115.0    1.0      1.2   \n296  57.0  0.0  2.0     130.0  236.0  0.0      2.0    174.0    0.0      0.0   \n\n     slope   ca  thal  decision  \n0      3.0  0.0   6.0         0  \n1      2.0  3.0   3.0         1  \n2      2.0  2.0   7.0         1  \n3      3.0  0.0   3.0         0  \n4      1.0  0.0   3.0         0  \n..     ...  ...   ...       ...  \n292    2.0  0.0   7.0         1  \n293    2.0  0.0   7.0         1  \n294    2.0  2.0   7.0         1  \n295    2.0  1.0   7.0         1  \n296    2.0  1.0   3.0         1  \n\n[297 rows x 14 columns]",
      "text/html": "<div>\n<style scoped>\n    .dataframe tbody tr th:only-of-type {\n        vertical-align: middle;\n    }\n\n    .dataframe tbody tr th {\n        vertical-align: top;\n    }\n\n    .dataframe thead th {\n        text-align: right;\n    }\n</style>\n<table border=\"1\" class=\"dataframe\">\n  <thead>\n    <tr style=\"text-align: right;\">\n      <th></th>\n      <th>age</th>\n      <th>sex</th>\n      <th>cp</th>\n      <th>trestbps</th>\n      <th>chol</th>\n      <th>fbs</th>\n      <th>restecg</th>\n      <th>thalach</th>\n      <th>exang</th>\n      <th>oldpeak</th>\n      <th>slope</th>\n      <th>ca</th>\n      <th>thal</th>\n      <th>decision</th>\n    </tr>\n  </thead>\n  <tbody>\n    <tr>\n      <th>0</th>\n      <td>63.0</td>\n      <td>1.0</td>\n      <td>1.0</td>\n      <td>145.0</td>\n      <td>233.0</td>\n      <td>1.0</td>\n      <td>2.0</td>\n      <td>150.0</td>\n      <td>0.0</td>\n      <td>2.3</td>\n      <td>3.0</td>\n      <td>0.0</td>\n      <td>6.0</td>\n      <td>0</td>\n    </tr>\n    <tr>\n      <th>1</th>\n      <td>67.0</td>\n      <td>1.0</td>\n      <td>4.0</td>\n      <td>160.0</td>\n      <td>286.0</td>\n      <td>0.0</td>\n      <td>2.0</td>\n      <td>108.0</td>\n      <td>1.0</td>\n      <td>1.5</td>\n      <td>2.0</td>\n      <td>3.0</td>\n      <td>3.0</td>\n      <td>1</td>\n    </tr>\n    <tr>\n      <th>2</th>\n      <td>67.0</td>\n      <td>1.0</td>\n      <td>4.0</td>\n      <td>120.0</td>\n      <td>229.0</td>\n      <td>0.0</td>\n      <td>2.0</td>\n      <td>129.0</td>\n      <td>1.0</td>\n      <td>2.6</td>\n      <td>2.0</td>\n      <td>2.0</td>\n      <td>7.0</td>\n      <td>1</td>\n    </tr>\n    <tr>\n      <th>3</th>\n      <td>37.0</td>\n      <td>1.0</td>\n      <td>3.0</td>\n      <td>130.0</td>\n      <td>250.0</td>\n      <td>0.0</td>\n      <td>0.0</td>\n      <td>187.0</td>\n      <td>0.0</td>\n      <td>3.5</td>\n      <td>3.0</td>\n      <td>0.0</td>\n      <td>3.0</td>\n      <td>0</td>\n    </tr>\n    <tr>\n      <th>4</th>\n      <td>41.0</td>\n      <td>0.0</td>\n      <td>2.0</td>\n      <td>130.0</td>\n      <td>204.0</td>\n      <td>0.0</td>\n      <td>2.0</td>\n      <td>172.0</td>\n      <td>0.0</td>\n      <td>1.4</td>\n      <td>1.0</td>\n      <td>0.0</td>\n      <td>3.0</td>\n      <td>0</td>\n    </tr>\n    <tr>\n      <th>...</th>\n      <td>...</td>\n      <td>...</td>\n      <td>...</td>\n      <td>...</td>\n      <td>...</td>\n      <td>...</td>\n      <td>...</td>\n      <td>...</td>\n      <td>...</td>\n      <td>...</td>\n      <td>...</td>\n      <td>...</td>\n      <td>...</td>\n      <td>...</td>\n    </tr>\n    <tr>\n      <th>292</th>\n      <td>57.0</td>\n      <td>0.0</td>\n      <td>4.0</td>\n      <td>140.0</td>\n      <td>241.0</td>\n      <td>0.0</td>\n      <td>0.0</td>\n      <td>123.0</td>\n      <td>1.0</td>\n      <td>0.2</td>\n      <td>2.0</td>\n      <td>0.0</td>\n      <td>7.0</td>\n      <td>1</td>\n    </tr>\n    <tr>\n      <th>293</th>\n      <td>45.0</td>\n      <td>1.0</td>\n      <td>1.0</td>\n      <td>110.0</td>\n      <td>264.0</td>\n      <td>0.0</td>\n      <td>0.0</td>\n      <td>132.0</td>\n      <td>0.0</td>\n      <td>1.2</td>\n      <td>2.0</td>\n      <td>0.0</td>\n      <td>7.0</td>\n      <td>1</td>\n    </tr>\n    <tr>\n      <th>294</th>\n      <td>68.0</td>\n      <td>1.0</td>\n      <td>4.0</td>\n      <td>144.0</td>\n      <td>193.0</td>\n      <td>1.0</td>\n      <td>0.0</td>\n      <td>141.0</td>\n      <td>0.0</td>\n      <td>3.4</td>\n      <td>2.0</td>\n      <td>2.0</td>\n      <td>7.0</td>\n      <td>1</td>\n    </tr>\n    <tr>\n      <th>295</th>\n      <td>57.0</td>\n      <td>1.0</td>\n      <td>4.0</td>\n      <td>130.0</td>\n      <td>131.0</td>\n      <td>0.0</td>\n      <td>0.0</td>\n      <td>115.0</td>\n      <td>1.0</td>\n      <td>1.2</td>\n      <td>2.0</td>\n      <td>1.0</td>\n      <td>7.0</td>\n      <td>1</td>\n    </tr>\n    <tr>\n      <th>296</th>\n      <td>57.0</td>\n      <td>0.0</td>\n      <td>2.0</td>\n      <td>130.0</td>\n      <td>236.0</td>\n      <td>0.0</td>\n      <td>2.0</td>\n      <td>174.0</td>\n      <td>0.0</td>\n      <td>0.0</td>\n      <td>2.0</td>\n      <td>1.0</td>\n      <td>3.0</td>\n      <td>1</td>\n    </tr>\n  </tbody>\n</table>\n<p>297 rows × 14 columns</p>\n</div>"
     },
     "execution_count": 2,
     "metadata": {},
     "output_type": "execute_result"
    }
   ],
   "source": [
    "data = pd.read_csv('heart_disease_risk.csv')\n",
    "data"
   ],
   "metadata": {
    "collapsed": false,
    "pycharm": {
     "name": "#%%\n"
    }
   }
  },
  {
   "cell_type": "markdown",
   "source": [
    "### One-hot encoding\n",
    "One-hot encoding is a method of encoding categorical variables in binary form. Each category is encoded as a binary vector of length equal to the number of categories. In this vector, a value of 1 indicates category membership, and a value of 0 indicates no membership."
   ],
   "metadata": {
    "collapsed": false
   }
  },
  {
   "cell_type": "code",
   "execution_count": 3,
   "outputs": [
    {
     "data": {
      "text/plain": "      age  sex  trestbps   chol  fbs  restecg  thalach  exang  oldpeak  slope  \\\n0    63.0  1.0     145.0  233.0  1.0      2.0    150.0    0.0      2.3    3.0   \n1    67.0  1.0     160.0  286.0  0.0      2.0    108.0    1.0      1.5    2.0   \n2    67.0  1.0     120.0  229.0  0.0      2.0    129.0    1.0      2.6    2.0   \n3    37.0  1.0     130.0  250.0  0.0      0.0    187.0    0.0      3.5    3.0   \n4    41.0  0.0     130.0  204.0  0.0      2.0    172.0    0.0      1.4    1.0   \n..    ...  ...       ...    ...  ...      ...      ...    ...      ...    ...   \n292  57.0  0.0     140.0  241.0  0.0      0.0    123.0    1.0      0.2    2.0   \n293  45.0  1.0     110.0  264.0  0.0      0.0    132.0    0.0      1.2    2.0   \n294  68.0  1.0     144.0  193.0  1.0      0.0    141.0    0.0      3.4    2.0   \n295  57.0  1.0     130.0  131.0  0.0      0.0    115.0    1.0      1.2    2.0   \n296  57.0  0.0     130.0  236.0  0.0      2.0    174.0    0.0      0.0    2.0   \n\n      ca  decision  cp_1.0  cp_2.0  cp_3.0  cp_4.0  thal_3.0  thal_6.0  \\\n0    0.0         0     1.0     0.0     0.0     0.0       0.0       1.0   \n1    3.0         1     0.0     0.0     0.0     1.0       1.0       0.0   \n2    2.0         1     0.0     0.0     0.0     1.0       0.0       0.0   \n3    0.0         0     0.0     0.0     1.0     0.0       1.0       0.0   \n4    0.0         0     0.0     1.0     0.0     0.0       1.0       0.0   \n..   ...       ...     ...     ...     ...     ...       ...       ...   \n292  0.0         1     0.0     0.0     0.0     1.0       0.0       0.0   \n293  0.0         1     1.0     0.0     0.0     0.0       0.0       0.0   \n294  2.0         1     0.0     0.0     0.0     1.0       0.0       0.0   \n295  1.0         1     0.0     0.0     0.0     1.0       0.0       0.0   \n296  1.0         1     0.0     1.0     0.0     0.0       1.0       0.0   \n\n     thal_7.0  \n0         0.0  \n1         0.0  \n2         1.0  \n3         0.0  \n4         0.0  \n..        ...  \n292       1.0  \n293       1.0  \n294       1.0  \n295       1.0  \n296       0.0  \n\n[297 rows x 19 columns]",
      "text/html": "<div>\n<style scoped>\n    .dataframe tbody tr th:only-of-type {\n        vertical-align: middle;\n    }\n\n    .dataframe tbody tr th {\n        vertical-align: top;\n    }\n\n    .dataframe thead th {\n        text-align: right;\n    }\n</style>\n<table border=\"1\" class=\"dataframe\">\n  <thead>\n    <tr style=\"text-align: right;\">\n      <th></th>\n      <th>age</th>\n      <th>sex</th>\n      <th>trestbps</th>\n      <th>chol</th>\n      <th>fbs</th>\n      <th>restecg</th>\n      <th>thalach</th>\n      <th>exang</th>\n      <th>oldpeak</th>\n      <th>slope</th>\n      <th>ca</th>\n      <th>decision</th>\n      <th>cp_1.0</th>\n      <th>cp_2.0</th>\n      <th>cp_3.0</th>\n      <th>cp_4.0</th>\n      <th>thal_3.0</th>\n      <th>thal_6.0</th>\n      <th>thal_7.0</th>\n    </tr>\n  </thead>\n  <tbody>\n    <tr>\n      <th>0</th>\n      <td>63.0</td>\n      <td>1.0</td>\n      <td>145.0</td>\n      <td>233.0</td>\n      <td>1.0</td>\n      <td>2.0</td>\n      <td>150.0</td>\n      <td>0.0</td>\n      <td>2.3</td>\n      <td>3.0</td>\n      <td>0.0</td>\n      <td>0</td>\n      <td>1.0</td>\n      <td>0.0</td>\n      <td>0.0</td>\n      <td>0.0</td>\n      <td>0.0</td>\n      <td>1.0</td>\n      <td>0.0</td>\n    </tr>\n    <tr>\n      <th>1</th>\n      <td>67.0</td>\n      <td>1.0</td>\n      <td>160.0</td>\n      <td>286.0</td>\n      <td>0.0</td>\n      <td>2.0</td>\n      <td>108.0</td>\n      <td>1.0</td>\n      <td>1.5</td>\n      <td>2.0</td>\n      <td>3.0</td>\n      <td>1</td>\n      <td>0.0</td>\n      <td>0.0</td>\n      <td>0.0</td>\n      <td>1.0</td>\n      <td>1.0</td>\n      <td>0.0</td>\n      <td>0.0</td>\n    </tr>\n    <tr>\n      <th>2</th>\n      <td>67.0</td>\n      <td>1.0</td>\n      <td>120.0</td>\n      <td>229.0</td>\n      <td>0.0</td>\n      <td>2.0</td>\n      <td>129.0</td>\n      <td>1.0</td>\n      <td>2.6</td>\n      <td>2.0</td>\n      <td>2.0</td>\n      <td>1</td>\n      <td>0.0</td>\n      <td>0.0</td>\n      <td>0.0</td>\n      <td>1.0</td>\n      <td>0.0</td>\n      <td>0.0</td>\n      <td>1.0</td>\n    </tr>\n    <tr>\n      <th>3</th>\n      <td>37.0</td>\n      <td>1.0</td>\n      <td>130.0</td>\n      <td>250.0</td>\n      <td>0.0</td>\n      <td>0.0</td>\n      <td>187.0</td>\n      <td>0.0</td>\n      <td>3.5</td>\n      <td>3.0</td>\n      <td>0.0</td>\n      <td>0</td>\n      <td>0.0</td>\n      <td>0.0</td>\n      <td>1.0</td>\n      <td>0.0</td>\n      <td>1.0</td>\n      <td>0.0</td>\n      <td>0.0</td>\n    </tr>\n    <tr>\n      <th>4</th>\n      <td>41.0</td>\n      <td>0.0</td>\n      <td>130.0</td>\n      <td>204.0</td>\n      <td>0.0</td>\n      <td>2.0</td>\n      <td>172.0</td>\n      <td>0.0</td>\n      <td>1.4</td>\n      <td>1.0</td>\n      <td>0.0</td>\n      <td>0</td>\n      <td>0.0</td>\n      <td>1.0</td>\n      <td>0.0</td>\n      <td>0.0</td>\n      <td>1.0</td>\n      <td>0.0</td>\n      <td>0.0</td>\n    </tr>\n    <tr>\n      <th>...</th>\n      <td>...</td>\n      <td>...</td>\n      <td>...</td>\n      <td>...</td>\n      <td>...</td>\n      <td>...</td>\n      <td>...</td>\n      <td>...</td>\n      <td>...</td>\n      <td>...</td>\n      <td>...</td>\n      <td>...</td>\n      <td>...</td>\n      <td>...</td>\n      <td>...</td>\n      <td>...</td>\n      <td>...</td>\n      <td>...</td>\n      <td>...</td>\n    </tr>\n    <tr>\n      <th>292</th>\n      <td>57.0</td>\n      <td>0.0</td>\n      <td>140.0</td>\n      <td>241.0</td>\n      <td>0.0</td>\n      <td>0.0</td>\n      <td>123.0</td>\n      <td>1.0</td>\n      <td>0.2</td>\n      <td>2.0</td>\n      <td>0.0</td>\n      <td>1</td>\n      <td>0.0</td>\n      <td>0.0</td>\n      <td>0.0</td>\n      <td>1.0</td>\n      <td>0.0</td>\n      <td>0.0</td>\n      <td>1.0</td>\n    </tr>\n    <tr>\n      <th>293</th>\n      <td>45.0</td>\n      <td>1.0</td>\n      <td>110.0</td>\n      <td>264.0</td>\n      <td>0.0</td>\n      <td>0.0</td>\n      <td>132.0</td>\n      <td>0.0</td>\n      <td>1.2</td>\n      <td>2.0</td>\n      <td>0.0</td>\n      <td>1</td>\n      <td>1.0</td>\n      <td>0.0</td>\n      <td>0.0</td>\n      <td>0.0</td>\n      <td>0.0</td>\n      <td>0.0</td>\n      <td>1.0</td>\n    </tr>\n    <tr>\n      <th>294</th>\n      <td>68.0</td>\n      <td>1.0</td>\n      <td>144.0</td>\n      <td>193.0</td>\n      <td>1.0</td>\n      <td>0.0</td>\n      <td>141.0</td>\n      <td>0.0</td>\n      <td>3.4</td>\n      <td>2.0</td>\n      <td>2.0</td>\n      <td>1</td>\n      <td>0.0</td>\n      <td>0.0</td>\n      <td>0.0</td>\n      <td>1.0</td>\n      <td>0.0</td>\n      <td>0.0</td>\n      <td>1.0</td>\n    </tr>\n    <tr>\n      <th>295</th>\n      <td>57.0</td>\n      <td>1.0</td>\n      <td>130.0</td>\n      <td>131.0</td>\n      <td>0.0</td>\n      <td>0.0</td>\n      <td>115.0</td>\n      <td>1.0</td>\n      <td>1.2</td>\n      <td>2.0</td>\n      <td>1.0</td>\n      <td>1</td>\n      <td>0.0</td>\n      <td>0.0</td>\n      <td>0.0</td>\n      <td>1.0</td>\n      <td>0.0</td>\n      <td>0.0</td>\n      <td>1.0</td>\n    </tr>\n    <tr>\n      <th>296</th>\n      <td>57.0</td>\n      <td>0.0</td>\n      <td>130.0</td>\n      <td>236.0</td>\n      <td>0.0</td>\n      <td>2.0</td>\n      <td>174.0</td>\n      <td>0.0</td>\n      <td>0.0</td>\n      <td>2.0</td>\n      <td>1.0</td>\n      <td>1</td>\n      <td>0.0</td>\n      <td>1.0</td>\n      <td>0.0</td>\n      <td>0.0</td>\n      <td>1.0</td>\n      <td>0.0</td>\n      <td>0.0</td>\n    </tr>\n  </tbody>\n</table>\n<p>297 rows × 19 columns</p>\n</div>"
     },
     "execution_count": 3,
     "metadata": {},
     "output_type": "execute_result"
    }
   ],
   "source": [
    "data = pd.read_csv('heart_disease_risk.csv')\n",
    "categorical_columns = ['cp', 'thal']\n",
    "\n",
    "data = one_hot_encoding(data, categorical_columns)\n",
    "data"
   ],
   "metadata": {
    "collapsed": false,
    "pycharm": {
     "name": "#%%\n"
    }
   }
  },
  {
   "cell_type": "markdown",
   "source": [
    "### Label encoding\n",
    "Label encoding is a method of encoding categorical variables to integers. Each category is encoded as an integer. It is used to facilitate analysis of data containing categorical variables."
   ],
   "metadata": {
    "collapsed": false
   }
  },
  {
   "cell_type": "code",
   "execution_count": 4,
   "outputs": [
    {
     "data": {
      "text/plain": "      age  sex  cp  trestbps   chol  fbs  restecg  thalach  exang  oldpeak  \\\n0    63.0  1.0   0     145.0  233.0  1.0      2.0    150.0    0.0      2.3   \n1    67.0  1.0   3     160.0  286.0  0.0      2.0    108.0    1.0      1.5   \n2    67.0  1.0   3     120.0  229.0  0.0      2.0    129.0    1.0      2.6   \n3    37.0  1.0   2     130.0  250.0  0.0      0.0    187.0    0.0      3.5   \n4    41.0  0.0   1     130.0  204.0  0.0      2.0    172.0    0.0      1.4   \n..    ...  ...  ..       ...    ...  ...      ...      ...    ...      ...   \n292  57.0  0.0   3     140.0  241.0  0.0      0.0    123.0    1.0      0.2   \n293  45.0  1.0   0     110.0  264.0  0.0      0.0    132.0    0.0      1.2   \n294  68.0  1.0   3     144.0  193.0  1.0      0.0    141.0    0.0      3.4   \n295  57.0  1.0   3     130.0  131.0  0.0      0.0    115.0    1.0      1.2   \n296  57.0  0.0   1     130.0  236.0  0.0      2.0    174.0    0.0      0.0   \n\n     slope   ca  thal  decision  \n0      3.0  0.0     1         0  \n1      2.0  3.0     0         1  \n2      2.0  2.0     2         1  \n3      3.0  0.0     0         0  \n4      1.0  0.0     0         0  \n..     ...  ...   ...       ...  \n292    2.0  0.0     2         1  \n293    2.0  0.0     2         1  \n294    2.0  2.0     2         1  \n295    2.0  1.0     2         1  \n296    2.0  1.0     0         1  \n\n[297 rows x 14 columns]",
      "text/html": "<div>\n<style scoped>\n    .dataframe tbody tr th:only-of-type {\n        vertical-align: middle;\n    }\n\n    .dataframe tbody tr th {\n        vertical-align: top;\n    }\n\n    .dataframe thead th {\n        text-align: right;\n    }\n</style>\n<table border=\"1\" class=\"dataframe\">\n  <thead>\n    <tr style=\"text-align: right;\">\n      <th></th>\n      <th>age</th>\n      <th>sex</th>\n      <th>cp</th>\n      <th>trestbps</th>\n      <th>chol</th>\n      <th>fbs</th>\n      <th>restecg</th>\n      <th>thalach</th>\n      <th>exang</th>\n      <th>oldpeak</th>\n      <th>slope</th>\n      <th>ca</th>\n      <th>thal</th>\n      <th>decision</th>\n    </tr>\n  </thead>\n  <tbody>\n    <tr>\n      <th>0</th>\n      <td>63.0</td>\n      <td>1.0</td>\n      <td>0</td>\n      <td>145.0</td>\n      <td>233.0</td>\n      <td>1.0</td>\n      <td>2.0</td>\n      <td>150.0</td>\n      <td>0.0</td>\n      <td>2.3</td>\n      <td>3.0</td>\n      <td>0.0</td>\n      <td>1</td>\n      <td>0</td>\n    </tr>\n    <tr>\n      <th>1</th>\n      <td>67.0</td>\n      <td>1.0</td>\n      <td>3</td>\n      <td>160.0</td>\n      <td>286.0</td>\n      <td>0.0</td>\n      <td>2.0</td>\n      <td>108.0</td>\n      <td>1.0</td>\n      <td>1.5</td>\n      <td>2.0</td>\n      <td>3.0</td>\n      <td>0</td>\n      <td>1</td>\n    </tr>\n    <tr>\n      <th>2</th>\n      <td>67.0</td>\n      <td>1.0</td>\n      <td>3</td>\n      <td>120.0</td>\n      <td>229.0</td>\n      <td>0.0</td>\n      <td>2.0</td>\n      <td>129.0</td>\n      <td>1.0</td>\n      <td>2.6</td>\n      <td>2.0</td>\n      <td>2.0</td>\n      <td>2</td>\n      <td>1</td>\n    </tr>\n    <tr>\n      <th>3</th>\n      <td>37.0</td>\n      <td>1.0</td>\n      <td>2</td>\n      <td>130.0</td>\n      <td>250.0</td>\n      <td>0.0</td>\n      <td>0.0</td>\n      <td>187.0</td>\n      <td>0.0</td>\n      <td>3.5</td>\n      <td>3.0</td>\n      <td>0.0</td>\n      <td>0</td>\n      <td>0</td>\n    </tr>\n    <tr>\n      <th>4</th>\n      <td>41.0</td>\n      <td>0.0</td>\n      <td>1</td>\n      <td>130.0</td>\n      <td>204.0</td>\n      <td>0.0</td>\n      <td>2.0</td>\n      <td>172.0</td>\n      <td>0.0</td>\n      <td>1.4</td>\n      <td>1.0</td>\n      <td>0.0</td>\n      <td>0</td>\n      <td>0</td>\n    </tr>\n    <tr>\n      <th>...</th>\n      <td>...</td>\n      <td>...</td>\n      <td>...</td>\n      <td>...</td>\n      <td>...</td>\n      <td>...</td>\n      <td>...</td>\n      <td>...</td>\n      <td>...</td>\n      <td>...</td>\n      <td>...</td>\n      <td>...</td>\n      <td>...</td>\n      <td>...</td>\n    </tr>\n    <tr>\n      <th>292</th>\n      <td>57.0</td>\n      <td>0.0</td>\n      <td>3</td>\n      <td>140.0</td>\n      <td>241.0</td>\n      <td>0.0</td>\n      <td>0.0</td>\n      <td>123.0</td>\n      <td>1.0</td>\n      <td>0.2</td>\n      <td>2.0</td>\n      <td>0.0</td>\n      <td>2</td>\n      <td>1</td>\n    </tr>\n    <tr>\n      <th>293</th>\n      <td>45.0</td>\n      <td>1.0</td>\n      <td>0</td>\n      <td>110.0</td>\n      <td>264.0</td>\n      <td>0.0</td>\n      <td>0.0</td>\n      <td>132.0</td>\n      <td>0.0</td>\n      <td>1.2</td>\n      <td>2.0</td>\n      <td>0.0</td>\n      <td>2</td>\n      <td>1</td>\n    </tr>\n    <tr>\n      <th>294</th>\n      <td>68.0</td>\n      <td>1.0</td>\n      <td>3</td>\n      <td>144.0</td>\n      <td>193.0</td>\n      <td>1.0</td>\n      <td>0.0</td>\n      <td>141.0</td>\n      <td>0.0</td>\n      <td>3.4</td>\n      <td>2.0</td>\n      <td>2.0</td>\n      <td>2</td>\n      <td>1</td>\n    </tr>\n    <tr>\n      <th>295</th>\n      <td>57.0</td>\n      <td>1.0</td>\n      <td>3</td>\n      <td>130.0</td>\n      <td>131.0</td>\n      <td>0.0</td>\n      <td>0.0</td>\n      <td>115.0</td>\n      <td>1.0</td>\n      <td>1.2</td>\n      <td>2.0</td>\n      <td>1.0</td>\n      <td>2</td>\n      <td>1</td>\n    </tr>\n    <tr>\n      <th>296</th>\n      <td>57.0</td>\n      <td>0.0</td>\n      <td>1</td>\n      <td>130.0</td>\n      <td>236.0</td>\n      <td>0.0</td>\n      <td>2.0</td>\n      <td>174.0</td>\n      <td>0.0</td>\n      <td>0.0</td>\n      <td>2.0</td>\n      <td>1.0</td>\n      <td>0</td>\n      <td>1</td>\n    </tr>\n  </tbody>\n</table>\n<p>297 rows × 14 columns</p>\n</div>"
     },
     "execution_count": 4,
     "metadata": {},
     "output_type": "execute_result"
    }
   ],
   "source": [
    "data = pd.read_csv('heart_disease_risk.csv')\n",
    "categorical_columns = ['cp', 'thal']\n",
    "\n",
    "data = label_encoding(data, categorical_columns)\n",
    "data"
   ],
   "metadata": {
    "collapsed": false,
    "pycharm": {
     "name": "#%%\n"
    }
   }
  },
  {
   "cell_type": "markdown",
   "source": [
    "### Ordinal encoding\n",
    "Ordinal encoding is a method of encoding categorical variables into integers with order. It is used to facilitate analysis of data containing categorical variables."
   ],
   "metadata": {
    "collapsed": false
   }
  },
  {
   "cell_type": "code",
   "execution_count": 5,
   "outputs": [
    {
     "data": {
      "text/plain": "      age  sex                cp  trestbps   chol  fbs  restecg  thalach  \\\n0    63.0  1.0    typical angina     145.0  233.0  1.0      2.0    150.0   \n1    67.0  1.0      asymptomatic     160.0  286.0  0.0      2.0    108.0   \n2    67.0  1.0      asymptomatic     120.0  229.0  0.0      2.0    129.0   \n3    37.0  1.0  non-anginal pain     130.0  250.0  0.0      0.0    187.0   \n4    41.0  0.0   atypical angina     130.0  204.0  0.0      2.0    172.0   \n..    ...  ...               ...       ...    ...  ...      ...      ...   \n292  57.0  0.0      asymptomatic     140.0  241.0  0.0      0.0    123.0   \n293  45.0  1.0    typical angina     110.0  264.0  0.0      0.0    132.0   \n294  68.0  1.0      asymptomatic     144.0  193.0  1.0      0.0    141.0   \n295  57.0  1.0      asymptomatic     130.0  131.0  0.0      0.0    115.0   \n296  57.0  0.0   atypical angina     130.0  236.0  0.0      2.0    174.0   \n\n     exang  oldpeak  slope   ca               thal  decision  \n0      0.0      2.3    3.0  0.0       fixed defect         0  \n1      1.0      1.5    2.0  3.0             normal         1  \n2      1.0      2.6    2.0  2.0  reversible defect         1  \n3      0.0      3.5    3.0  0.0             normal         0  \n4      0.0      1.4    1.0  0.0             normal         0  \n..     ...      ...    ...  ...                ...       ...  \n292    1.0      0.2    2.0  0.0  reversible defect         1  \n293    0.0      1.2    2.0  0.0  reversible defect         1  \n294    0.0      3.4    2.0  2.0  reversible defect         1  \n295    1.0      1.2    2.0  1.0  reversible defect         1  \n296    0.0      0.0    2.0  1.0             normal         1  \n\n[297 rows x 14 columns]",
      "text/html": "<div>\n<style scoped>\n    .dataframe tbody tr th:only-of-type {\n        vertical-align: middle;\n    }\n\n    .dataframe tbody tr th {\n        vertical-align: top;\n    }\n\n    .dataframe thead th {\n        text-align: right;\n    }\n</style>\n<table border=\"1\" class=\"dataframe\">\n  <thead>\n    <tr style=\"text-align: right;\">\n      <th></th>\n      <th>age</th>\n      <th>sex</th>\n      <th>cp</th>\n      <th>trestbps</th>\n      <th>chol</th>\n      <th>fbs</th>\n      <th>restecg</th>\n      <th>thalach</th>\n      <th>exang</th>\n      <th>oldpeak</th>\n      <th>slope</th>\n      <th>ca</th>\n      <th>thal</th>\n      <th>decision</th>\n    </tr>\n  </thead>\n  <tbody>\n    <tr>\n      <th>0</th>\n      <td>63.0</td>\n      <td>1.0</td>\n      <td>typical angina</td>\n      <td>145.0</td>\n      <td>233.0</td>\n      <td>1.0</td>\n      <td>2.0</td>\n      <td>150.0</td>\n      <td>0.0</td>\n      <td>2.3</td>\n      <td>3.0</td>\n      <td>0.0</td>\n      <td>fixed defect</td>\n      <td>0</td>\n    </tr>\n    <tr>\n      <th>1</th>\n      <td>67.0</td>\n      <td>1.0</td>\n      <td>asymptomatic</td>\n      <td>160.0</td>\n      <td>286.0</td>\n      <td>0.0</td>\n      <td>2.0</td>\n      <td>108.0</td>\n      <td>1.0</td>\n      <td>1.5</td>\n      <td>2.0</td>\n      <td>3.0</td>\n      <td>normal</td>\n      <td>1</td>\n    </tr>\n    <tr>\n      <th>2</th>\n      <td>67.0</td>\n      <td>1.0</td>\n      <td>asymptomatic</td>\n      <td>120.0</td>\n      <td>229.0</td>\n      <td>0.0</td>\n      <td>2.0</td>\n      <td>129.0</td>\n      <td>1.0</td>\n      <td>2.6</td>\n      <td>2.0</td>\n      <td>2.0</td>\n      <td>reversible defect</td>\n      <td>1</td>\n    </tr>\n    <tr>\n      <th>3</th>\n      <td>37.0</td>\n      <td>1.0</td>\n      <td>non-anginal pain</td>\n      <td>130.0</td>\n      <td>250.0</td>\n      <td>0.0</td>\n      <td>0.0</td>\n      <td>187.0</td>\n      <td>0.0</td>\n      <td>3.5</td>\n      <td>3.0</td>\n      <td>0.0</td>\n      <td>normal</td>\n      <td>0</td>\n    </tr>\n    <tr>\n      <th>4</th>\n      <td>41.0</td>\n      <td>0.0</td>\n      <td>atypical angina</td>\n      <td>130.0</td>\n      <td>204.0</td>\n      <td>0.0</td>\n      <td>2.0</td>\n      <td>172.0</td>\n      <td>0.0</td>\n      <td>1.4</td>\n      <td>1.0</td>\n      <td>0.0</td>\n      <td>normal</td>\n      <td>0</td>\n    </tr>\n    <tr>\n      <th>...</th>\n      <td>...</td>\n      <td>...</td>\n      <td>...</td>\n      <td>...</td>\n      <td>...</td>\n      <td>...</td>\n      <td>...</td>\n      <td>...</td>\n      <td>...</td>\n      <td>...</td>\n      <td>...</td>\n      <td>...</td>\n      <td>...</td>\n      <td>...</td>\n    </tr>\n    <tr>\n      <th>292</th>\n      <td>57.0</td>\n      <td>0.0</td>\n      <td>asymptomatic</td>\n      <td>140.0</td>\n      <td>241.0</td>\n      <td>0.0</td>\n      <td>0.0</td>\n      <td>123.0</td>\n      <td>1.0</td>\n      <td>0.2</td>\n      <td>2.0</td>\n      <td>0.0</td>\n      <td>reversible defect</td>\n      <td>1</td>\n    </tr>\n    <tr>\n      <th>293</th>\n      <td>45.0</td>\n      <td>1.0</td>\n      <td>typical angina</td>\n      <td>110.0</td>\n      <td>264.0</td>\n      <td>0.0</td>\n      <td>0.0</td>\n      <td>132.0</td>\n      <td>0.0</td>\n      <td>1.2</td>\n      <td>2.0</td>\n      <td>0.0</td>\n      <td>reversible defect</td>\n      <td>1</td>\n    </tr>\n    <tr>\n      <th>294</th>\n      <td>68.0</td>\n      <td>1.0</td>\n      <td>asymptomatic</td>\n      <td>144.0</td>\n      <td>193.0</td>\n      <td>1.0</td>\n      <td>0.0</td>\n      <td>141.0</td>\n      <td>0.0</td>\n      <td>3.4</td>\n      <td>2.0</td>\n      <td>2.0</td>\n      <td>reversible defect</td>\n      <td>1</td>\n    </tr>\n    <tr>\n      <th>295</th>\n      <td>57.0</td>\n      <td>1.0</td>\n      <td>asymptomatic</td>\n      <td>130.0</td>\n      <td>131.0</td>\n      <td>0.0</td>\n      <td>0.0</td>\n      <td>115.0</td>\n      <td>1.0</td>\n      <td>1.2</td>\n      <td>2.0</td>\n      <td>1.0</td>\n      <td>reversible defect</td>\n      <td>1</td>\n    </tr>\n    <tr>\n      <th>296</th>\n      <td>57.0</td>\n      <td>0.0</td>\n      <td>atypical angina</td>\n      <td>130.0</td>\n      <td>236.0</td>\n      <td>0.0</td>\n      <td>2.0</td>\n      <td>174.0</td>\n      <td>0.0</td>\n      <td>0.0</td>\n      <td>2.0</td>\n      <td>1.0</td>\n      <td>normal</td>\n      <td>1</td>\n    </tr>\n  </tbody>\n</table>\n<p>297 rows × 14 columns</p>\n</div>"
     },
     "execution_count": 5,
     "metadata": {},
     "output_type": "execute_result"
    }
   ],
   "source": [
    "data = pd.read_csv('heart_disease_risk.csv')\n",
    "categorical_columns = ['cp', 'thal']\n",
    "ordinal_mapping = {\n",
    "    'cp': {1: 'typical angina', 2: 'atypical angina', 3: 'non-anginal pain', 4: 'asymptomatic'},\n",
    "    'thal': {3: 'normal', 6: 'fixed defect', 7: 'reversible defect'}\n",
    "}\n",
    "\n",
    "data = ordinal_encoding(data, categorical_columns, ordinal_mapping)\n",
    "data"
   ],
   "metadata": {
    "collapsed": false,
    "pycharm": {
     "name": "#%%\n"
    }
   }
  },
  {
   "cell_type": "code",
   "execution_count": 6,
   "outputs": [
    {
     "data": {
      "text/plain": "      age  sex   cp  trestbps   chol  fbs  restecg  thalach  exang  oldpeak  \\\n0    63.0  1.0  1.0     145.0  233.0  1.0      2.0    150.0    0.0      2.3   \n1    67.0  1.0  4.0     160.0  286.0  0.0      2.0    108.0    1.0      1.5   \n2    67.0  1.0  4.0     120.0  229.0  0.0      2.0    129.0    1.0      2.6   \n3    37.0  1.0  3.0     130.0  250.0  0.0      0.0    187.0    0.0      3.5   \n4    41.0  0.0  2.0     130.0  204.0  0.0      2.0    172.0    0.0      1.4   \n..    ...  ...  ...       ...    ...  ...      ...      ...    ...      ...   \n292  57.0  0.0  4.0     140.0  241.0  0.0      0.0    123.0    1.0      0.2   \n293  45.0  1.0  1.0     110.0  264.0  0.0      0.0    132.0    0.0      1.2   \n294  68.0  1.0  4.0     144.0  193.0  1.0      0.0    141.0    0.0      3.4   \n295  57.0  1.0  4.0     130.0  131.0  0.0      0.0    115.0    1.0      1.2   \n296  57.0  0.0  2.0     130.0  236.0  0.0      2.0    174.0    0.0      0.0   \n\n     slope   ca  thal  decision  \n0      3.0  0.0   6.0         0  \n1      2.0  3.0   3.0         1  \n2      2.0  2.0   7.0         1  \n3      3.0  0.0   3.0         0  \n4      1.0  0.0   3.0         0  \n..     ...  ...   ...       ...  \n292    2.0  0.0   7.0         1  \n293    2.0  0.0   7.0         1  \n294    2.0  2.0   7.0         1  \n295    2.0  1.0   7.0         1  \n296    2.0  1.0   3.0         1  \n\n[297 rows x 14 columns]",
      "text/html": "<div>\n<style scoped>\n    .dataframe tbody tr th:only-of-type {\n        vertical-align: middle;\n    }\n\n    .dataframe tbody tr th {\n        vertical-align: top;\n    }\n\n    .dataframe thead th {\n        text-align: right;\n    }\n</style>\n<table border=\"1\" class=\"dataframe\">\n  <thead>\n    <tr style=\"text-align: right;\">\n      <th></th>\n      <th>age</th>\n      <th>sex</th>\n      <th>cp</th>\n      <th>trestbps</th>\n      <th>chol</th>\n      <th>fbs</th>\n      <th>restecg</th>\n      <th>thalach</th>\n      <th>exang</th>\n      <th>oldpeak</th>\n      <th>slope</th>\n      <th>ca</th>\n      <th>thal</th>\n      <th>decision</th>\n    </tr>\n  </thead>\n  <tbody>\n    <tr>\n      <th>0</th>\n      <td>63.0</td>\n      <td>1.0</td>\n      <td>1.0</td>\n      <td>145.0</td>\n      <td>233.0</td>\n      <td>1.0</td>\n      <td>2.0</td>\n      <td>150.0</td>\n      <td>0.0</td>\n      <td>2.3</td>\n      <td>3.0</td>\n      <td>0.0</td>\n      <td>6.0</td>\n      <td>0</td>\n    </tr>\n    <tr>\n      <th>1</th>\n      <td>67.0</td>\n      <td>1.0</td>\n      <td>4.0</td>\n      <td>160.0</td>\n      <td>286.0</td>\n      <td>0.0</td>\n      <td>2.0</td>\n      <td>108.0</td>\n      <td>1.0</td>\n      <td>1.5</td>\n      <td>2.0</td>\n      <td>3.0</td>\n      <td>3.0</td>\n      <td>1</td>\n    </tr>\n    <tr>\n      <th>2</th>\n      <td>67.0</td>\n      <td>1.0</td>\n      <td>4.0</td>\n      <td>120.0</td>\n      <td>229.0</td>\n      <td>0.0</td>\n      <td>2.0</td>\n      <td>129.0</td>\n      <td>1.0</td>\n      <td>2.6</td>\n      <td>2.0</td>\n      <td>2.0</td>\n      <td>7.0</td>\n      <td>1</td>\n    </tr>\n    <tr>\n      <th>3</th>\n      <td>37.0</td>\n      <td>1.0</td>\n      <td>3.0</td>\n      <td>130.0</td>\n      <td>250.0</td>\n      <td>0.0</td>\n      <td>0.0</td>\n      <td>187.0</td>\n      <td>0.0</td>\n      <td>3.5</td>\n      <td>3.0</td>\n      <td>0.0</td>\n      <td>3.0</td>\n      <td>0</td>\n    </tr>\n    <tr>\n      <th>4</th>\n      <td>41.0</td>\n      <td>0.0</td>\n      <td>2.0</td>\n      <td>130.0</td>\n      <td>204.0</td>\n      <td>0.0</td>\n      <td>2.0</td>\n      <td>172.0</td>\n      <td>0.0</td>\n      <td>1.4</td>\n      <td>1.0</td>\n      <td>0.0</td>\n      <td>3.0</td>\n      <td>0</td>\n    </tr>\n    <tr>\n      <th>...</th>\n      <td>...</td>\n      <td>...</td>\n      <td>...</td>\n      <td>...</td>\n      <td>...</td>\n      <td>...</td>\n      <td>...</td>\n      <td>...</td>\n      <td>...</td>\n      <td>...</td>\n      <td>...</td>\n      <td>...</td>\n      <td>...</td>\n      <td>...</td>\n    </tr>\n    <tr>\n      <th>292</th>\n      <td>57.0</td>\n      <td>0.0</td>\n      <td>4.0</td>\n      <td>140.0</td>\n      <td>241.0</td>\n      <td>0.0</td>\n      <td>0.0</td>\n      <td>123.0</td>\n      <td>1.0</td>\n      <td>0.2</td>\n      <td>2.0</td>\n      <td>0.0</td>\n      <td>7.0</td>\n      <td>1</td>\n    </tr>\n    <tr>\n      <th>293</th>\n      <td>45.0</td>\n      <td>1.0</td>\n      <td>1.0</td>\n      <td>110.0</td>\n      <td>264.0</td>\n      <td>0.0</td>\n      <td>0.0</td>\n      <td>132.0</td>\n      <td>0.0</td>\n      <td>1.2</td>\n      <td>2.0</td>\n      <td>0.0</td>\n      <td>7.0</td>\n      <td>1</td>\n    </tr>\n    <tr>\n      <th>294</th>\n      <td>68.0</td>\n      <td>1.0</td>\n      <td>4.0</td>\n      <td>144.0</td>\n      <td>193.0</td>\n      <td>1.0</td>\n      <td>0.0</td>\n      <td>141.0</td>\n      <td>0.0</td>\n      <td>3.4</td>\n      <td>2.0</td>\n      <td>2.0</td>\n      <td>7.0</td>\n      <td>1</td>\n    </tr>\n    <tr>\n      <th>295</th>\n      <td>57.0</td>\n      <td>1.0</td>\n      <td>4.0</td>\n      <td>130.0</td>\n      <td>131.0</td>\n      <td>0.0</td>\n      <td>0.0</td>\n      <td>115.0</td>\n      <td>1.0</td>\n      <td>1.2</td>\n      <td>2.0</td>\n      <td>1.0</td>\n      <td>7.0</td>\n      <td>1</td>\n    </tr>\n    <tr>\n      <th>296</th>\n      <td>57.0</td>\n      <td>0.0</td>\n      <td>2.0</td>\n      <td>130.0</td>\n      <td>236.0</td>\n      <td>0.0</td>\n      <td>2.0</td>\n      <td>174.0</td>\n      <td>0.0</td>\n      <td>0.0</td>\n      <td>2.0</td>\n      <td>1.0</td>\n      <td>3.0</td>\n      <td>1</td>\n    </tr>\n  </tbody>\n</table>\n<p>297 rows × 14 columns</p>\n</div>"
     },
     "execution_count": 6,
     "metadata": {},
     "output_type": "execute_result"
    }
   ],
   "source": [
    "categorical_columns = ['cp', 'thal']\n",
    "ordinal_mapping = {\n",
    "    'cp': {'typical angina': 1.0, 'atypical angina': 2.0, 'non-anginal pain': 3.0, 'asymptomatic': 4.0},\n",
    "    'thal': {'normal': 3.0, 'fixed defect': 6.0, 'reversible defect': 7.0}\n",
    "}\n",
    "\n",
    "data = ordinal_encoding(data, categorical_columns, ordinal_mapping)\n",
    "data"
   ],
   "metadata": {
    "collapsed": false,
    "pycharm": {
     "name": "#%%\n"
    }
   }
  },
  {
   "cell_type": "markdown",
   "source": [
    "### Polynomial transformation\n",
    "This is a method used in feature engineering that involves generating new features by creating polynomial combinations of existing features. Polynomial transformation allows for the inclusion of nonlinear relationships between features and the target variable, which can improve the performance of a machine learning model when the data has a complex nonlinear structure."
   ],
   "metadata": {
    "collapsed": false
   }
  },
  {
   "cell_type": "code",
   "execution_count": 7,
   "outputs": [
    {
     "data": {
      "text/plain": "       x0  x0 * x1  x0 * x2  x0 * x3  x0 * x4  x0 * x5  x0 * x6  x0 * x7  \\\n0    63.0      1.0      1.0    145.0    233.0      1.0      2.0    150.0   \n1    67.0      1.0      4.0    160.0    286.0      0.0      2.0    108.0   \n2    67.0      1.0      4.0    120.0    229.0      0.0      2.0    129.0   \n3    37.0      1.0      3.0    130.0    250.0      0.0      0.0    187.0   \n4    41.0      0.0      2.0    130.0    204.0      0.0      2.0    172.0   \n..    ...      ...      ...      ...      ...      ...      ...      ...   \n292  57.0      0.0      4.0    140.0    241.0      0.0      0.0    123.0   \n293  45.0      1.0      1.0    110.0    264.0      0.0      0.0    132.0   \n294  68.0      1.0      4.0    144.0    193.0      1.0      0.0    141.0   \n295  57.0      1.0      4.0    130.0    131.0      0.0      0.0    115.0   \n296  57.0      0.0      2.0    130.0    236.0      0.0      2.0    174.0   \n\n     x0 * x8  x0 * x9  ...  x0**2 * x10  x0**2 * x10 * x11  x0**2 * x10 * x12  \\\n0        0.0      2.3  ...          9.0                0.0               18.0   \n1        1.0      1.5  ...          4.0                6.0                6.0   \n2        1.0      2.6  ...          4.0                4.0               14.0   \n3        0.0      3.5  ...          9.0                0.0                9.0   \n4        0.0      1.4  ...          1.0                0.0                3.0   \n..       ...      ...  ...          ...                ...                ...   \n292      1.0      0.2  ...          4.0                0.0               14.0   \n293      0.0      1.2  ...          4.0                0.0               14.0   \n294      0.0      3.4  ...          4.0                4.0               14.0   \n295      1.0      1.2  ...          4.0                2.0               14.0   \n296      0.0      0.0  ...          4.0                2.0                6.0   \n\n     x0**2 * x10 * x13  x0**2 * x11  x0**2 * x11 * x12  x0**2 * x11 * x13  \\\n0                  0.0          0.0                0.0                0.0   \n1                  2.0          9.0                9.0                3.0   \n2                  2.0          4.0               14.0                2.0   \n3                  0.0          0.0                0.0                0.0   \n4                  0.0          0.0                0.0                0.0   \n..                 ...          ...                ...                ...   \n292                2.0          0.0                0.0                0.0   \n293                2.0          0.0                0.0                0.0   \n294                2.0          4.0               14.0                2.0   \n295                2.0          1.0                7.0                1.0   \n296                2.0          1.0                3.0                1.0   \n\n     x0**2 * x12  x0**2 * x12 * x13  x0**2 * x13  \n0           36.0                0.0          0.0  \n1            9.0                3.0          1.0  \n2           49.0                7.0          1.0  \n3            9.0                0.0          0.0  \n4            9.0                0.0          0.0  \n..           ...                ...          ...  \n292         49.0                7.0          1.0  \n293         49.0                7.0          1.0  \n294         49.0                7.0          1.0  \n295         49.0                7.0          1.0  \n296          9.0                3.0          1.0  \n\n[297 rows x 119 columns]",
      "text/html": "<div>\n<style scoped>\n    .dataframe tbody tr th:only-of-type {\n        vertical-align: middle;\n    }\n\n    .dataframe tbody tr th {\n        vertical-align: top;\n    }\n\n    .dataframe thead th {\n        text-align: right;\n    }\n</style>\n<table border=\"1\" class=\"dataframe\">\n  <thead>\n    <tr style=\"text-align: right;\">\n      <th></th>\n      <th>x0</th>\n      <th>x0 * x1</th>\n      <th>x0 * x2</th>\n      <th>x0 * x3</th>\n      <th>x0 * x4</th>\n      <th>x0 * x5</th>\n      <th>x0 * x6</th>\n      <th>x0 * x7</th>\n      <th>x0 * x8</th>\n      <th>x0 * x9</th>\n      <th>...</th>\n      <th>x0**2 * x10</th>\n      <th>x0**2 * x10 * x11</th>\n      <th>x0**2 * x10 * x12</th>\n      <th>x0**2 * x10 * x13</th>\n      <th>x0**2 * x11</th>\n      <th>x0**2 * x11 * x12</th>\n      <th>x0**2 * x11 * x13</th>\n      <th>x0**2 * x12</th>\n      <th>x0**2 * x12 * x13</th>\n      <th>x0**2 * x13</th>\n    </tr>\n  </thead>\n  <tbody>\n    <tr>\n      <th>0</th>\n      <td>63.0</td>\n      <td>1.0</td>\n      <td>1.0</td>\n      <td>145.0</td>\n      <td>233.0</td>\n      <td>1.0</td>\n      <td>2.0</td>\n      <td>150.0</td>\n      <td>0.0</td>\n      <td>2.3</td>\n      <td>...</td>\n      <td>9.0</td>\n      <td>0.0</td>\n      <td>18.0</td>\n      <td>0.0</td>\n      <td>0.0</td>\n      <td>0.0</td>\n      <td>0.0</td>\n      <td>36.0</td>\n      <td>0.0</td>\n      <td>0.0</td>\n    </tr>\n    <tr>\n      <th>1</th>\n      <td>67.0</td>\n      <td>1.0</td>\n      <td>4.0</td>\n      <td>160.0</td>\n      <td>286.0</td>\n      <td>0.0</td>\n      <td>2.0</td>\n      <td>108.0</td>\n      <td>1.0</td>\n      <td>1.5</td>\n      <td>...</td>\n      <td>4.0</td>\n      <td>6.0</td>\n      <td>6.0</td>\n      <td>2.0</td>\n      <td>9.0</td>\n      <td>9.0</td>\n      <td>3.0</td>\n      <td>9.0</td>\n      <td>3.0</td>\n      <td>1.0</td>\n    </tr>\n    <tr>\n      <th>2</th>\n      <td>67.0</td>\n      <td>1.0</td>\n      <td>4.0</td>\n      <td>120.0</td>\n      <td>229.0</td>\n      <td>0.0</td>\n      <td>2.0</td>\n      <td>129.0</td>\n      <td>1.0</td>\n      <td>2.6</td>\n      <td>...</td>\n      <td>4.0</td>\n      <td>4.0</td>\n      <td>14.0</td>\n      <td>2.0</td>\n      <td>4.0</td>\n      <td>14.0</td>\n      <td>2.0</td>\n      <td>49.0</td>\n      <td>7.0</td>\n      <td>1.0</td>\n    </tr>\n    <tr>\n      <th>3</th>\n      <td>37.0</td>\n      <td>1.0</td>\n      <td>3.0</td>\n      <td>130.0</td>\n      <td>250.0</td>\n      <td>0.0</td>\n      <td>0.0</td>\n      <td>187.0</td>\n      <td>0.0</td>\n      <td>3.5</td>\n      <td>...</td>\n      <td>9.0</td>\n      <td>0.0</td>\n      <td>9.0</td>\n      <td>0.0</td>\n      <td>0.0</td>\n      <td>0.0</td>\n      <td>0.0</td>\n      <td>9.0</td>\n      <td>0.0</td>\n      <td>0.0</td>\n    </tr>\n    <tr>\n      <th>4</th>\n      <td>41.0</td>\n      <td>0.0</td>\n      <td>2.0</td>\n      <td>130.0</td>\n      <td>204.0</td>\n      <td>0.0</td>\n      <td>2.0</td>\n      <td>172.0</td>\n      <td>0.0</td>\n      <td>1.4</td>\n      <td>...</td>\n      <td>1.0</td>\n      <td>0.0</td>\n      <td>3.0</td>\n      <td>0.0</td>\n      <td>0.0</td>\n      <td>0.0</td>\n      <td>0.0</td>\n      <td>9.0</td>\n      <td>0.0</td>\n      <td>0.0</td>\n    </tr>\n    <tr>\n      <th>...</th>\n      <td>...</td>\n      <td>...</td>\n      <td>...</td>\n      <td>...</td>\n      <td>...</td>\n      <td>...</td>\n      <td>...</td>\n      <td>...</td>\n      <td>...</td>\n      <td>...</td>\n      <td>...</td>\n      <td>...</td>\n      <td>...</td>\n      <td>...</td>\n      <td>...</td>\n      <td>...</td>\n      <td>...</td>\n      <td>...</td>\n      <td>...</td>\n      <td>...</td>\n      <td>...</td>\n    </tr>\n    <tr>\n      <th>292</th>\n      <td>57.0</td>\n      <td>0.0</td>\n      <td>4.0</td>\n      <td>140.0</td>\n      <td>241.0</td>\n      <td>0.0</td>\n      <td>0.0</td>\n      <td>123.0</td>\n      <td>1.0</td>\n      <td>0.2</td>\n      <td>...</td>\n      <td>4.0</td>\n      <td>0.0</td>\n      <td>14.0</td>\n      <td>2.0</td>\n      <td>0.0</td>\n      <td>0.0</td>\n      <td>0.0</td>\n      <td>49.0</td>\n      <td>7.0</td>\n      <td>1.0</td>\n    </tr>\n    <tr>\n      <th>293</th>\n      <td>45.0</td>\n      <td>1.0</td>\n      <td>1.0</td>\n      <td>110.0</td>\n      <td>264.0</td>\n      <td>0.0</td>\n      <td>0.0</td>\n      <td>132.0</td>\n      <td>0.0</td>\n      <td>1.2</td>\n      <td>...</td>\n      <td>4.0</td>\n      <td>0.0</td>\n      <td>14.0</td>\n      <td>2.0</td>\n      <td>0.0</td>\n      <td>0.0</td>\n      <td>0.0</td>\n      <td>49.0</td>\n      <td>7.0</td>\n      <td>1.0</td>\n    </tr>\n    <tr>\n      <th>294</th>\n      <td>68.0</td>\n      <td>1.0</td>\n      <td>4.0</td>\n      <td>144.0</td>\n      <td>193.0</td>\n      <td>1.0</td>\n      <td>0.0</td>\n      <td>141.0</td>\n      <td>0.0</td>\n      <td>3.4</td>\n      <td>...</td>\n      <td>4.0</td>\n      <td>4.0</td>\n      <td>14.0</td>\n      <td>2.0</td>\n      <td>4.0</td>\n      <td>14.0</td>\n      <td>2.0</td>\n      <td>49.0</td>\n      <td>7.0</td>\n      <td>1.0</td>\n    </tr>\n    <tr>\n      <th>295</th>\n      <td>57.0</td>\n      <td>1.0</td>\n      <td>4.0</td>\n      <td>130.0</td>\n      <td>131.0</td>\n      <td>0.0</td>\n      <td>0.0</td>\n      <td>115.0</td>\n      <td>1.0</td>\n      <td>1.2</td>\n      <td>...</td>\n      <td>4.0</td>\n      <td>2.0</td>\n      <td>14.0</td>\n      <td>2.0</td>\n      <td>1.0</td>\n      <td>7.0</td>\n      <td>1.0</td>\n      <td>49.0</td>\n      <td>7.0</td>\n      <td>1.0</td>\n    </tr>\n    <tr>\n      <th>296</th>\n      <td>57.0</td>\n      <td>0.0</td>\n      <td>2.0</td>\n      <td>130.0</td>\n      <td>236.0</td>\n      <td>0.0</td>\n      <td>2.0</td>\n      <td>174.0</td>\n      <td>0.0</td>\n      <td>0.0</td>\n      <td>...</td>\n      <td>4.0</td>\n      <td>2.0</td>\n      <td>6.0</td>\n      <td>2.0</td>\n      <td>1.0</td>\n      <td>3.0</td>\n      <td>1.0</td>\n      <td>9.0</td>\n      <td>3.0</td>\n      <td>1.0</td>\n    </tr>\n  </tbody>\n</table>\n<p>297 rows × 119 columns</p>\n</div>"
     },
     "execution_count": 7,
     "metadata": {},
     "output_type": "execute_result"
    }
   ],
   "source": [
    "data = pd.read_csv('heart_disease_risk.csv')\n",
    "degree = 2\n",
    "\n",
    "data = create_polynomial_features(data, degree)\n",
    "data"
   ],
   "metadata": {
    "collapsed": false,
    "pycharm": {
     "name": "#%%\n"
    }
   }
  },
  {
   "cell_type": "markdown",
   "source": [
    "### Interaction features\n",
    "Interaction feature creation involves creating new features by combining and multiplying existing features. This allows you to account for interactions between features that can have a significant impact on the prediction result. Creating interaction features can help catch non-linear relationships between variables that were not included in the original feature set."
   ],
   "metadata": {
    "collapsed": false
   }
  },
  {
   "cell_type": "code",
   "execution_count": 8,
   "outputs": [
    {
     "data": {
      "text/plain": "      age  sex   cp  trestbps   chol  fbs  restecg  thalach  exang  oldpeak  \\\n0    63.0  1.0  1.0     145.0  233.0  1.0      2.0    150.0    0.0      2.3   \n1    67.0  1.0  4.0     160.0  286.0  0.0      2.0    108.0    1.0      1.5   \n2    67.0  1.0  4.0     120.0  229.0  0.0      2.0    129.0    1.0      2.6   \n3    37.0  1.0  3.0     130.0  250.0  0.0      0.0    187.0    0.0      3.5   \n4    41.0  0.0  2.0     130.0  204.0  0.0      2.0    172.0    0.0      1.4   \n..    ...  ...  ...       ...    ...  ...      ...      ...    ...      ...   \n292  57.0  0.0  4.0     140.0  241.0  0.0      0.0    123.0    1.0      0.2   \n293  45.0  1.0  1.0     110.0  264.0  0.0      0.0    132.0    0.0      1.2   \n294  68.0  1.0  4.0     144.0  193.0  1.0      0.0    141.0    0.0      3.4   \n295  57.0  1.0  4.0     130.0  131.0  0.0      0.0    115.0    1.0      1.2   \n296  57.0  0.0  2.0     130.0  236.0  0.0      2.0    174.0    0.0      0.0   \n\n     ...  oldpeak*slope  oldpeak*ca  oldpeak*thal  oldpeak*decision  slope*ca  \\\n0    ...            6.9         0.0          13.8               0.0       0.0   \n1    ...            3.0         4.5           4.5               1.5       6.0   \n2    ...            5.2         5.2          18.2               2.6       4.0   \n3    ...           10.5         0.0          10.5               0.0       0.0   \n4    ...            1.4         0.0           4.2               0.0       0.0   \n..   ...            ...         ...           ...               ...       ...   \n292  ...            0.4         0.0           1.4               0.2       0.0   \n293  ...            2.4         0.0           8.4               1.2       0.0   \n294  ...            6.8         6.8          23.8               3.4       4.0   \n295  ...            2.4         1.2           8.4               1.2       2.0   \n296  ...            0.0         0.0           0.0               0.0       2.0   \n\n     slope*thal  slope*decision  ca*thal  ca*decision  thal*decision  \n0          18.0             0.0      0.0          0.0            0.0  \n1           6.0             2.0      9.0          3.0            3.0  \n2          14.0             2.0     14.0          2.0            7.0  \n3           9.0             0.0      0.0          0.0            0.0  \n4           3.0             0.0      0.0          0.0            0.0  \n..          ...             ...      ...          ...            ...  \n292        14.0             2.0      0.0          0.0            7.0  \n293        14.0             2.0      0.0          0.0            7.0  \n294        14.0             2.0     14.0          2.0            7.0  \n295        14.0             2.0      7.0          1.0            7.0  \n296         6.0             2.0      3.0          1.0            3.0  \n\n[297 rows x 105 columns]",
      "text/html": "<div>\n<style scoped>\n    .dataframe tbody tr th:only-of-type {\n        vertical-align: middle;\n    }\n\n    .dataframe tbody tr th {\n        vertical-align: top;\n    }\n\n    .dataframe thead th {\n        text-align: right;\n    }\n</style>\n<table border=\"1\" class=\"dataframe\">\n  <thead>\n    <tr style=\"text-align: right;\">\n      <th></th>\n      <th>age</th>\n      <th>sex</th>\n      <th>cp</th>\n      <th>trestbps</th>\n      <th>chol</th>\n      <th>fbs</th>\n      <th>restecg</th>\n      <th>thalach</th>\n      <th>exang</th>\n      <th>oldpeak</th>\n      <th>...</th>\n      <th>oldpeak*slope</th>\n      <th>oldpeak*ca</th>\n      <th>oldpeak*thal</th>\n      <th>oldpeak*decision</th>\n      <th>slope*ca</th>\n      <th>slope*thal</th>\n      <th>slope*decision</th>\n      <th>ca*thal</th>\n      <th>ca*decision</th>\n      <th>thal*decision</th>\n    </tr>\n  </thead>\n  <tbody>\n    <tr>\n      <th>0</th>\n      <td>63.0</td>\n      <td>1.0</td>\n      <td>1.0</td>\n      <td>145.0</td>\n      <td>233.0</td>\n      <td>1.0</td>\n      <td>2.0</td>\n      <td>150.0</td>\n      <td>0.0</td>\n      <td>2.3</td>\n      <td>...</td>\n      <td>6.9</td>\n      <td>0.0</td>\n      <td>13.8</td>\n      <td>0.0</td>\n      <td>0.0</td>\n      <td>18.0</td>\n      <td>0.0</td>\n      <td>0.0</td>\n      <td>0.0</td>\n      <td>0.0</td>\n    </tr>\n    <tr>\n      <th>1</th>\n      <td>67.0</td>\n      <td>1.0</td>\n      <td>4.0</td>\n      <td>160.0</td>\n      <td>286.0</td>\n      <td>0.0</td>\n      <td>2.0</td>\n      <td>108.0</td>\n      <td>1.0</td>\n      <td>1.5</td>\n      <td>...</td>\n      <td>3.0</td>\n      <td>4.5</td>\n      <td>4.5</td>\n      <td>1.5</td>\n      <td>6.0</td>\n      <td>6.0</td>\n      <td>2.0</td>\n      <td>9.0</td>\n      <td>3.0</td>\n      <td>3.0</td>\n    </tr>\n    <tr>\n      <th>2</th>\n      <td>67.0</td>\n      <td>1.0</td>\n      <td>4.0</td>\n      <td>120.0</td>\n      <td>229.0</td>\n      <td>0.0</td>\n      <td>2.0</td>\n      <td>129.0</td>\n      <td>1.0</td>\n      <td>2.6</td>\n      <td>...</td>\n      <td>5.2</td>\n      <td>5.2</td>\n      <td>18.2</td>\n      <td>2.6</td>\n      <td>4.0</td>\n      <td>14.0</td>\n      <td>2.0</td>\n      <td>14.0</td>\n      <td>2.0</td>\n      <td>7.0</td>\n    </tr>\n    <tr>\n      <th>3</th>\n      <td>37.0</td>\n      <td>1.0</td>\n      <td>3.0</td>\n      <td>130.0</td>\n      <td>250.0</td>\n      <td>0.0</td>\n      <td>0.0</td>\n      <td>187.0</td>\n      <td>0.0</td>\n      <td>3.5</td>\n      <td>...</td>\n      <td>10.5</td>\n      <td>0.0</td>\n      <td>10.5</td>\n      <td>0.0</td>\n      <td>0.0</td>\n      <td>9.0</td>\n      <td>0.0</td>\n      <td>0.0</td>\n      <td>0.0</td>\n      <td>0.0</td>\n    </tr>\n    <tr>\n      <th>4</th>\n      <td>41.0</td>\n      <td>0.0</td>\n      <td>2.0</td>\n      <td>130.0</td>\n      <td>204.0</td>\n      <td>0.0</td>\n      <td>2.0</td>\n      <td>172.0</td>\n      <td>0.0</td>\n      <td>1.4</td>\n      <td>...</td>\n      <td>1.4</td>\n      <td>0.0</td>\n      <td>4.2</td>\n      <td>0.0</td>\n      <td>0.0</td>\n      <td>3.0</td>\n      <td>0.0</td>\n      <td>0.0</td>\n      <td>0.0</td>\n      <td>0.0</td>\n    </tr>\n    <tr>\n      <th>...</th>\n      <td>...</td>\n      <td>...</td>\n      <td>...</td>\n      <td>...</td>\n      <td>...</td>\n      <td>...</td>\n      <td>...</td>\n      <td>...</td>\n      <td>...</td>\n      <td>...</td>\n      <td>...</td>\n      <td>...</td>\n      <td>...</td>\n      <td>...</td>\n      <td>...</td>\n      <td>...</td>\n      <td>...</td>\n      <td>...</td>\n      <td>...</td>\n      <td>...</td>\n      <td>...</td>\n    </tr>\n    <tr>\n      <th>292</th>\n      <td>57.0</td>\n      <td>0.0</td>\n      <td>4.0</td>\n      <td>140.0</td>\n      <td>241.0</td>\n      <td>0.0</td>\n      <td>0.0</td>\n      <td>123.0</td>\n      <td>1.0</td>\n      <td>0.2</td>\n      <td>...</td>\n      <td>0.4</td>\n      <td>0.0</td>\n      <td>1.4</td>\n      <td>0.2</td>\n      <td>0.0</td>\n      <td>14.0</td>\n      <td>2.0</td>\n      <td>0.0</td>\n      <td>0.0</td>\n      <td>7.0</td>\n    </tr>\n    <tr>\n      <th>293</th>\n      <td>45.0</td>\n      <td>1.0</td>\n      <td>1.0</td>\n      <td>110.0</td>\n      <td>264.0</td>\n      <td>0.0</td>\n      <td>0.0</td>\n      <td>132.0</td>\n      <td>0.0</td>\n      <td>1.2</td>\n      <td>...</td>\n      <td>2.4</td>\n      <td>0.0</td>\n      <td>8.4</td>\n      <td>1.2</td>\n      <td>0.0</td>\n      <td>14.0</td>\n      <td>2.0</td>\n      <td>0.0</td>\n      <td>0.0</td>\n      <td>7.0</td>\n    </tr>\n    <tr>\n      <th>294</th>\n      <td>68.0</td>\n      <td>1.0</td>\n      <td>4.0</td>\n      <td>144.0</td>\n      <td>193.0</td>\n      <td>1.0</td>\n      <td>0.0</td>\n      <td>141.0</td>\n      <td>0.0</td>\n      <td>3.4</td>\n      <td>...</td>\n      <td>6.8</td>\n      <td>6.8</td>\n      <td>23.8</td>\n      <td>3.4</td>\n      <td>4.0</td>\n      <td>14.0</td>\n      <td>2.0</td>\n      <td>14.0</td>\n      <td>2.0</td>\n      <td>7.0</td>\n    </tr>\n    <tr>\n      <th>295</th>\n      <td>57.0</td>\n      <td>1.0</td>\n      <td>4.0</td>\n      <td>130.0</td>\n      <td>131.0</td>\n      <td>0.0</td>\n      <td>0.0</td>\n      <td>115.0</td>\n      <td>1.0</td>\n      <td>1.2</td>\n      <td>...</td>\n      <td>2.4</td>\n      <td>1.2</td>\n      <td>8.4</td>\n      <td>1.2</td>\n      <td>2.0</td>\n      <td>14.0</td>\n      <td>2.0</td>\n      <td>7.0</td>\n      <td>1.0</td>\n      <td>7.0</td>\n    </tr>\n    <tr>\n      <th>296</th>\n      <td>57.0</td>\n      <td>0.0</td>\n      <td>2.0</td>\n      <td>130.0</td>\n      <td>236.0</td>\n      <td>0.0</td>\n      <td>2.0</td>\n      <td>174.0</td>\n      <td>0.0</td>\n      <td>0.0</td>\n      <td>...</td>\n      <td>0.0</td>\n      <td>0.0</td>\n      <td>0.0</td>\n      <td>0.0</td>\n      <td>2.0</td>\n      <td>6.0</td>\n      <td>2.0</td>\n      <td>3.0</td>\n      <td>1.0</td>\n      <td>3.0</td>\n    </tr>\n  </tbody>\n</table>\n<p>297 rows × 105 columns</p>\n</div>"
     },
     "execution_count": 8,
     "metadata": {},
     "output_type": "execute_result"
    }
   ],
   "source": [
    "data = pd.read_csv('heart_disease_risk.csv')\n",
    "\n",
    "data = create_interaction_features(data)\n",
    "data"
   ],
   "metadata": {
    "collapsed": false,
    "pycharm": {
     "name": "#%%\n"
    }
   }
  },
  {
   "cell_type": "markdown",
   "source": [
    "### Standardization of data features\n",
    "Standardization is the technique of transforming features so that they have a mean value of zero and a standard deviation equal to one. This operation is intended to match the distribution of features to a normal distribution, which can be useful in many statistical analyses and machine learning modeling.\n",
    "First, mean values and standard deviations are calculated for each characteristic in the data set. Then the data is transformed by subtracting the mean and dividing by the standard deviation.\n",
    "Feature standardization can have many applications, such as improving the convergence of machine learning algorithms, removing skewness in feature distributions, eliminating the impact of scaling on model performance, and facilitating comparisons of features with different units and scales."
   ],
   "metadata": {
    "collapsed": false
   }
  },
  {
   "cell_type": "code",
   "execution_count": 9,
   "outputs": [
    {
     "data": {
      "text/plain": "          age       sex        cp  trestbps      chol       fbs   restecg  \\\n0    0.936181  0.691095 -2.240629  0.750380 -0.276443  2.430427  1.010199   \n1    1.378929  0.691095  0.873880  1.596266  0.744555 -0.411450  1.010199   \n2    1.378929  0.691095  0.873880 -0.659431 -0.353500 -0.411450  1.010199   \n3   -1.941680  0.691095 -0.164289 -0.095506  0.051047 -0.411450 -1.003419   \n4   -1.498933 -1.446980 -1.202459 -0.095506 -0.835103 -0.411450  1.010199   \n..        ...       ...       ...       ...       ...       ...       ...   \n292  0.272059 -1.446980  0.873880  0.468418 -0.122330 -0.411450 -1.003419   \n293 -1.056185  0.691095 -2.240629 -1.223355  0.320744 -0.411450 -1.003419   \n294  1.489615  0.691095  0.873880  0.693988 -1.047008  2.430427 -1.003419   \n295  0.272059  0.691095  0.873880 -0.095506 -2.241384 -0.411450 -1.003419   \n296  0.272059 -1.446980 -1.202459 -0.095506 -0.218651 -0.411450  1.010199   \n\n      thalach     exang   oldpeak     slope        ca      thal  decision  \n0    0.017494 -0.696419  1.068965  2.264145 -0.721976  0.655877 -0.925338  \n1   -1.816334  1.435916  0.381773  0.643781  2.478425 -0.894220  1.080686  \n2   -0.899420  1.435916  1.326662  0.643781  1.411625  1.172577  1.080686  \n3    1.633010 -0.696419  2.099753  2.264145 -0.721976 -0.894220 -0.925338  \n4    0.978071 -0.696419  0.295874 -0.976583 -0.721976 -0.894220 -0.925338  \n..        ...       ...       ...       ...       ...       ...       ...  \n292 -1.161395  1.435916 -0.734914  0.643781 -0.721976  1.172577  1.080686  \n293 -0.768432 -0.696419  0.124076  0.643781 -0.721976  1.172577  1.080686  \n294 -0.375469 -0.696419  2.013854  0.643781  1.411625  1.172577  1.080686  \n295 -1.510696  1.435916  0.124076  0.643781  0.344824  1.172577  1.080686  \n296  1.065396 -0.696419 -0.906712  0.643781  0.344824 -0.894220  1.080686  \n\n[297 rows x 14 columns]",
      "text/html": "<div>\n<style scoped>\n    .dataframe tbody tr th:only-of-type {\n        vertical-align: middle;\n    }\n\n    .dataframe tbody tr th {\n        vertical-align: top;\n    }\n\n    .dataframe thead th {\n        text-align: right;\n    }\n</style>\n<table border=\"1\" class=\"dataframe\">\n  <thead>\n    <tr style=\"text-align: right;\">\n      <th></th>\n      <th>age</th>\n      <th>sex</th>\n      <th>cp</th>\n      <th>trestbps</th>\n      <th>chol</th>\n      <th>fbs</th>\n      <th>restecg</th>\n      <th>thalach</th>\n      <th>exang</th>\n      <th>oldpeak</th>\n      <th>slope</th>\n      <th>ca</th>\n      <th>thal</th>\n      <th>decision</th>\n    </tr>\n  </thead>\n  <tbody>\n    <tr>\n      <th>0</th>\n      <td>0.936181</td>\n      <td>0.691095</td>\n      <td>-2.240629</td>\n      <td>0.750380</td>\n      <td>-0.276443</td>\n      <td>2.430427</td>\n      <td>1.010199</td>\n      <td>0.017494</td>\n      <td>-0.696419</td>\n      <td>1.068965</td>\n      <td>2.264145</td>\n      <td>-0.721976</td>\n      <td>0.655877</td>\n      <td>-0.925338</td>\n    </tr>\n    <tr>\n      <th>1</th>\n      <td>1.378929</td>\n      <td>0.691095</td>\n      <td>0.873880</td>\n      <td>1.596266</td>\n      <td>0.744555</td>\n      <td>-0.411450</td>\n      <td>1.010199</td>\n      <td>-1.816334</td>\n      <td>1.435916</td>\n      <td>0.381773</td>\n      <td>0.643781</td>\n      <td>2.478425</td>\n      <td>-0.894220</td>\n      <td>1.080686</td>\n    </tr>\n    <tr>\n      <th>2</th>\n      <td>1.378929</td>\n      <td>0.691095</td>\n      <td>0.873880</td>\n      <td>-0.659431</td>\n      <td>-0.353500</td>\n      <td>-0.411450</td>\n      <td>1.010199</td>\n      <td>-0.899420</td>\n      <td>1.435916</td>\n      <td>1.326662</td>\n      <td>0.643781</td>\n      <td>1.411625</td>\n      <td>1.172577</td>\n      <td>1.080686</td>\n    </tr>\n    <tr>\n      <th>3</th>\n      <td>-1.941680</td>\n      <td>0.691095</td>\n      <td>-0.164289</td>\n      <td>-0.095506</td>\n      <td>0.051047</td>\n      <td>-0.411450</td>\n      <td>-1.003419</td>\n      <td>1.633010</td>\n      <td>-0.696419</td>\n      <td>2.099753</td>\n      <td>2.264145</td>\n      <td>-0.721976</td>\n      <td>-0.894220</td>\n      <td>-0.925338</td>\n    </tr>\n    <tr>\n      <th>4</th>\n      <td>-1.498933</td>\n      <td>-1.446980</td>\n      <td>-1.202459</td>\n      <td>-0.095506</td>\n      <td>-0.835103</td>\n      <td>-0.411450</td>\n      <td>1.010199</td>\n      <td>0.978071</td>\n      <td>-0.696419</td>\n      <td>0.295874</td>\n      <td>-0.976583</td>\n      <td>-0.721976</td>\n      <td>-0.894220</td>\n      <td>-0.925338</td>\n    </tr>\n    <tr>\n      <th>...</th>\n      <td>...</td>\n      <td>...</td>\n      <td>...</td>\n      <td>...</td>\n      <td>...</td>\n      <td>...</td>\n      <td>...</td>\n      <td>...</td>\n      <td>...</td>\n      <td>...</td>\n      <td>...</td>\n      <td>...</td>\n      <td>...</td>\n      <td>...</td>\n    </tr>\n    <tr>\n      <th>292</th>\n      <td>0.272059</td>\n      <td>-1.446980</td>\n      <td>0.873880</td>\n      <td>0.468418</td>\n      <td>-0.122330</td>\n      <td>-0.411450</td>\n      <td>-1.003419</td>\n      <td>-1.161395</td>\n      <td>1.435916</td>\n      <td>-0.734914</td>\n      <td>0.643781</td>\n      <td>-0.721976</td>\n      <td>1.172577</td>\n      <td>1.080686</td>\n    </tr>\n    <tr>\n      <th>293</th>\n      <td>-1.056185</td>\n      <td>0.691095</td>\n      <td>-2.240629</td>\n      <td>-1.223355</td>\n      <td>0.320744</td>\n      <td>-0.411450</td>\n      <td>-1.003419</td>\n      <td>-0.768432</td>\n      <td>-0.696419</td>\n      <td>0.124076</td>\n      <td>0.643781</td>\n      <td>-0.721976</td>\n      <td>1.172577</td>\n      <td>1.080686</td>\n    </tr>\n    <tr>\n      <th>294</th>\n      <td>1.489615</td>\n      <td>0.691095</td>\n      <td>0.873880</td>\n      <td>0.693988</td>\n      <td>-1.047008</td>\n      <td>2.430427</td>\n      <td>-1.003419</td>\n      <td>-0.375469</td>\n      <td>-0.696419</td>\n      <td>2.013854</td>\n      <td>0.643781</td>\n      <td>1.411625</td>\n      <td>1.172577</td>\n      <td>1.080686</td>\n    </tr>\n    <tr>\n      <th>295</th>\n      <td>0.272059</td>\n      <td>0.691095</td>\n      <td>0.873880</td>\n      <td>-0.095506</td>\n      <td>-2.241384</td>\n      <td>-0.411450</td>\n      <td>-1.003419</td>\n      <td>-1.510696</td>\n      <td>1.435916</td>\n      <td>0.124076</td>\n      <td>0.643781</td>\n      <td>0.344824</td>\n      <td>1.172577</td>\n      <td>1.080686</td>\n    </tr>\n    <tr>\n      <th>296</th>\n      <td>0.272059</td>\n      <td>-1.446980</td>\n      <td>-1.202459</td>\n      <td>-0.095506</td>\n      <td>-0.218651</td>\n      <td>-0.411450</td>\n      <td>1.010199</td>\n      <td>1.065396</td>\n      <td>-0.696419</td>\n      <td>-0.906712</td>\n      <td>0.643781</td>\n      <td>0.344824</td>\n      <td>-0.894220</td>\n      <td>1.080686</td>\n    </tr>\n  </tbody>\n</table>\n<p>297 rows × 14 columns</p>\n</div>"
     },
     "execution_count": 9,
     "metadata": {},
     "output_type": "execute_result"
    }
   ],
   "source": [
    "data = pd.read_csv('heart_disease_risk.csv')\n",
    "\n",
    "data = standardize_features(data)\n",
    "data"
   ],
   "metadata": {
    "collapsed": false,
    "pycharm": {
     "name": "#%%\n"
    }
   }
  },
  {
   "cell_type": "markdown",
   "source": [
    "### Normalize data features\n",
    "\n",
    "Normalization uses the MinMaxScaler object from the scikit-learn library, which transforms data so that feature values are scaled to a range from 0 to 1. Feature normalization involves scaling feature values so that the smallest feature value is 0 and the largest feature value is 1. In practice, feature normalization can be applied prior to data analysis, such as classification or regression, to ensure consistency and comparability of features. Feature normalization has several important applications:\n",
    "- it preserves the proportion between feature values, which is important for distance-based learning algorithms (such as k-nearest neighbor algorithms)\n",
    "- eliminates the effect of skewness in the distribution of features, so you can better compare and interpret the data\n",
    "- is particularly useful for algorithms that are sensitive to the scale of the data, such as some numerical optimization methods"
   ],
   "metadata": {
    "collapsed": false
   }
  },
  {
   "cell_type": "code",
   "execution_count": 10,
   "outputs": [
    {
     "data": {
      "text/plain": "          age  sex        cp  trestbps      chol  fbs  restecg   thalach  \\\n0    0.708333  1.0  0.000000  0.481132  0.244292  1.0      1.0  0.603053   \n1    0.791667  1.0  1.000000  0.622642  0.365297  0.0      1.0  0.282443   \n2    0.791667  1.0  1.000000  0.245283  0.235160  0.0      1.0  0.442748   \n3    0.166667  1.0  0.666667  0.339623  0.283105  0.0      0.0  0.885496   \n4    0.250000  0.0  0.333333  0.339623  0.178082  0.0      1.0  0.770992   \n..        ...  ...       ...       ...       ...  ...      ...       ...   \n292  0.583333  0.0  1.000000  0.433962  0.262557  0.0      0.0  0.396947   \n293  0.333333  1.0  0.000000  0.150943  0.315068  0.0      0.0  0.465649   \n294  0.812500  1.0  1.000000  0.471698  0.152968  1.0      0.0  0.534351   \n295  0.583333  1.0  1.000000  0.339623  0.011416  0.0      0.0  0.335878   \n296  0.583333  0.0  0.333333  0.339623  0.251142  0.0      1.0  0.786260   \n\n     exang   oldpeak  slope        ca  thal  decision  \n0      0.0  0.370968    1.0  0.000000  0.75       0.0  \n1      1.0  0.241935    0.5  1.000000  0.00       1.0  \n2      1.0  0.419355    0.5  0.666667  1.00       1.0  \n3      0.0  0.564516    1.0  0.000000  0.00       0.0  \n4      0.0  0.225806    0.0  0.000000  0.00       0.0  \n..     ...       ...    ...       ...   ...       ...  \n292    1.0  0.032258    0.5  0.000000  1.00       1.0  \n293    0.0  0.193548    0.5  0.000000  1.00       1.0  \n294    0.0  0.548387    0.5  0.666667  1.00       1.0  \n295    1.0  0.193548    0.5  0.333333  1.00       1.0  \n296    0.0  0.000000    0.5  0.333333  0.00       1.0  \n\n[297 rows x 14 columns]",
      "text/html": "<div>\n<style scoped>\n    .dataframe tbody tr th:only-of-type {\n        vertical-align: middle;\n    }\n\n    .dataframe tbody tr th {\n        vertical-align: top;\n    }\n\n    .dataframe thead th {\n        text-align: right;\n    }\n</style>\n<table border=\"1\" class=\"dataframe\">\n  <thead>\n    <tr style=\"text-align: right;\">\n      <th></th>\n      <th>age</th>\n      <th>sex</th>\n      <th>cp</th>\n      <th>trestbps</th>\n      <th>chol</th>\n      <th>fbs</th>\n      <th>restecg</th>\n      <th>thalach</th>\n      <th>exang</th>\n      <th>oldpeak</th>\n      <th>slope</th>\n      <th>ca</th>\n      <th>thal</th>\n      <th>decision</th>\n    </tr>\n  </thead>\n  <tbody>\n    <tr>\n      <th>0</th>\n      <td>0.708333</td>\n      <td>1.0</td>\n      <td>0.000000</td>\n      <td>0.481132</td>\n      <td>0.244292</td>\n      <td>1.0</td>\n      <td>1.0</td>\n      <td>0.603053</td>\n      <td>0.0</td>\n      <td>0.370968</td>\n      <td>1.0</td>\n      <td>0.000000</td>\n      <td>0.75</td>\n      <td>0.0</td>\n    </tr>\n    <tr>\n      <th>1</th>\n      <td>0.791667</td>\n      <td>1.0</td>\n      <td>1.000000</td>\n      <td>0.622642</td>\n      <td>0.365297</td>\n      <td>0.0</td>\n      <td>1.0</td>\n      <td>0.282443</td>\n      <td>1.0</td>\n      <td>0.241935</td>\n      <td>0.5</td>\n      <td>1.000000</td>\n      <td>0.00</td>\n      <td>1.0</td>\n    </tr>\n    <tr>\n      <th>2</th>\n      <td>0.791667</td>\n      <td>1.0</td>\n      <td>1.000000</td>\n      <td>0.245283</td>\n      <td>0.235160</td>\n      <td>0.0</td>\n      <td>1.0</td>\n      <td>0.442748</td>\n      <td>1.0</td>\n      <td>0.419355</td>\n      <td>0.5</td>\n      <td>0.666667</td>\n      <td>1.00</td>\n      <td>1.0</td>\n    </tr>\n    <tr>\n      <th>3</th>\n      <td>0.166667</td>\n      <td>1.0</td>\n      <td>0.666667</td>\n      <td>0.339623</td>\n      <td>0.283105</td>\n      <td>0.0</td>\n      <td>0.0</td>\n      <td>0.885496</td>\n      <td>0.0</td>\n      <td>0.564516</td>\n      <td>1.0</td>\n      <td>0.000000</td>\n      <td>0.00</td>\n      <td>0.0</td>\n    </tr>\n    <tr>\n      <th>4</th>\n      <td>0.250000</td>\n      <td>0.0</td>\n      <td>0.333333</td>\n      <td>0.339623</td>\n      <td>0.178082</td>\n      <td>0.0</td>\n      <td>1.0</td>\n      <td>0.770992</td>\n      <td>0.0</td>\n      <td>0.225806</td>\n      <td>0.0</td>\n      <td>0.000000</td>\n      <td>0.00</td>\n      <td>0.0</td>\n    </tr>\n    <tr>\n      <th>...</th>\n      <td>...</td>\n      <td>...</td>\n      <td>...</td>\n      <td>...</td>\n      <td>...</td>\n      <td>...</td>\n      <td>...</td>\n      <td>...</td>\n      <td>...</td>\n      <td>...</td>\n      <td>...</td>\n      <td>...</td>\n      <td>...</td>\n      <td>...</td>\n    </tr>\n    <tr>\n      <th>292</th>\n      <td>0.583333</td>\n      <td>0.0</td>\n      <td>1.000000</td>\n      <td>0.433962</td>\n      <td>0.262557</td>\n      <td>0.0</td>\n      <td>0.0</td>\n      <td>0.396947</td>\n      <td>1.0</td>\n      <td>0.032258</td>\n      <td>0.5</td>\n      <td>0.000000</td>\n      <td>1.00</td>\n      <td>1.0</td>\n    </tr>\n    <tr>\n      <th>293</th>\n      <td>0.333333</td>\n      <td>1.0</td>\n      <td>0.000000</td>\n      <td>0.150943</td>\n      <td>0.315068</td>\n      <td>0.0</td>\n      <td>0.0</td>\n      <td>0.465649</td>\n      <td>0.0</td>\n      <td>0.193548</td>\n      <td>0.5</td>\n      <td>0.000000</td>\n      <td>1.00</td>\n      <td>1.0</td>\n    </tr>\n    <tr>\n      <th>294</th>\n      <td>0.812500</td>\n      <td>1.0</td>\n      <td>1.000000</td>\n      <td>0.471698</td>\n      <td>0.152968</td>\n      <td>1.0</td>\n      <td>0.0</td>\n      <td>0.534351</td>\n      <td>0.0</td>\n      <td>0.548387</td>\n      <td>0.5</td>\n      <td>0.666667</td>\n      <td>1.00</td>\n      <td>1.0</td>\n    </tr>\n    <tr>\n      <th>295</th>\n      <td>0.583333</td>\n      <td>1.0</td>\n      <td>1.000000</td>\n      <td>0.339623</td>\n      <td>0.011416</td>\n      <td>0.0</td>\n      <td>0.0</td>\n      <td>0.335878</td>\n      <td>1.0</td>\n      <td>0.193548</td>\n      <td>0.5</td>\n      <td>0.333333</td>\n      <td>1.00</td>\n      <td>1.0</td>\n    </tr>\n    <tr>\n      <th>296</th>\n      <td>0.583333</td>\n      <td>0.0</td>\n      <td>0.333333</td>\n      <td>0.339623</td>\n      <td>0.251142</td>\n      <td>0.0</td>\n      <td>1.0</td>\n      <td>0.786260</td>\n      <td>0.0</td>\n      <td>0.000000</td>\n      <td>0.5</td>\n      <td>0.333333</td>\n      <td>0.00</td>\n      <td>1.0</td>\n    </tr>\n  </tbody>\n</table>\n<p>297 rows × 14 columns</p>\n</div>"
     },
     "execution_count": 10,
     "metadata": {},
     "output_type": "execute_result"
    }
   ],
   "source": [
    "data = pd.read_csv('heart_disease_risk.csv')\n",
    "\n",
    "data = normalize_features(data)\n",
    "data"
   ],
   "metadata": {
    "collapsed": false,
    "pycharm": {
     "name": "#%%\n"
    }
   }
  },
  {
   "cell_type": "markdown",
   "source": [
    "### Discretization of data features\n",
    "Discretization is used to transform continuous features in a dataset into discrete values. In practice, feature discretization can be used in various data analyses, such as classification, clustering or decision rule construction, to take into account the characteristics of discrete data or to simplify a problem by converting continuous data into discrete values. The resulting discretization is assigned to the original features in the dataset.\n",
    "Feature discretization has several applications:\n",
    "- it can help reduce the impact of noise on data analysis, as it reduces the number of different values on which the model must focus\n",
    "- useful for modeling when data in the form of categories or ranges are required, such as for duration analysis, data clustering or building decision rules.\n"
   ],
   "metadata": {
    "collapsed": false
   }
  },
  {
   "cell_type": "code",
   "execution_count": 11,
   "outputs": [
    {
     "data": {
      "text/plain": "     age  sex   cp  trestbps  chol  fbs  restecg  thalach  exang  oldpeak  \\\n0    8.0  1.0  1.0       8.0   4.0  1.0      2.0      4.0    0.0      2.3   \n1    9.0  1.0  4.0       9.0   7.0  0.0      2.0      0.0    1.0      1.5   \n2    9.0  1.0  4.0       3.0   3.0  0.0      2.0      1.0    1.0      2.6   \n3    0.0  1.0  3.0       5.0   5.0  0.0      0.0      9.0    0.0      3.5   \n4    0.0  0.0  2.0       5.0   1.0  0.0      2.0      8.0    0.0      1.4   \n..   ...  ...  ...       ...   ...  ...      ...      ...    ...      ...   \n292  5.0  0.0  4.0       7.0   4.0  0.0      0.0      1.0    1.0      0.2   \n293  2.0  1.0  1.0       1.0   6.0  0.0      0.0      2.0    0.0      1.2   \n294  9.0  1.0  4.0       7.0   1.0  1.0      0.0      3.0    0.0      3.4   \n295  5.0  1.0  4.0       5.0   0.0  0.0      0.0      0.0    1.0      1.2   \n296  5.0  0.0  2.0       5.0   4.0  0.0      2.0      8.0    0.0      0.0   \n\n     slope   ca  thal  decision  \n0      3.0  0.0   6.0         0  \n1      2.0  3.0   3.0         1  \n2      2.0  2.0   7.0         1  \n3      3.0  0.0   3.0         0  \n4      1.0  0.0   3.0         0  \n..     ...  ...   ...       ...  \n292    2.0  0.0   7.0         1  \n293    2.0  0.0   7.0         1  \n294    2.0  2.0   7.0         1  \n295    2.0  1.0   7.0         1  \n296    2.0  1.0   3.0         1  \n\n[297 rows x 14 columns]",
      "text/html": "<div>\n<style scoped>\n    .dataframe tbody tr th:only-of-type {\n        vertical-align: middle;\n    }\n\n    .dataframe tbody tr th {\n        vertical-align: top;\n    }\n\n    .dataframe thead th {\n        text-align: right;\n    }\n</style>\n<table border=\"1\" class=\"dataframe\">\n  <thead>\n    <tr style=\"text-align: right;\">\n      <th></th>\n      <th>age</th>\n      <th>sex</th>\n      <th>cp</th>\n      <th>trestbps</th>\n      <th>chol</th>\n      <th>fbs</th>\n      <th>restecg</th>\n      <th>thalach</th>\n      <th>exang</th>\n      <th>oldpeak</th>\n      <th>slope</th>\n      <th>ca</th>\n      <th>thal</th>\n      <th>decision</th>\n    </tr>\n  </thead>\n  <tbody>\n    <tr>\n      <th>0</th>\n      <td>8.0</td>\n      <td>1.0</td>\n      <td>1.0</td>\n      <td>8.0</td>\n      <td>4.0</td>\n      <td>1.0</td>\n      <td>2.0</td>\n      <td>4.0</td>\n      <td>0.0</td>\n      <td>2.3</td>\n      <td>3.0</td>\n      <td>0.0</td>\n      <td>6.0</td>\n      <td>0</td>\n    </tr>\n    <tr>\n      <th>1</th>\n      <td>9.0</td>\n      <td>1.0</td>\n      <td>4.0</td>\n      <td>9.0</td>\n      <td>7.0</td>\n      <td>0.0</td>\n      <td>2.0</td>\n      <td>0.0</td>\n      <td>1.0</td>\n      <td>1.5</td>\n      <td>2.0</td>\n      <td>3.0</td>\n      <td>3.0</td>\n      <td>1</td>\n    </tr>\n    <tr>\n      <th>2</th>\n      <td>9.0</td>\n      <td>1.0</td>\n      <td>4.0</td>\n      <td>3.0</td>\n      <td>3.0</td>\n      <td>0.0</td>\n      <td>2.0</td>\n      <td>1.0</td>\n      <td>1.0</td>\n      <td>2.6</td>\n      <td>2.0</td>\n      <td>2.0</td>\n      <td>7.0</td>\n      <td>1</td>\n    </tr>\n    <tr>\n      <th>3</th>\n      <td>0.0</td>\n      <td>1.0</td>\n      <td>3.0</td>\n      <td>5.0</td>\n      <td>5.0</td>\n      <td>0.0</td>\n      <td>0.0</td>\n      <td>9.0</td>\n      <td>0.0</td>\n      <td>3.5</td>\n      <td>3.0</td>\n      <td>0.0</td>\n      <td>3.0</td>\n      <td>0</td>\n    </tr>\n    <tr>\n      <th>4</th>\n      <td>0.0</td>\n      <td>0.0</td>\n      <td>2.0</td>\n      <td>5.0</td>\n      <td>1.0</td>\n      <td>0.0</td>\n      <td>2.0</td>\n      <td>8.0</td>\n      <td>0.0</td>\n      <td>1.4</td>\n      <td>1.0</td>\n      <td>0.0</td>\n      <td>3.0</td>\n      <td>0</td>\n    </tr>\n    <tr>\n      <th>...</th>\n      <td>...</td>\n      <td>...</td>\n      <td>...</td>\n      <td>...</td>\n      <td>...</td>\n      <td>...</td>\n      <td>...</td>\n      <td>...</td>\n      <td>...</td>\n      <td>...</td>\n      <td>...</td>\n      <td>...</td>\n      <td>...</td>\n      <td>...</td>\n    </tr>\n    <tr>\n      <th>292</th>\n      <td>5.0</td>\n      <td>0.0</td>\n      <td>4.0</td>\n      <td>7.0</td>\n      <td>4.0</td>\n      <td>0.0</td>\n      <td>0.0</td>\n      <td>1.0</td>\n      <td>1.0</td>\n      <td>0.2</td>\n      <td>2.0</td>\n      <td>0.0</td>\n      <td>7.0</td>\n      <td>1</td>\n    </tr>\n    <tr>\n      <th>293</th>\n      <td>2.0</td>\n      <td>1.0</td>\n      <td>1.0</td>\n      <td>1.0</td>\n      <td>6.0</td>\n      <td>0.0</td>\n      <td>0.0</td>\n      <td>2.0</td>\n      <td>0.0</td>\n      <td>1.2</td>\n      <td>2.0</td>\n      <td>0.0</td>\n      <td>7.0</td>\n      <td>1</td>\n    </tr>\n    <tr>\n      <th>294</th>\n      <td>9.0</td>\n      <td>1.0</td>\n      <td>4.0</td>\n      <td>7.0</td>\n      <td>1.0</td>\n      <td>1.0</td>\n      <td>0.0</td>\n      <td>3.0</td>\n      <td>0.0</td>\n      <td>3.4</td>\n      <td>2.0</td>\n      <td>2.0</td>\n      <td>7.0</td>\n      <td>1</td>\n    </tr>\n    <tr>\n      <th>295</th>\n      <td>5.0</td>\n      <td>1.0</td>\n      <td>4.0</td>\n      <td>5.0</td>\n      <td>0.0</td>\n      <td>0.0</td>\n      <td>0.0</td>\n      <td>0.0</td>\n      <td>1.0</td>\n      <td>1.2</td>\n      <td>2.0</td>\n      <td>1.0</td>\n      <td>7.0</td>\n      <td>1</td>\n    </tr>\n    <tr>\n      <th>296</th>\n      <td>5.0</td>\n      <td>0.0</td>\n      <td>2.0</td>\n      <td>5.0</td>\n      <td>4.0</td>\n      <td>0.0</td>\n      <td>2.0</td>\n      <td>8.0</td>\n      <td>0.0</td>\n      <td>0.0</td>\n      <td>2.0</td>\n      <td>1.0</td>\n      <td>3.0</td>\n      <td>1</td>\n    </tr>\n  </tbody>\n</table>\n<p>297 rows × 14 columns</p>\n</div>"
     },
     "execution_count": 11,
     "metadata": {},
     "output_type": "execute_result"
    }
   ],
   "source": [
    "data = pd.read_csv('heart_disease_risk.csv')\n",
    "continuous_columns = ['age', 'trestbps', 'chol', 'thalach']\n",
    "n_bins = 10\n",
    "\n",
    "data = discretize_features(data, continuous_columns, n_bins)\n",
    "data"
   ],
   "metadata": {
    "collapsed": false,
    "pycharm": {
     "name": "#%%\n"
    }
   }
  },
  {
   "cell_type": "markdown",
   "source": [
    "### Remove highly correlated features\n",
    "This function is used to identify and remove features in a dataset that are highly correlated with each other. It uses a correlation matrix to calculate correlation coefficients between all pairs of features and identify those whose correlation exceeds a certain threshold. Features with high correlation can introduce excessive redundancy and can lead to model over-fitting problems. The function removes these features from the dataset, which can improve model performance and reduce data complexity.\n",
    "We set the threshold value of correlation, or threshold, should be in the range from 0 to 1. This means that you can specify values from 0 to 1, inclusive. A threshold of 0 means no correlation, and a threshold of 1 means perfect correlation. In practice, the correlation threshold value depends on the specific problem, data and analysis we want to perform. Choosing the right threshold depends on our goals and expectations of correlation between features. Threshold values such as 0.5, 0.7 or 0.8 are often used, but there are no strict values that are universal for all cases."
   ],
   "metadata": {
    "collapsed": false
   }
  },
  {
   "cell_type": "code",
   "execution_count": 12,
   "outputs": [
    {
     "data": {
      "text/plain": "      age  sex   cp  trestbps   chol  fbs  restecg  thalach  exang  oldpeak  \\\n0    63.0  1.0  1.0     145.0  233.0  1.0      2.0    150.0    0.0      2.3   \n1    67.0  1.0  4.0     160.0  286.0  0.0      2.0    108.0    1.0      1.5   \n2    67.0  1.0  4.0     120.0  229.0  0.0      2.0    129.0    1.0      2.6   \n3    37.0  1.0  3.0     130.0  250.0  0.0      0.0    187.0    0.0      3.5   \n4    41.0  0.0  2.0     130.0  204.0  0.0      2.0    172.0    0.0      1.4   \n..    ...  ...  ...       ...    ...  ...      ...      ...    ...      ...   \n292  57.0  0.0  4.0     140.0  241.0  0.0      0.0    123.0    1.0      0.2   \n293  45.0  1.0  1.0     110.0  264.0  0.0      0.0    132.0    0.0      1.2   \n294  68.0  1.0  4.0     144.0  193.0  1.0      0.0    141.0    0.0      3.4   \n295  57.0  1.0  4.0     130.0  131.0  0.0      0.0    115.0    1.0      1.2   \n296  57.0  0.0  2.0     130.0  236.0  0.0      2.0    174.0    0.0      0.0   \n\n      ca  thal  \n0    0.0   6.0  \n1    3.0   3.0  \n2    2.0   7.0  \n3    0.0   3.0  \n4    0.0   3.0  \n..   ...   ...  \n292  0.0   7.0  \n293  0.0   7.0  \n294  2.0   7.0  \n295  1.0   7.0  \n296  1.0   3.0  \n\n[297 rows x 12 columns]",
      "text/html": "<div>\n<style scoped>\n    .dataframe tbody tr th:only-of-type {\n        vertical-align: middle;\n    }\n\n    .dataframe tbody tr th {\n        vertical-align: top;\n    }\n\n    .dataframe thead th {\n        text-align: right;\n    }\n</style>\n<table border=\"1\" class=\"dataframe\">\n  <thead>\n    <tr style=\"text-align: right;\">\n      <th></th>\n      <th>age</th>\n      <th>sex</th>\n      <th>cp</th>\n      <th>trestbps</th>\n      <th>chol</th>\n      <th>fbs</th>\n      <th>restecg</th>\n      <th>thalach</th>\n      <th>exang</th>\n      <th>oldpeak</th>\n      <th>ca</th>\n      <th>thal</th>\n    </tr>\n  </thead>\n  <tbody>\n    <tr>\n      <th>0</th>\n      <td>63.0</td>\n      <td>1.0</td>\n      <td>1.0</td>\n      <td>145.0</td>\n      <td>233.0</td>\n      <td>1.0</td>\n      <td>2.0</td>\n      <td>150.0</td>\n      <td>0.0</td>\n      <td>2.3</td>\n      <td>0.0</td>\n      <td>6.0</td>\n    </tr>\n    <tr>\n      <th>1</th>\n      <td>67.0</td>\n      <td>1.0</td>\n      <td>4.0</td>\n      <td>160.0</td>\n      <td>286.0</td>\n      <td>0.0</td>\n      <td>2.0</td>\n      <td>108.0</td>\n      <td>1.0</td>\n      <td>1.5</td>\n      <td>3.0</td>\n      <td>3.0</td>\n    </tr>\n    <tr>\n      <th>2</th>\n      <td>67.0</td>\n      <td>1.0</td>\n      <td>4.0</td>\n      <td>120.0</td>\n      <td>229.0</td>\n      <td>0.0</td>\n      <td>2.0</td>\n      <td>129.0</td>\n      <td>1.0</td>\n      <td>2.6</td>\n      <td>2.0</td>\n      <td>7.0</td>\n    </tr>\n    <tr>\n      <th>3</th>\n      <td>37.0</td>\n      <td>1.0</td>\n      <td>3.0</td>\n      <td>130.0</td>\n      <td>250.0</td>\n      <td>0.0</td>\n      <td>0.0</td>\n      <td>187.0</td>\n      <td>0.0</td>\n      <td>3.5</td>\n      <td>0.0</td>\n      <td>3.0</td>\n    </tr>\n    <tr>\n      <th>4</th>\n      <td>41.0</td>\n      <td>0.0</td>\n      <td>2.0</td>\n      <td>130.0</td>\n      <td>204.0</td>\n      <td>0.0</td>\n      <td>2.0</td>\n      <td>172.0</td>\n      <td>0.0</td>\n      <td>1.4</td>\n      <td>0.0</td>\n      <td>3.0</td>\n    </tr>\n    <tr>\n      <th>...</th>\n      <td>...</td>\n      <td>...</td>\n      <td>...</td>\n      <td>...</td>\n      <td>...</td>\n      <td>...</td>\n      <td>...</td>\n      <td>...</td>\n      <td>...</td>\n      <td>...</td>\n      <td>...</td>\n      <td>...</td>\n    </tr>\n    <tr>\n      <th>292</th>\n      <td>57.0</td>\n      <td>0.0</td>\n      <td>4.0</td>\n      <td>140.0</td>\n      <td>241.0</td>\n      <td>0.0</td>\n      <td>0.0</td>\n      <td>123.0</td>\n      <td>1.0</td>\n      <td>0.2</td>\n      <td>0.0</td>\n      <td>7.0</td>\n    </tr>\n    <tr>\n      <th>293</th>\n      <td>45.0</td>\n      <td>1.0</td>\n      <td>1.0</td>\n      <td>110.0</td>\n      <td>264.0</td>\n      <td>0.0</td>\n      <td>0.0</td>\n      <td>132.0</td>\n      <td>0.0</td>\n      <td>1.2</td>\n      <td>0.0</td>\n      <td>7.0</td>\n    </tr>\n    <tr>\n      <th>294</th>\n      <td>68.0</td>\n      <td>1.0</td>\n      <td>4.0</td>\n      <td>144.0</td>\n      <td>193.0</td>\n      <td>1.0</td>\n      <td>0.0</td>\n      <td>141.0</td>\n      <td>0.0</td>\n      <td>3.4</td>\n      <td>2.0</td>\n      <td>7.0</td>\n    </tr>\n    <tr>\n      <th>295</th>\n      <td>57.0</td>\n      <td>1.0</td>\n      <td>4.0</td>\n      <td>130.0</td>\n      <td>131.0</td>\n      <td>0.0</td>\n      <td>0.0</td>\n      <td>115.0</td>\n      <td>1.0</td>\n      <td>1.2</td>\n      <td>1.0</td>\n      <td>7.0</td>\n    </tr>\n    <tr>\n      <th>296</th>\n      <td>57.0</td>\n      <td>0.0</td>\n      <td>2.0</td>\n      <td>130.0</td>\n      <td>236.0</td>\n      <td>0.0</td>\n      <td>2.0</td>\n      <td>174.0</td>\n      <td>0.0</td>\n      <td>0.0</td>\n      <td>1.0</td>\n      <td>3.0</td>\n    </tr>\n  </tbody>\n</table>\n<p>297 rows × 12 columns</p>\n</div>"
     },
     "execution_count": 12,
     "metadata": {},
     "output_type": "execute_result"
    }
   ],
   "source": [
    "data = pd.read_csv('heart_disease_risk.csv')\n",
    "threshold = 0.5\n",
    "\n",
    "data = remove_highly_correlated_features(data, threshold)\n",
    "data"
   ],
   "metadata": {
    "collapsed": false,
    "pycharm": {
     "name": "#%%\n"
    }
   }
  },
  {
   "cell_type": "markdown",
   "source": [
    "### Removing features with a high percentage of missing data\n",
    "The function is used to identify and remove features in a dataset that have a high percentage of missing data above a certain threshold. First, the function calculates the percentage of missing data for each feature in the dataset. It then identifies features that have a percentage of missing data above the specified threshold. These features are identified based on the row indices returned by the missing_data > missing_threshold condition. In the next step, the function removes these features from the dataset by calling the drop method with the axis=1 parameter, which deletes the columns. This operation helps reduce the number of features that contain large amounts of missing data and can potentially affect the quality and reliability of data analysis or modeling."
   ],
   "metadata": {
    "collapsed": false
   }
  },
  {
   "cell_type": "code",
   "execution_count": 13,
   "outputs": [
    {
     "data": {
      "text/plain": "      age  sex   cp  trestbps   chol  fbs  restecg  thalach  exang  oldpeak  \\\n0    63.0  1.0  1.0     145.0  233.0  1.0      2.0    150.0    0.0      2.3   \n1    67.0  1.0  4.0     160.0  286.0  0.0      2.0    108.0    1.0      1.5   \n2    67.0  1.0  4.0     120.0  229.0  0.0      2.0    129.0    1.0      2.6   \n3    37.0  1.0  3.0     130.0  250.0  0.0      0.0    187.0    0.0      3.5   \n4    41.0  0.0  2.0     130.0  204.0  0.0      2.0    172.0    0.0      1.4   \n..    ...  ...  ...       ...    ...  ...      ...      ...    ...      ...   \n292  57.0  0.0  4.0     140.0  241.0  0.0      0.0    123.0    1.0      0.2   \n293  45.0  1.0  1.0     110.0  264.0  0.0      0.0    132.0    0.0      1.2   \n294  68.0  1.0  4.0     144.0  193.0  1.0      0.0    141.0    0.0      3.4   \n295  57.0  1.0  4.0     130.0  131.0  0.0      0.0    115.0    1.0      1.2   \n296  57.0  0.0  2.0     130.0  236.0  0.0      2.0    174.0    0.0      0.0   \n\n     slope   ca  thal  decision  \n0      3.0  0.0   6.0         0  \n1      2.0  3.0   3.0         1  \n2      2.0  2.0   7.0         1  \n3      3.0  0.0   3.0         0  \n4      1.0  0.0   3.0         0  \n..     ...  ...   ...       ...  \n292    2.0  0.0   7.0         1  \n293    2.0  0.0   7.0         1  \n294    2.0  2.0   7.0         1  \n295    2.0  1.0   7.0         1  \n296    2.0  1.0   3.0         1  \n\n[297 rows x 14 columns]",
      "text/html": "<div>\n<style scoped>\n    .dataframe tbody tr th:only-of-type {\n        vertical-align: middle;\n    }\n\n    .dataframe tbody tr th {\n        vertical-align: top;\n    }\n\n    .dataframe thead th {\n        text-align: right;\n    }\n</style>\n<table border=\"1\" class=\"dataframe\">\n  <thead>\n    <tr style=\"text-align: right;\">\n      <th></th>\n      <th>age</th>\n      <th>sex</th>\n      <th>cp</th>\n      <th>trestbps</th>\n      <th>chol</th>\n      <th>fbs</th>\n      <th>restecg</th>\n      <th>thalach</th>\n      <th>exang</th>\n      <th>oldpeak</th>\n      <th>slope</th>\n      <th>ca</th>\n      <th>thal</th>\n      <th>decision</th>\n    </tr>\n  </thead>\n  <tbody>\n    <tr>\n      <th>0</th>\n      <td>63.0</td>\n      <td>1.0</td>\n      <td>1.0</td>\n      <td>145.0</td>\n      <td>233.0</td>\n      <td>1.0</td>\n      <td>2.0</td>\n      <td>150.0</td>\n      <td>0.0</td>\n      <td>2.3</td>\n      <td>3.0</td>\n      <td>0.0</td>\n      <td>6.0</td>\n      <td>0</td>\n    </tr>\n    <tr>\n      <th>1</th>\n      <td>67.0</td>\n      <td>1.0</td>\n      <td>4.0</td>\n      <td>160.0</td>\n      <td>286.0</td>\n      <td>0.0</td>\n      <td>2.0</td>\n      <td>108.0</td>\n      <td>1.0</td>\n      <td>1.5</td>\n      <td>2.0</td>\n      <td>3.0</td>\n      <td>3.0</td>\n      <td>1</td>\n    </tr>\n    <tr>\n      <th>2</th>\n      <td>67.0</td>\n      <td>1.0</td>\n      <td>4.0</td>\n      <td>120.0</td>\n      <td>229.0</td>\n      <td>0.0</td>\n      <td>2.0</td>\n      <td>129.0</td>\n      <td>1.0</td>\n      <td>2.6</td>\n      <td>2.0</td>\n      <td>2.0</td>\n      <td>7.0</td>\n      <td>1</td>\n    </tr>\n    <tr>\n      <th>3</th>\n      <td>37.0</td>\n      <td>1.0</td>\n      <td>3.0</td>\n      <td>130.0</td>\n      <td>250.0</td>\n      <td>0.0</td>\n      <td>0.0</td>\n      <td>187.0</td>\n      <td>0.0</td>\n      <td>3.5</td>\n      <td>3.0</td>\n      <td>0.0</td>\n      <td>3.0</td>\n      <td>0</td>\n    </tr>\n    <tr>\n      <th>4</th>\n      <td>41.0</td>\n      <td>0.0</td>\n      <td>2.0</td>\n      <td>130.0</td>\n      <td>204.0</td>\n      <td>0.0</td>\n      <td>2.0</td>\n      <td>172.0</td>\n      <td>0.0</td>\n      <td>1.4</td>\n      <td>1.0</td>\n      <td>0.0</td>\n      <td>3.0</td>\n      <td>0</td>\n    </tr>\n    <tr>\n      <th>...</th>\n      <td>...</td>\n      <td>...</td>\n      <td>...</td>\n      <td>...</td>\n      <td>...</td>\n      <td>...</td>\n      <td>...</td>\n      <td>...</td>\n      <td>...</td>\n      <td>...</td>\n      <td>...</td>\n      <td>...</td>\n      <td>...</td>\n      <td>...</td>\n    </tr>\n    <tr>\n      <th>292</th>\n      <td>57.0</td>\n      <td>0.0</td>\n      <td>4.0</td>\n      <td>140.0</td>\n      <td>241.0</td>\n      <td>0.0</td>\n      <td>0.0</td>\n      <td>123.0</td>\n      <td>1.0</td>\n      <td>0.2</td>\n      <td>2.0</td>\n      <td>0.0</td>\n      <td>7.0</td>\n      <td>1</td>\n    </tr>\n    <tr>\n      <th>293</th>\n      <td>45.0</td>\n      <td>1.0</td>\n      <td>1.0</td>\n      <td>110.0</td>\n      <td>264.0</td>\n      <td>0.0</td>\n      <td>0.0</td>\n      <td>132.0</td>\n      <td>0.0</td>\n      <td>1.2</td>\n      <td>2.0</td>\n      <td>0.0</td>\n      <td>7.0</td>\n      <td>1</td>\n    </tr>\n    <tr>\n      <th>294</th>\n      <td>68.0</td>\n      <td>1.0</td>\n      <td>4.0</td>\n      <td>144.0</td>\n      <td>193.0</td>\n      <td>1.0</td>\n      <td>0.0</td>\n      <td>141.0</td>\n      <td>0.0</td>\n      <td>3.4</td>\n      <td>2.0</td>\n      <td>2.0</td>\n      <td>7.0</td>\n      <td>1</td>\n    </tr>\n    <tr>\n      <th>295</th>\n      <td>57.0</td>\n      <td>1.0</td>\n      <td>4.0</td>\n      <td>130.0</td>\n      <td>131.0</td>\n      <td>0.0</td>\n      <td>0.0</td>\n      <td>115.0</td>\n      <td>1.0</td>\n      <td>1.2</td>\n      <td>2.0</td>\n      <td>1.0</td>\n      <td>7.0</td>\n      <td>1</td>\n    </tr>\n    <tr>\n      <th>296</th>\n      <td>57.0</td>\n      <td>0.0</td>\n      <td>2.0</td>\n      <td>130.0</td>\n      <td>236.0</td>\n      <td>0.0</td>\n      <td>2.0</td>\n      <td>174.0</td>\n      <td>0.0</td>\n      <td>0.0</td>\n      <td>2.0</td>\n      <td>1.0</td>\n      <td>3.0</td>\n      <td>1</td>\n    </tr>\n  </tbody>\n</table>\n<p>297 rows × 14 columns</p>\n</div>"
     },
     "execution_count": 13,
     "metadata": {},
     "output_type": "execute_result"
    }
   ],
   "source": [
    "data = pd.read_csv('heart_disease_risk.csv')\n",
    "missing_threshold = 0.1\n",
    "\n",
    "data = remove_features_with_high_missing_data(data, missing_threshold)\n",
    "data"
   ],
   "metadata": {
    "collapsed": false,
    "pycharm": {
     "name": "#%%\n"
    }
   }
  }
 ],
 "metadata": {
  "kernelspec": {
   "display_name": "Python 3",
   "language": "python",
   "name": "python3"
  },
  "language_info": {
   "codemirror_mode": {
    "name": "ipython",
    "version": 2
   },
   "file_extension": ".py",
   "mimetype": "text/x-python",
   "name": "python",
   "nbconvert_exporter": "python",
   "pygments_lexer": "ipython2",
   "version": "2.7.6"
  }
 },
 "nbformat": 4,
 "nbformat_minor": 0
}