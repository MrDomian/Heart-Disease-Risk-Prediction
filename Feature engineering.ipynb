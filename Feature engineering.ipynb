{
 "cells": [
  {
   "cell_type": "markdown",
   "source": [
    "# Feature Engineering"
   ],
   "metadata": {
    "collapsed": false
   }
  },
  {
   "cell_type": "code",
   "execution_count": 1,
   "outputs": [],
   "source": [
    "import datetime\n",
    "import pandas as pd\n",
    "import numpy as np\n",
    "from main import one_hot_encoding, label_encoding, ordinal_encoding, create_interaction_features, create_polynomial_features, standardize_features, normalize_features, discretize_features, remove_highly_correlated_features, remove_features_with_high_missing_data, extract_time_features, create_time_features, extract_text_features, transform_text_to_features"
   ],
   "metadata": {
    "collapsed": false,
    "pycharm": {
     "name": "#%%\n"
    }
   }
  },
  {
   "cell_type": "code",
   "execution_count": 2,
   "outputs": [
    {
     "data": {
      "text/plain": "      age  sex   cp  trestbps   chol  fbs  restecg  thalach  exang  oldpeak  \\\n0    63.0  1.0  1.0     145.0  233.0  1.0      2.0    150.0    0.0      2.3   \n1    67.0  1.0  4.0     160.0  286.0  0.0      2.0    108.0    1.0      1.5   \n2    67.0  1.0  4.0     120.0  229.0  0.0      2.0    129.0    1.0      2.6   \n3    37.0  1.0  3.0     130.0  250.0  0.0      0.0    187.0    0.0      3.5   \n4    41.0  0.0  2.0     130.0  204.0  0.0      2.0    172.0    0.0      1.4   \n..    ...  ...  ...       ...    ...  ...      ...      ...    ...      ...   \n292  57.0  0.0  4.0     140.0  241.0  0.0      0.0    123.0    1.0      0.2   \n293  45.0  1.0  1.0     110.0  264.0  0.0      0.0    132.0    0.0      1.2   \n294  68.0  1.0  4.0     144.0  193.0  1.0      0.0    141.0    0.0      3.4   \n295  57.0  1.0  4.0     130.0  131.0  0.0      0.0    115.0    1.0      1.2   \n296  57.0  0.0  2.0     130.0  236.0  0.0      2.0    174.0    0.0      0.0   \n\n     slope   ca  thal  decision  \n0      3.0  0.0   6.0         0  \n1      2.0  3.0   3.0         1  \n2      2.0  2.0   7.0         1  \n3      3.0  0.0   3.0         0  \n4      1.0  0.0   3.0         0  \n..     ...  ...   ...       ...  \n292    2.0  0.0   7.0         1  \n293    2.0  0.0   7.0         1  \n294    2.0  2.0   7.0         1  \n295    2.0  1.0   7.0         1  \n296    2.0  1.0   3.0         1  \n\n[297 rows x 14 columns]",
      "text/html": "<div>\n<style scoped>\n    .dataframe tbody tr th:only-of-type {\n        vertical-align: middle;\n    }\n\n    .dataframe tbody tr th {\n        vertical-align: top;\n    }\n\n    .dataframe thead th {\n        text-align: right;\n    }\n</style>\n<table border=\"1\" class=\"dataframe\">\n  <thead>\n    <tr style=\"text-align: right;\">\n      <th></th>\n      <th>age</th>\n      <th>sex</th>\n      <th>cp</th>\n      <th>trestbps</th>\n      <th>chol</th>\n      <th>fbs</th>\n      <th>restecg</th>\n      <th>thalach</th>\n      <th>exang</th>\n      <th>oldpeak</th>\n      <th>slope</th>\n      <th>ca</th>\n      <th>thal</th>\n      <th>decision</th>\n    </tr>\n  </thead>\n  <tbody>\n    <tr>\n      <th>0</th>\n      <td>63.0</td>\n      <td>1.0</td>\n      <td>1.0</td>\n      <td>145.0</td>\n      <td>233.0</td>\n      <td>1.0</td>\n      <td>2.0</td>\n      <td>150.0</td>\n      <td>0.0</td>\n      <td>2.3</td>\n      <td>3.0</td>\n      <td>0.0</td>\n      <td>6.0</td>\n      <td>0</td>\n    </tr>\n    <tr>\n      <th>1</th>\n      <td>67.0</td>\n      <td>1.0</td>\n      <td>4.0</td>\n      <td>160.0</td>\n      <td>286.0</td>\n      <td>0.0</td>\n      <td>2.0</td>\n      <td>108.0</td>\n      <td>1.0</td>\n      <td>1.5</td>\n      <td>2.0</td>\n      <td>3.0</td>\n      <td>3.0</td>\n      <td>1</td>\n    </tr>\n    <tr>\n      <th>2</th>\n      <td>67.0</td>\n      <td>1.0</td>\n      <td>4.0</td>\n      <td>120.0</td>\n      <td>229.0</td>\n      <td>0.0</td>\n      <td>2.0</td>\n      <td>129.0</td>\n      <td>1.0</td>\n      <td>2.6</td>\n      <td>2.0</td>\n      <td>2.0</td>\n      <td>7.0</td>\n      <td>1</td>\n    </tr>\n    <tr>\n      <th>3</th>\n      <td>37.0</td>\n      <td>1.0</td>\n      <td>3.0</td>\n      <td>130.0</td>\n      <td>250.0</td>\n      <td>0.0</td>\n      <td>0.0</td>\n      <td>187.0</td>\n      <td>0.0</td>\n      <td>3.5</td>\n      <td>3.0</td>\n      <td>0.0</td>\n      <td>3.0</td>\n      <td>0</td>\n    </tr>\n    <tr>\n      <th>4</th>\n      <td>41.0</td>\n      <td>0.0</td>\n      <td>2.0</td>\n      <td>130.0</td>\n      <td>204.0</td>\n      <td>0.0</td>\n      <td>2.0</td>\n      <td>172.0</td>\n      <td>0.0</td>\n      <td>1.4</td>\n      <td>1.0</td>\n      <td>0.0</td>\n      <td>3.0</td>\n      <td>0</td>\n    </tr>\n    <tr>\n      <th>...</th>\n      <td>...</td>\n      <td>...</td>\n      <td>...</td>\n      <td>...</td>\n      <td>...</td>\n      <td>...</td>\n      <td>...</td>\n      <td>...</td>\n      <td>...</td>\n      <td>...</td>\n      <td>...</td>\n      <td>...</td>\n      <td>...</td>\n      <td>...</td>\n    </tr>\n    <tr>\n      <th>292</th>\n      <td>57.0</td>\n      <td>0.0</td>\n      <td>4.0</td>\n      <td>140.0</td>\n      <td>241.0</td>\n      <td>0.0</td>\n      <td>0.0</td>\n      <td>123.0</td>\n      <td>1.0</td>\n      <td>0.2</td>\n      <td>2.0</td>\n      <td>0.0</td>\n      <td>7.0</td>\n      <td>1</td>\n    </tr>\n    <tr>\n      <th>293</th>\n      <td>45.0</td>\n      <td>1.0</td>\n      <td>1.0</td>\n      <td>110.0</td>\n      <td>264.0</td>\n      <td>0.0</td>\n      <td>0.0</td>\n      <td>132.0</td>\n      <td>0.0</td>\n      <td>1.2</td>\n      <td>2.0</td>\n      <td>0.0</td>\n      <td>7.0</td>\n      <td>1</td>\n    </tr>\n    <tr>\n      <th>294</th>\n      <td>68.0</td>\n      <td>1.0</td>\n      <td>4.0</td>\n      <td>144.0</td>\n      <td>193.0</td>\n      <td>1.0</td>\n      <td>0.0</td>\n      <td>141.0</td>\n      <td>0.0</td>\n      <td>3.4</td>\n      <td>2.0</td>\n      <td>2.0</td>\n      <td>7.0</td>\n      <td>1</td>\n    </tr>\n    <tr>\n      <th>295</th>\n      <td>57.0</td>\n      <td>1.0</td>\n      <td>4.0</td>\n      <td>130.0</td>\n      <td>131.0</td>\n      <td>0.0</td>\n      <td>0.0</td>\n      <td>115.0</td>\n      <td>1.0</td>\n      <td>1.2</td>\n      <td>2.0</td>\n      <td>1.0</td>\n      <td>7.0</td>\n      <td>1</td>\n    </tr>\n    <tr>\n      <th>296</th>\n      <td>57.0</td>\n      <td>0.0</td>\n      <td>2.0</td>\n      <td>130.0</td>\n      <td>236.0</td>\n      <td>0.0</td>\n      <td>2.0</td>\n      <td>174.0</td>\n      <td>0.0</td>\n      <td>0.0</td>\n      <td>2.0</td>\n      <td>1.0</td>\n      <td>3.0</td>\n      <td>1</td>\n    </tr>\n  </tbody>\n</table>\n<p>297 rows × 14 columns</p>\n</div>"
     },
     "execution_count": 2,
     "metadata": {},
     "output_type": "execute_result"
    }
   ],
   "source": [
    "data = pd.read_csv('heart_disease_risk.csv')\n",
    "data"
   ],
   "metadata": {
    "collapsed": false,
    "pycharm": {
     "name": "#%%\n"
    }
   }
  },
  {
   "cell_type": "code",
   "execution_count": 3,
   "outputs": [],
   "source": [
    "categorical_columns = ['cp', 'thal']\n",
    "ordinal_mapping = {\n",
    "    'cp': {'typical angina': 1, 'atypical angina': 2, 'non-anginal pain': 3, 'asymptomatic': 4},\n",
    "    'thal': {'normal': 3, 'fixed defect': 6, 'reversible defect': 7}\n",
    "}\n",
    "degree = 2"
   ],
   "metadata": {
    "collapsed": false,
    "pycharm": {
     "name": "#%%\n"
    }
   }
  },
  {
   "cell_type": "code",
   "execution_count": 4,
   "outputs": [],
   "source": [
    "# 3. Standaryzacja i normalizacja\n",
    "# data = standardize_features(data)\n",
    "data = normalize_features(data)"
   ],
   "metadata": {
    "collapsed": false,
    "pycharm": {
     "name": "#%%\n"
    }
   }
  },
  {
   "cell_type": "code",
   "execution_count": 5,
   "outputs": [
    {
     "data": {
      "text/plain": "          age  sex        cp  trestbps      chol  fbs  restecg   thalach  \\\n0    0.708333  1.0  0.000000  0.481132  0.244292  1.0      1.0  0.603053   \n1    0.791667  1.0  1.000000  0.622642  0.365297  0.0      1.0  0.282443   \n2    0.791667  1.0  1.000000  0.245283  0.235160  0.0      1.0  0.442748   \n3    0.166667  1.0  0.666667  0.339623  0.283105  0.0      0.0  0.885496   \n4    0.250000  0.0  0.333333  0.339623  0.178082  0.0      1.0  0.770992   \n..        ...  ...       ...       ...       ...  ...      ...       ...   \n292  0.583333  0.0  1.000000  0.433962  0.262557  0.0      0.0  0.396947   \n293  0.333333  1.0  0.000000  0.150943  0.315068  0.0      0.0  0.465649   \n294  0.812500  1.0  1.000000  0.471698  0.152968  1.0      0.0  0.534351   \n295  0.583333  1.0  1.000000  0.339623  0.011416  0.0      0.0  0.335878   \n296  0.583333  0.0  0.333333  0.339623  0.251142  0.0      1.0  0.786260   \n\n     exang   oldpeak  slope        ca  thal  decision  \n0      0.0  0.370968    1.0  0.000000  0.75       0.0  \n1      1.0  0.241935    0.5  1.000000  0.00       1.0  \n2      1.0  0.419355    0.5  0.666667  1.00       1.0  \n3      0.0  0.564516    1.0  0.000000  0.00       0.0  \n4      0.0  0.225806    0.0  0.000000  0.00       0.0  \n..     ...       ...    ...       ...   ...       ...  \n292    1.0  0.032258    0.5  0.000000  1.00       1.0  \n293    0.0  0.193548    0.5  0.000000  1.00       1.0  \n294    0.0  0.548387    0.5  0.666667  1.00       1.0  \n295    1.0  0.193548    0.5  0.333333  1.00       1.0  \n296    0.0  0.000000    0.5  0.333333  0.00       1.0  \n\n[297 rows x 14 columns]",
      "text/html": "<div>\n<style scoped>\n    .dataframe tbody tr th:only-of-type {\n        vertical-align: middle;\n    }\n\n    .dataframe tbody tr th {\n        vertical-align: top;\n    }\n\n    .dataframe thead th {\n        text-align: right;\n    }\n</style>\n<table border=\"1\" class=\"dataframe\">\n  <thead>\n    <tr style=\"text-align: right;\">\n      <th></th>\n      <th>age</th>\n      <th>sex</th>\n      <th>cp</th>\n      <th>trestbps</th>\n      <th>chol</th>\n      <th>fbs</th>\n      <th>restecg</th>\n      <th>thalach</th>\n      <th>exang</th>\n      <th>oldpeak</th>\n      <th>slope</th>\n      <th>ca</th>\n      <th>thal</th>\n      <th>decision</th>\n    </tr>\n  </thead>\n  <tbody>\n    <tr>\n      <th>0</th>\n      <td>0.708333</td>\n      <td>1.0</td>\n      <td>0.000000</td>\n      <td>0.481132</td>\n      <td>0.244292</td>\n      <td>1.0</td>\n      <td>1.0</td>\n      <td>0.603053</td>\n      <td>0.0</td>\n      <td>0.370968</td>\n      <td>1.0</td>\n      <td>0.000000</td>\n      <td>0.75</td>\n      <td>0.0</td>\n    </tr>\n    <tr>\n      <th>1</th>\n      <td>0.791667</td>\n      <td>1.0</td>\n      <td>1.000000</td>\n      <td>0.622642</td>\n      <td>0.365297</td>\n      <td>0.0</td>\n      <td>1.0</td>\n      <td>0.282443</td>\n      <td>1.0</td>\n      <td>0.241935</td>\n      <td>0.5</td>\n      <td>1.000000</td>\n      <td>0.00</td>\n      <td>1.0</td>\n    </tr>\n    <tr>\n      <th>2</th>\n      <td>0.791667</td>\n      <td>1.0</td>\n      <td>1.000000</td>\n      <td>0.245283</td>\n      <td>0.235160</td>\n      <td>0.0</td>\n      <td>1.0</td>\n      <td>0.442748</td>\n      <td>1.0</td>\n      <td>0.419355</td>\n      <td>0.5</td>\n      <td>0.666667</td>\n      <td>1.00</td>\n      <td>1.0</td>\n    </tr>\n    <tr>\n      <th>3</th>\n      <td>0.166667</td>\n      <td>1.0</td>\n      <td>0.666667</td>\n      <td>0.339623</td>\n      <td>0.283105</td>\n      <td>0.0</td>\n      <td>0.0</td>\n      <td>0.885496</td>\n      <td>0.0</td>\n      <td>0.564516</td>\n      <td>1.0</td>\n      <td>0.000000</td>\n      <td>0.00</td>\n      <td>0.0</td>\n    </tr>\n    <tr>\n      <th>4</th>\n      <td>0.250000</td>\n      <td>0.0</td>\n      <td>0.333333</td>\n      <td>0.339623</td>\n      <td>0.178082</td>\n      <td>0.0</td>\n      <td>1.0</td>\n      <td>0.770992</td>\n      <td>0.0</td>\n      <td>0.225806</td>\n      <td>0.0</td>\n      <td>0.000000</td>\n      <td>0.00</td>\n      <td>0.0</td>\n    </tr>\n    <tr>\n      <th>...</th>\n      <td>...</td>\n      <td>...</td>\n      <td>...</td>\n      <td>...</td>\n      <td>...</td>\n      <td>...</td>\n      <td>...</td>\n      <td>...</td>\n      <td>...</td>\n      <td>...</td>\n      <td>...</td>\n      <td>...</td>\n      <td>...</td>\n      <td>...</td>\n    </tr>\n    <tr>\n      <th>292</th>\n      <td>0.583333</td>\n      <td>0.0</td>\n      <td>1.000000</td>\n      <td>0.433962</td>\n      <td>0.262557</td>\n      <td>0.0</td>\n      <td>0.0</td>\n      <td>0.396947</td>\n      <td>1.0</td>\n      <td>0.032258</td>\n      <td>0.5</td>\n      <td>0.000000</td>\n      <td>1.00</td>\n      <td>1.0</td>\n    </tr>\n    <tr>\n      <th>293</th>\n      <td>0.333333</td>\n      <td>1.0</td>\n      <td>0.000000</td>\n      <td>0.150943</td>\n      <td>0.315068</td>\n      <td>0.0</td>\n      <td>0.0</td>\n      <td>0.465649</td>\n      <td>0.0</td>\n      <td>0.193548</td>\n      <td>0.5</td>\n      <td>0.000000</td>\n      <td>1.00</td>\n      <td>1.0</td>\n    </tr>\n    <tr>\n      <th>294</th>\n      <td>0.812500</td>\n      <td>1.0</td>\n      <td>1.000000</td>\n      <td>0.471698</td>\n      <td>0.152968</td>\n      <td>1.0</td>\n      <td>0.0</td>\n      <td>0.534351</td>\n      <td>0.0</td>\n      <td>0.548387</td>\n      <td>0.5</td>\n      <td>0.666667</td>\n      <td>1.00</td>\n      <td>1.0</td>\n    </tr>\n    <tr>\n      <th>295</th>\n      <td>0.583333</td>\n      <td>1.0</td>\n      <td>1.000000</td>\n      <td>0.339623</td>\n      <td>0.011416</td>\n      <td>0.0</td>\n      <td>0.0</td>\n      <td>0.335878</td>\n      <td>1.0</td>\n      <td>0.193548</td>\n      <td>0.5</td>\n      <td>0.333333</td>\n      <td>1.00</td>\n      <td>1.0</td>\n    </tr>\n    <tr>\n      <th>296</th>\n      <td>0.583333</td>\n      <td>0.0</td>\n      <td>0.333333</td>\n      <td>0.339623</td>\n      <td>0.251142</td>\n      <td>0.0</td>\n      <td>1.0</td>\n      <td>0.786260</td>\n      <td>0.0</td>\n      <td>0.000000</td>\n      <td>0.5</td>\n      <td>0.333333</td>\n      <td>0.00</td>\n      <td>1.0</td>\n    </tr>\n  </tbody>\n</table>\n<p>297 rows × 14 columns</p>\n</div>"
     },
     "execution_count": 5,
     "metadata": {},
     "output_type": "execute_result"
    }
   ],
   "source": [
    "data"
   ],
   "metadata": {
    "collapsed": false,
    "pycharm": {
     "name": "#%%\n"
    }
   }
  },
  {
   "cell_type": "code",
   "execution_count": null,
   "outputs": [],
   "source": [
    "# 1. Kodowanie zmiennych kategorycznych\n",
    "data = one_hot_encoding(data, categorical_columns)\n",
    "data = label_encoding(data, categorical_columns)\n",
    "data = ordinal_encoding(data, categorical_columns, ordinal_mapping)"
   ],
   "metadata": {
    "collapsed": false,
    "pycharm": {
     "name": "#%%\n"
    }
   }
  },
  {
   "cell_type": "code",
   "execution_count": null,
   "outputs": [],
   "source": [
    "# 2. Tworzenie nowych cech\n",
    "data = create_polynomial_features(data, degree)\n",
    "data = create_interaction_features(data)"
   ],
   "metadata": {
    "collapsed": false,
    "pycharm": {
     "name": "#%%\n"
    }
   }
  },
  {
   "cell_type": "code",
   "execution_count": null,
   "outputs": [],
   "source": [
    "# 4. Dyskretyzacja\n",
    "data = discretize_features(data, continuous_columns, n_bins)"
   ],
   "metadata": {
    "collapsed": false,
    "pycharm": {
     "name": "#%%\n"
    }
   }
  },
  {
   "cell_type": "code",
   "execution_count": null,
   "outputs": [],
   "source": [
    "# 5. Usuwanie cech\n",
    "data = remove_highly_correlated_features(data, threshold)\n",
    "data = remove_features_with_high_missing_data(data, missing_threshold)"
   ],
   "metadata": {
    "collapsed": false,
    "pycharm": {
     "name": "#%%\n"
    }
   }
  },
  {
   "cell_type": "code",
   "execution_count": null,
   "outputs": [],
   "source": [
    "# 6. Inżynieria czasu\n",
    "data = extract_time_features(data, time_column)\n",
    "data = create_time_features(data, time_column)"
   ],
   "metadata": {
    "collapsed": false,
    "pycharm": {
     "name": "#%%\n"
    }
   }
  },
  {
   "cell_type": "code",
   "execution_count": null,
   "outputs": [],
   "source": [
    "# 7. Tworzenie cech z danych tekstowych\n",
    "data = extract_text_features(data, text_column)\n",
    "data = transform_text_to_features(data, text_column)"
   ],
   "metadata": {
    "collapsed": false,
    "pycharm": {
     "name": "#%%\n"
    }
   }
  }
 ],
 "metadata": {
  "kernelspec": {
   "display_name": "Python 3",
   "language": "python",
   "name": "python3"
  },
  "language_info": {
   "codemirror_mode": {
    "name": "ipython",
    "version": 2
   },
   "file_extension": ".py",
   "mimetype": "text/x-python",
   "name": "python",
   "nbconvert_exporter": "python",
   "pygments_lexer": "ipython2",
   "version": "2.7.6"
  }
 },
 "nbformat": 4,
 "nbformat_minor": 0
}