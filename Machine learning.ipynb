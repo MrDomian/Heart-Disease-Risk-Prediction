{
 "cells": [
  {
   "cell_type": "markdown",
   "source": [
    "# Machine Learning\n",
    "The \"Machine learning\" file performs data analysis on heart disease risk using various machine learning algorithms. The data is loaded from the \"heart_disease_risk.csv\" file and split into features and the target variable. Subsequently, the data is standardized, and performance metrics are measured for each model. This analysis provides significant insights into predicting heart disease risk using different machine learning algorithms."
   ],
   "metadata": {
    "collapsed": false
   }
  },
  {
   "cell_type": "markdown",
   "source": [
    "### Required libraries"
   ],
   "metadata": {
    "collapsed": false
   }
  },
  {
   "cell_type": "code",
   "execution_count": 1,
   "metadata": {
    "collapsed": true,
    "ExecuteTime": {
     "end_time": "2023-07-15T22:37:05.862537707Z",
     "start_time": "2023-07-15T22:37:02.604077857Z"
    }
   },
   "outputs": [
    {
     "name": "stderr",
     "output_type": "stream",
     "text": [
      "/home/michal/PycharmProjects/Heart disease risk prediction/venv/lib/python3.10/site-packages/skl2onnx/algebra/onnx_ops.py:159: UserWarning: OpSchema.FormalParameter.typeStr is deprecated and will be removed in 1.16. Use OpSchema.FormalParameter.type_str instead.\n",
      "  tys = obj.typeStr or ''\n",
      "/home/michal/PycharmProjects/Heart disease risk prediction/venv/lib/python3.10/site-packages/skl2onnx/algebra/automation.py:154: UserWarning: OpSchema.FormalParameter.isHomogeneous is deprecated and will be removed in 1.16. Use OpSchema.FormalParameter.is_homogeneous instead.\n",
      "  if getattr(obj, 'isHomogeneous', False):\n",
      "/home/michal/PycharmProjects/Heart disease risk prediction/venv/lib/python3.10/site-packages/jinja2/environment.py:485: UserWarning: OpSchema.FormalParameter.typeStr is deprecated and will be removed in 1.16. Use OpSchema.FormalParameter.type_str instead.\n",
      "  return getattr(obj, attribute)\n"
     ]
    }
   ],
   "source": [
    "import pandas as pd\n",
    "import xgboost as xgb\n",
    "\n",
    "from catboost import CatBoostClassifier\n",
    "from lightgbm import LGBMClassifier\n",
    "from sklearn.ensemble import RandomForestClassifier, AdaBoostClassifier, GradientBoostingClassifier, HistGradientBoostingClassifier\n",
    "from sklearn.linear_model import LogisticRegression, Perceptron\n",
    "from sklearn.model_selection import train_test_split\n",
    "from sklearn.preprocessing import StandardScaler\n",
    "from sklearn.naive_bayes import GaussianNB\n",
    "from sklearn.neighbors import KNeighborsClassifier\n",
    "from sklearn.neural_network import MLPClassifier\n",
    "from sklearn.svm import SVC\n",
    "from sklearn.tree import DecisionTreeClassifier\n",
    "\n",
    "from main import balance_data_smote, balance_data_smotetomek, display_confusion_matrix, display_results, generate_results, train_model"
   ]
  },
  {
   "cell_type": "markdown",
   "source": [
    "### Loading data"
   ],
   "metadata": {
    "collapsed": false
   }
  },
  {
   "cell_type": "code",
   "execution_count": 2,
   "outputs": [
    {
     "data": {
      "text/plain": "      age  sex   cp  trestbps   chol  fbs  restecg  thalach  exang  oldpeak  \\\n0    63.0  1.0  1.0     145.0  233.0  1.0      2.0    150.0    0.0      2.3   \n1    67.0  1.0  4.0     160.0  286.0  0.0      2.0    108.0    1.0      1.5   \n2    67.0  1.0  4.0     120.0  229.0  0.0      2.0    129.0    1.0      2.6   \n3    37.0  1.0  3.0     130.0  250.0  0.0      0.0    187.0    0.0      3.5   \n4    41.0  0.0  2.0     130.0  204.0  0.0      2.0    172.0    0.0      1.4   \n..    ...  ...  ...       ...    ...  ...      ...      ...    ...      ...   \n292  57.0  0.0  4.0     140.0  241.0  0.0      0.0    123.0    1.0      0.2   \n293  45.0  1.0  1.0     110.0  264.0  0.0      0.0    132.0    0.0      1.2   \n294  68.0  1.0  4.0     144.0  193.0  1.0      0.0    141.0    0.0      3.4   \n295  57.0  1.0  4.0     130.0  131.0  0.0      0.0    115.0    1.0      1.2   \n296  57.0  0.0  2.0     130.0  236.0  0.0      2.0    174.0    0.0      0.0   \n\n     slope   ca  thal  decision  \n0      3.0  0.0   6.0         0  \n1      2.0  3.0   3.0         1  \n2      2.0  2.0   7.0         1  \n3      3.0  0.0   3.0         0  \n4      1.0  0.0   3.0         0  \n..     ...  ...   ...       ...  \n292    2.0  0.0   7.0         1  \n293    2.0  0.0   7.0         1  \n294    2.0  2.0   7.0         1  \n295    2.0  1.0   7.0         1  \n296    2.0  1.0   3.0         1  \n\n[297 rows x 14 columns]",
      "text/html": "<div>\n<style scoped>\n    .dataframe tbody tr th:only-of-type {\n        vertical-align: middle;\n    }\n\n    .dataframe tbody tr th {\n        vertical-align: top;\n    }\n\n    .dataframe thead th {\n        text-align: right;\n    }\n</style>\n<table border=\"1\" class=\"dataframe\">\n  <thead>\n    <tr style=\"text-align: right;\">\n      <th></th>\n      <th>age</th>\n      <th>sex</th>\n      <th>cp</th>\n      <th>trestbps</th>\n      <th>chol</th>\n      <th>fbs</th>\n      <th>restecg</th>\n      <th>thalach</th>\n      <th>exang</th>\n      <th>oldpeak</th>\n      <th>slope</th>\n      <th>ca</th>\n      <th>thal</th>\n      <th>decision</th>\n    </tr>\n  </thead>\n  <tbody>\n    <tr>\n      <th>0</th>\n      <td>63.0</td>\n      <td>1.0</td>\n      <td>1.0</td>\n      <td>145.0</td>\n      <td>233.0</td>\n      <td>1.0</td>\n      <td>2.0</td>\n      <td>150.0</td>\n      <td>0.0</td>\n      <td>2.3</td>\n      <td>3.0</td>\n      <td>0.0</td>\n      <td>6.0</td>\n      <td>0</td>\n    </tr>\n    <tr>\n      <th>1</th>\n      <td>67.0</td>\n      <td>1.0</td>\n      <td>4.0</td>\n      <td>160.0</td>\n      <td>286.0</td>\n      <td>0.0</td>\n      <td>2.0</td>\n      <td>108.0</td>\n      <td>1.0</td>\n      <td>1.5</td>\n      <td>2.0</td>\n      <td>3.0</td>\n      <td>3.0</td>\n      <td>1</td>\n    </tr>\n    <tr>\n      <th>2</th>\n      <td>67.0</td>\n      <td>1.0</td>\n      <td>4.0</td>\n      <td>120.0</td>\n      <td>229.0</td>\n      <td>0.0</td>\n      <td>2.0</td>\n      <td>129.0</td>\n      <td>1.0</td>\n      <td>2.6</td>\n      <td>2.0</td>\n      <td>2.0</td>\n      <td>7.0</td>\n      <td>1</td>\n    </tr>\n    <tr>\n      <th>3</th>\n      <td>37.0</td>\n      <td>1.0</td>\n      <td>3.0</td>\n      <td>130.0</td>\n      <td>250.0</td>\n      <td>0.0</td>\n      <td>0.0</td>\n      <td>187.0</td>\n      <td>0.0</td>\n      <td>3.5</td>\n      <td>3.0</td>\n      <td>0.0</td>\n      <td>3.0</td>\n      <td>0</td>\n    </tr>\n    <tr>\n      <th>4</th>\n      <td>41.0</td>\n      <td>0.0</td>\n      <td>2.0</td>\n      <td>130.0</td>\n      <td>204.0</td>\n      <td>0.0</td>\n      <td>2.0</td>\n      <td>172.0</td>\n      <td>0.0</td>\n      <td>1.4</td>\n      <td>1.0</td>\n      <td>0.0</td>\n      <td>3.0</td>\n      <td>0</td>\n    </tr>\n    <tr>\n      <th>...</th>\n      <td>...</td>\n      <td>...</td>\n      <td>...</td>\n      <td>...</td>\n      <td>...</td>\n      <td>...</td>\n      <td>...</td>\n      <td>...</td>\n      <td>...</td>\n      <td>...</td>\n      <td>...</td>\n      <td>...</td>\n      <td>...</td>\n      <td>...</td>\n    </tr>\n    <tr>\n      <th>292</th>\n      <td>57.0</td>\n      <td>0.0</td>\n      <td>4.0</td>\n      <td>140.0</td>\n      <td>241.0</td>\n      <td>0.0</td>\n      <td>0.0</td>\n      <td>123.0</td>\n      <td>1.0</td>\n      <td>0.2</td>\n      <td>2.0</td>\n      <td>0.0</td>\n      <td>7.0</td>\n      <td>1</td>\n    </tr>\n    <tr>\n      <th>293</th>\n      <td>45.0</td>\n      <td>1.0</td>\n      <td>1.0</td>\n      <td>110.0</td>\n      <td>264.0</td>\n      <td>0.0</td>\n      <td>0.0</td>\n      <td>132.0</td>\n      <td>0.0</td>\n      <td>1.2</td>\n      <td>2.0</td>\n      <td>0.0</td>\n      <td>7.0</td>\n      <td>1</td>\n    </tr>\n    <tr>\n      <th>294</th>\n      <td>68.0</td>\n      <td>1.0</td>\n      <td>4.0</td>\n      <td>144.0</td>\n      <td>193.0</td>\n      <td>1.0</td>\n      <td>0.0</td>\n      <td>141.0</td>\n      <td>0.0</td>\n      <td>3.4</td>\n      <td>2.0</td>\n      <td>2.0</td>\n      <td>7.0</td>\n      <td>1</td>\n    </tr>\n    <tr>\n      <th>295</th>\n      <td>57.0</td>\n      <td>1.0</td>\n      <td>4.0</td>\n      <td>130.0</td>\n      <td>131.0</td>\n      <td>0.0</td>\n      <td>0.0</td>\n      <td>115.0</td>\n      <td>1.0</td>\n      <td>1.2</td>\n      <td>2.0</td>\n      <td>1.0</td>\n      <td>7.0</td>\n      <td>1</td>\n    </tr>\n    <tr>\n      <th>296</th>\n      <td>57.0</td>\n      <td>0.0</td>\n      <td>2.0</td>\n      <td>130.0</td>\n      <td>236.0</td>\n      <td>0.0</td>\n      <td>2.0</td>\n      <td>174.0</td>\n      <td>0.0</td>\n      <td>0.0</td>\n      <td>2.0</td>\n      <td>1.0</td>\n      <td>3.0</td>\n      <td>1</td>\n    </tr>\n  </tbody>\n</table>\n<p>297 rows × 14 columns</p>\n</div>"
     },
     "execution_count": 2,
     "metadata": {},
     "output_type": "execute_result"
    }
   ],
   "source": [
    "data = pd.read_csv('heart_disease_risk.csv')\n",
    "data"
   ],
   "metadata": {
    "collapsed": false,
    "pycharm": {
     "name": "#%%\n"
    },
    "ExecuteTime": {
     "end_time": "2023-07-15T22:37:05.918619184Z",
     "start_time": "2023-07-15T22:37:05.865540515Z"
    }
   }
  },
  {
   "cell_type": "markdown",
   "source": [
    "### Data Split: Features and Target"
   ],
   "metadata": {
    "collapsed": false
   }
  },
  {
   "cell_type": "code",
   "execution_count": 3,
   "outputs": [
    {
     "name": "stdout",
     "output_type": "stream",
     "text": [
      "(207, 13) (90, 13) (207,) (90,)\n"
     ]
    }
   ],
   "source": [
    "X = data.drop('decision', axis=1)\n",
    "y = data['decision']\n",
    "\n",
    "X_train, X_test, y_train, y_test = train_test_split(X, y, test_size=0.3, random_state=7)\n",
    "print(X_train.shape, X_test.shape, y_train.shape, y_test.shape)"
   ],
   "metadata": {
    "collapsed": false,
    "pycharm": {
     "name": "#%%\n"
    },
    "ExecuteTime": {
     "end_time": "2023-07-15T22:37:05.936222490Z",
     "start_time": "2023-07-15T22:37:05.918881873Z"
    }
   }
  },
  {
   "cell_type": "markdown",
   "source": [
    "### Standardization of Data"
   ],
   "metadata": {
    "collapsed": false
   }
  },
  {
   "cell_type": "code",
   "execution_count": 4,
   "outputs": [],
   "source": [
    "# scaler = StandardScaler()\n",
    "# X_train = scaler.fit_transform(X_train)\n",
    "# X_test = scaler.transform(X_test)"
   ],
   "metadata": {
    "collapsed": false,
    "pycharm": {
     "name": "#%%\n"
    },
    "ExecuteTime": {
     "end_time": "2023-07-15T22:37:06.032875745Z",
     "start_time": "2023-07-15T22:37:05.925523880Z"
    }
   }
  },
  {
   "cell_type": "markdown",
   "source": [
    "### Data Balancing"
   ],
   "metadata": {
    "collapsed": false
   }
  },
  {
   "cell_type": "code",
   "execution_count": 5,
   "outputs": [
    {
     "name": "stdout",
     "output_type": "stream",
     "text": [
      "(228, 13)\n",
      "(228,)\n"
     ]
    }
   ],
   "source": [
    "X_train, y_train = balance_data_smote(X_train, y_train)\n",
    "# X_train, y_train = balance_data_smotetomek(X_train, y_train)\n",
    "\n",
    "print(X_train.shape)\n",
    "print(y_train.shape)"
   ],
   "metadata": {
    "collapsed": false,
    "pycharm": {
     "name": "#%%\n"
    },
    "ExecuteTime": {
     "end_time": "2023-07-15T22:37:06.061330612Z",
     "start_time": "2023-07-15T22:37:05.972298870Z"
    }
   }
  },
  {
   "cell_type": "markdown",
   "source": [
    "### Logistic Regression"
   ],
   "metadata": {
    "collapsed": false
   }
  },
  {
   "cell_type": "code",
   "execution_count": 6,
   "outputs": [
    {
     "name": "stdout",
     "output_type": "stream",
     "text": [
      "Accuracy: 0.88\n",
      "ROC AUC Score: 0.88\n",
      "G-Mean: 0.76\n",
      "F1 Score: 0.87\n",
      "Sensitivity: 0.82\n",
      "Specificity: 0.93\n",
      "Precision: 0.92\n",
      "AVG: 0.84\n"
     ]
    },
    {
     "data": {
      "text/plain": "<Figure size 800x600 with 2 Axes>",
      "image/png": "[encoded data removed]"
     },
     "metadata": {},
     "output_type": "display_data"
    }
   ],
   "source": [
    "model = LogisticRegression(solver='liblinear')\n",
    "\n",
    "y_pred = train_model(model, X_train, X_test, y_train)\n",
    "results, conf_matrix = generate_results(y_pred, y_test)\n",
    "display_results(results)\n",
    "display_confusion_matrix(conf_matrix)"
   ],
   "metadata": {
    "collapsed": false,
    "pycharm": {
     "name": "#%%\n"
    },
    "ExecuteTime": {
     "end_time": "2023-07-15T22:37:06.418956057Z",
     "start_time": "2023-07-15T22:37:05.972993876Z"
    }
   }
  },
  {
   "cell_type": "markdown",
   "source": [
    "### Perceptron"
   ],
   "metadata": {
    "collapsed": false
   }
  },
  {
   "cell_type": "code",
   "execution_count": 7,
   "outputs": [
    {
     "name": "stdout",
     "output_type": "stream",
     "text": [
      "Accuracy: 0.53\n",
      "ROC AUC Score: 0.54\n",
      "G-Mean: 0.11\n",
      "F1 Score: 0.67\n",
      "Sensitivity: 0.98\n",
      "Specificity: 0.11\n",
      "Precision: 0.51\n",
      "AVG: 0.44\n"
     ]
    },
    {
     "data": {
      "text/plain": "<Figure size 800x600 with 2 Axes>",
      "image/png": "[encoded data removed]"
     },
     "metadata": {},
     "output_type": "display_data"
    }
   ],
   "source": [
    "model = Perceptron()\n",
    "\n",
    "y_pred = train_model(model, X_train, X_test, y_train)\n",
    "results, conf_matrix = generate_results(y_pred, y_test)\n",
    "display_results(results)\n",
    "display_confusion_matrix(conf_matrix)"
   ],
   "metadata": {
    "collapsed": false,
    "ExecuteTime": {
     "end_time": "2023-07-15T22:37:06.848232074Z",
     "start_time": "2023-07-15T22:37:06.432296953Z"
    }
   }
  },
  {
   "cell_type": "markdown",
   "source": [
    "### Naive Bayes"
   ],
   "metadata": {
    "collapsed": false
   }
  },
  {
   "cell_type": "code",
   "execution_count": 8,
   "outputs": [
    {
     "name": "stdout",
     "output_type": "stream",
     "text": [
      "Accuracy: 0.87\n",
      "ROC AUC Score: 0.87\n",
      "G-Mean: 0.75\n",
      "F1 Score: 0.86\n",
      "Sensitivity: 0.82\n",
      "Specificity: 0.91\n",
      "Precision: 0.9\n",
      "AVG: 0.82\n"
     ]
    },
    {
     "data": {
      "text/plain": "<Figure size 800x600 with 2 Axes>",
      "image/png": "[encoded data removed]"
     },
     "metadata": {},
     "output_type": "display_data"
    }
   ],
   "source": [
    "model = GaussianNB()\n",
    "\n",
    "y_pred = train_model(model, X_train, X_test, y_train)\n",
    "results, conf_matrix = generate_results(y_pred, y_test)\n",
    "display_results(results)\n",
    "display_confusion_matrix(conf_matrix)"
   ],
   "metadata": {
    "collapsed": false,
    "ExecuteTime": {
     "end_time": "2023-07-15T22:37:07.363205746Z",
     "start_time": "2023-07-15T22:37:06.846884409Z"
    }
   }
  },
  {
   "cell_type": "markdown",
   "source": [
    "### Support Vector"
   ],
   "metadata": {
    "collapsed": false
   }
  },
  {
   "cell_type": "code",
   "execution_count": 9,
   "outputs": [
    {
     "name": "stdout",
     "output_type": "stream",
     "text": [
      "Accuracy: 0.61\n",
      "ROC AUC Score: 0.61\n",
      "G-Mean: 0.36\n",
      "F1 Score: 0.57\n",
      "Sensitivity: 0.52\n",
      "Specificity: 0.7\n",
      "Precision: 0.62\n",
      "AVG: 0.51\n"
     ]
    },
    {
     "data": {
      "text/plain": "<Figure size 800x600 with 2 Axes>",
      "image/png": "[encoded data removed]"
     },
     "metadata": {},
     "output_type": "display_data"
    }
   ],
   "source": [
    "model = SVC()\n",
    "\n",
    "y_pred = train_model(model, X_train, X_test, y_train)\n",
    "results, conf_matrix = generate_results(y_pred, y_test)\n",
    "display_results(results)\n",
    "display_confusion_matrix(conf_matrix)"
   ],
   "metadata": {
    "collapsed": false,
    "pycharm": {
     "name": "#%%\n"
    },
    "ExecuteTime": {
     "end_time": "2023-07-15T22:37:07.776516187Z",
     "start_time": "2023-07-15T22:37:07.374402506Z"
    }
   }
  },
  {
   "cell_type": "markdown",
   "source": [
    "### Decision Tree"
   ],
   "metadata": {
    "collapsed": false
   }
  },
  {
   "cell_type": "code",
   "execution_count": 10,
   "outputs": [
    {
     "name": "stdout",
     "output_type": "stream",
     "text": [
      "Accuracy: 0.72\n",
      "ROC AUC Score: 0.72\n",
      "G-Mean: 0.52\n",
      "F1 Score: 0.7\n",
      "Sensitivity: 0.66\n",
      "Specificity: 0.78\n",
      "Precision: 0.74\n",
      "AVG: 0.65\n"
     ]
    },
    {
     "data": {
      "text/plain": "<Figure size 800x600 with 2 Axes>",
      "image/png": "[encoded data removed]"
     },
     "metadata": {},
     "output_type": "display_data"
    }
   ],
   "source": [
    "model = DecisionTreeClassifier()\n",
    "\n",
    "y_pred = train_model(model, X_train, X_test, y_train)\n",
    "results, conf_matrix = generate_results(y_pred, y_test)\n",
    "display_results(results)\n",
    "display_confusion_matrix(conf_matrix)"
   ],
   "metadata": {
    "collapsed": false,
    "pycharm": {
     "name": "#%%\n"
    },
    "ExecuteTime": {
     "end_time": "2023-07-15T22:37:08.149243243Z",
     "start_time": "2023-07-15T22:37:07.782477111Z"
    }
   }
  },
  {
   "cell_type": "markdown",
   "source": [
    "### Random Forest"
   ],
   "metadata": {
    "collapsed": false
   }
  },
  {
   "cell_type": "code",
   "execution_count": 11,
   "outputs": [
    {
     "name": "stdout",
     "output_type": "stream",
     "text": [
      "Accuracy: 0.81\n",
      "ROC AUC Score: 0.81\n",
      "G-Mean: 0.66\n",
      "F1 Score: 0.8\n",
      "Sensitivity: 0.77\n",
      "Specificity: 0.85\n",
      "Precision: 0.83\n",
      "AVG: 0.76\n"
     ]
    },
    {
     "data": {
      "text/plain": "<Figure size 800x600 with 2 Axes>",
      "image/png": "[encoded data removed]"
     },
     "metadata": {},
     "output_type": "display_data"
    }
   ],
   "source": [
    "model = RandomForestClassifier()\n",
    "\n",
    "y_pred = train_model(model, X_train, X_test, y_train)\n",
    "results, conf_matrix = generate_results(y_pred, y_test)\n",
    "display_results(results)\n",
    "display_confusion_matrix(conf_matrix)"
   ],
   "metadata": {
    "collapsed": false,
    "pycharm": {
     "name": "#%%\n"
    },
    "ExecuteTime": {
     "end_time": "2023-07-15T22:37:08.482906063Z",
     "start_time": "2023-07-15T22:37:08.091924808Z"
    }
   }
  },
  {
   "cell_type": "markdown",
   "source": [
    "### Ada Boost"
   ],
   "metadata": {
    "collapsed": false
   }
  },
  {
   "cell_type": "code",
   "execution_count": 12,
   "outputs": [
    {
     "name": "stdout",
     "output_type": "stream",
     "text": [
      "Accuracy: 0.79\n",
      "ROC AUC Score: 0.79\n",
      "G-Mean: 0.62\n",
      "F1 Score: 0.79\n",
      "Sensitivity: 0.8\n",
      "Specificity: 0.78\n",
      "Precision: 0.78\n",
      "AVG: 0.73\n"
     ]
    },
    {
     "data": {
      "text/plain": "<Figure size 800x600 with 2 Axes>",
      "image/png": "[encoded data removed]"
     },
     "metadata": {},
     "output_type": "display_data"
    }
   ],
   "source": [
    "model = AdaBoostClassifier()\n",
    "\n",
    "y_pred = train_model(model, X_train, X_test, y_train)\n",
    "results, conf_matrix = generate_results(y_pred, y_test)\n",
    "display_results(results)\n",
    "display_confusion_matrix(conf_matrix)"
   ],
   "metadata": {
    "collapsed": false,
    "pycharm": {
     "name": "#%%\n"
    },
    "ExecuteTime": {
     "end_time": "2023-07-15T22:37:09.155158114Z",
     "start_time": "2023-07-15T22:37:08.479895486Z"
    }
   }
  },
  {
   "cell_type": "markdown",
   "source": [
    "### Extreme Gradient Boosting (XGBoost)"
   ],
   "metadata": {
    "collapsed": false
   }
  },
  {
   "cell_type": "code",
   "execution_count": 13,
   "outputs": [
    {
     "name": "stdout",
     "output_type": "stream",
     "text": [
      "Accuracy: 0.79\n",
      "ROC AUC Score: 0.79\n",
      "G-Mean: 0.62\n",
      "F1 Score: 0.78\n",
      "Sensitivity: 0.75\n",
      "Specificity: 0.83\n",
      "Precision: 0.8\n",
      "AVG: 0.73\n"
     ]
    },
    {
     "data": {
      "text/plain": "<Figure size 800x600 with 2 Axes>",
      "image/png": "[encoded data removed]"
     },
     "metadata": {},
     "output_type": "display_data"
    }
   ],
   "source": [
    "model = xgb.XGBClassifier()\n",
    "\n",
    "y_pred = train_model(model, X_train, X_test, y_train)\n",
    "results, conf_matrix = generate_results(y_pred, y_test)\n",
    "display_results(results)\n",
    "display_confusion_matrix(conf_matrix)"
   ],
   "metadata": {
    "collapsed": false,
    "pycharm": {
     "name": "#%%\n"
    },
    "ExecuteTime": {
     "end_time": "2023-07-15T22:37:09.870708115Z",
     "start_time": "2023-07-15T22:37:09.084432318Z"
    }
   }
  },
  {
   "cell_type": "markdown",
   "source": [
    "### Stochastic Gradient Boosting (SGBoost)"
   ],
   "metadata": {
    "collapsed": false
   }
  },
  {
   "cell_type": "code",
   "execution_count": 14,
   "outputs": [
    {
     "name": "stdout",
     "output_type": "stream",
     "text": [
      "Accuracy: 0.82\n",
      "ROC AUC Score: 0.82\n",
      "G-Mean: 0.67\n",
      "F1 Score: 0.81\n",
      "Sensitivity: 0.8\n",
      "Specificity: 0.85\n",
      "Precision: 0.83\n",
      "AVG: 0.77\n"
     ]
    },
    {
     "data": {
      "text/plain": "<Figure size 800x600 with 2 Axes>",
      "image/png": "[encoded data removed]"
     },
     "metadata": {},
     "output_type": "display_data"
    }
   ],
   "source": [
    "model = HistGradientBoostingClassifier()\n",
    "\n",
    "y_pred = train_model(model, X_train, X_test, y_train)\n",
    "results, conf_matrix = generate_results(y_pred, y_test)\n",
    "display_results(results)\n",
    "display_confusion_matrix(conf_matrix)"
   ],
   "metadata": {
    "collapsed": false,
    "ExecuteTime": {
     "end_time": "2023-07-15T22:37:10.377472843Z",
     "start_time": "2023-07-15T22:37:09.877603866Z"
    }
   }
  },
  {
   "cell_type": "markdown",
   "source": [
    "### Multi-layer Perceptron (Neural Network)"
   ],
   "metadata": {
    "collapsed": false
   }
  },
  {
   "cell_type": "code",
   "execution_count": 15,
   "outputs": [
    {
     "name": "stdout",
     "output_type": "stream",
     "text": [
      "Accuracy: 0.84\n",
      "ROC AUC Score: 0.85\n",
      "G-Mean: 0.71\n",
      "F1 Score: 0.85\n",
      "Sensitivity: 0.89\n",
      "Specificity: 0.8\n",
      "Precision: 0.81\n",
      "AVG: 0.8\n"
     ]
    },
    {
     "data": {
      "text/plain": "<Figure size 800x600 with 2 Axes>",
      "image/png": "[encoded data removed]"
     },
     "metadata": {},
     "output_type": "display_data"
    }
   ],
   "source": [
    "model = MLPClassifier(hidden_layer_sizes=(64, 64), activation='relu', solver='adam')\n",
    "\n",
    "y_pred = train_model(model, X_train, X_test, y_train)\n",
    "results, conf_matrix = generate_results(y_pred, y_test)\n",
    "display_results(results)\n",
    "display_confusion_matrix(conf_matrix)"
   ],
   "metadata": {
    "collapsed": false,
    "pycharm": {
     "name": "#%%\n"
    },
    "ExecuteTime": {
     "end_time": "2023-07-15T22:37:12.511114657Z",
     "start_time": "2023-07-15T22:37:10.384972853Z"
    }
   }
  },
  {
   "cell_type": "markdown",
   "source": [
    "### KNeighbors"
   ],
   "metadata": {
    "collapsed": false
   }
  },
  {
   "cell_type": "code",
   "execution_count": 16,
   "outputs": [
    {
     "name": "stdout",
     "output_type": "stream",
     "text": [
      "Accuracy: 0.64\n",
      "ROC AUC Score: 0.64\n",
      "G-Mean: 0.42\n",
      "F1 Score: 0.64\n",
      "Sensitivity: 0.64\n",
      "Specificity: 0.65\n",
      "Precision: 0.64\n",
      "AVG: 0.57\n"
     ]
    },
    {
     "data": {
      "text/plain": "<Figure size 800x600 with 2 Axes>",
      "image/png": "[encoded data removed]"
     },
     "metadata": {},
     "output_type": "display_data"
    }
   ],
   "source": [
    "model = KNeighborsClassifier()\n",
    "\n",
    "y_pred = train_model(model, X_train, X_test, y_train)\n",
    "results, conf_matrix = generate_results(y_pred, y_test)\n",
    "display_results(results)\n",
    "display_confusion_matrix(conf_matrix)"
   ],
   "metadata": {
    "collapsed": false,
    "pycharm": {
     "name": "#%%\n"
    },
    "ExecuteTime": {
     "end_time": "2023-07-15T22:37:12.829169464Z",
     "start_time": "2023-07-15T22:37:12.531850132Z"
    }
   }
  },
  {
   "cell_type": "markdown",
   "source": [
    "### Gradient Boosting"
   ],
   "metadata": {
    "collapsed": false
   }
  },
  {
   "cell_type": "code",
   "execution_count": 17,
   "outputs": [
    {
     "name": "stdout",
     "output_type": "stream",
     "text": [
      "Accuracy: 0.77\n",
      "ROC AUC Score: 0.77\n",
      "G-Mean: 0.58\n",
      "F1 Score: 0.75\n",
      "Sensitivity: 0.73\n",
      "Specificity: 0.8\n",
      "Precision: 0.78\n",
      "AVG: 0.7\n"
     ]
    },
    {
     "data": {
      "text/plain": "<Figure size 800x600 with 2 Axes>",
      "image/png": "[encoded data removed]"
     },
     "metadata": {},
     "output_type": "display_data"
    }
   ],
   "source": [
    "model = GradientBoostingClassifier()\n",
    "\n",
    "y_pred = train_model(model, X_train, X_test, y_train)\n",
    "results, conf_matrix = generate_results(y_pred, y_test)\n",
    "display_results(results)\n",
    "display_confusion_matrix(conf_matrix)"
   ],
   "metadata": {
    "collapsed": false,
    "pycharm": {
     "name": "#%%\n"
    },
    "ExecuteTime": {
     "end_time": "2023-07-15T22:37:13.287351886Z",
     "start_time": "2023-07-15T22:37:12.836341072Z"
    }
   }
  },
  {
   "cell_type": "markdown",
   "source": [
    "### Cat Boost"
   ],
   "metadata": {
    "collapsed": false
   }
  },
  {
   "cell_type": "code",
   "execution_count": 18,
   "outputs": [
    {
     "name": "stdout",
     "output_type": "stream",
     "text": [
      "Learning rate set to 0.00548\n",
      "0:\tlearn: 0.6883067\ttotal: 48ms\tremaining: 48s\n",
      "1:\tlearn: 0.6832952\ttotal: 49.1ms\tremaining: 24.5s\n",
      "2:\tlearn: 0.6783299\ttotal: 49.9ms\tremaining: 16.6s\n",
      "3:\tlearn: 0.6737245\ttotal: 50.8ms\tremaining: 12.7s\n",
      "4:\tlearn: 0.6694987\ttotal: 51.7ms\tremaining: 10.3s\n",
      "5:\tlearn: 0.6650759\ttotal: 52.7ms\tremaining: 8.72s\n",
      "6:\tlearn: 0.6609385\ttotal: 53.6ms\tremaining: 7.6s\n",
      "7:\tlearn: 0.6563827\ttotal: 54.5ms\tremaining: 6.76s\n",
      "8:\tlearn: 0.6532882\ttotal: 55.4ms\tremaining: 6.1s\n",
      "9:\tlearn: 0.6488003\ttotal: 56.3ms\tremaining: 5.57s\n",
      "10:\tlearn: 0.6443116\ttotal: 57.2ms\tremaining: 5.14s\n",
      "11:\tlearn: 0.6403934\ttotal: 58.1ms\tremaining: 4.78s\n",
      "12:\tlearn: 0.6371958\ttotal: 59ms\tremaining: 4.48s\n",
      "13:\tlearn: 0.6331158\ttotal: 59.9ms\tremaining: 4.22s\n",
      "14:\tlearn: 0.6289336\ttotal: 60.8ms\tremaining: 3.99s\n",
      "15:\tlearn: 0.6250823\ttotal: 61.7ms\tremaining: 3.79s\n",
      "16:\tlearn: 0.6210721\ttotal: 62.7ms\tremaining: 3.63s\n",
      "17:\tlearn: 0.6178950\ttotal: 63.8ms\tremaining: 3.48s\n",
      "18:\tlearn: 0.6141916\ttotal: 64.7ms\tremaining: 3.34s\n",
      "19:\tlearn: 0.6109488\ttotal: 65.9ms\tremaining: 3.23s\n",
      "20:\tlearn: 0.6072911\ttotal: 67ms\tremaining: 3.12s\n",
      "21:\tlearn: 0.6032468\ttotal: 68ms\tremaining: 3.02s\n",
      "22:\tlearn: 0.6000201\ttotal: 69ms\tremaining: 2.93s\n",
      "23:\tlearn: 0.5970184\ttotal: 69.9ms\tremaining: 2.84s\n",
      "24:\tlearn: 0.5935532\ttotal: 70.8ms\tremaining: 2.76s\n",
      "25:\tlearn: 0.5903146\ttotal: 71.7ms\tremaining: 2.69s\n",
      "26:\tlearn: 0.5864910\ttotal: 72.6ms\tremaining: 2.62s\n",
      "27:\tlearn: 0.5835850\ttotal: 73.5ms\tremaining: 2.55s\n",
      "28:\tlearn: 0.5803788\ttotal: 74.5ms\tremaining: 2.5s\n",
      "29:\tlearn: 0.5783858\ttotal: 75.4ms\tremaining: 2.44s\n",
      "30:\tlearn: 0.5753640\ttotal: 76.3ms\tremaining: 2.38s\n",
      "31:\tlearn: 0.5730596\ttotal: 77.6ms\tremaining: 2.35s\n",
      "32:\tlearn: 0.5694867\ttotal: 78.9ms\tremaining: 2.31s\n",
      "33:\tlearn: 0.5657764\ttotal: 80.5ms\tremaining: 2.29s\n",
      "34:\tlearn: 0.5621675\ttotal: 81.4ms\tremaining: 2.25s\n",
      "35:\tlearn: 0.5591377\ttotal: 82.3ms\tremaining: 2.21s\n",
      "36:\tlearn: 0.5559186\ttotal: 83.3ms\tremaining: 2.17s\n",
      "37:\tlearn: 0.5531443\ttotal: 84.9ms\tremaining: 2.15s\n",
      "38:\tlearn: 0.5498205\ttotal: 86.1ms\tremaining: 2.12s\n",
      "39:\tlearn: 0.5468015\ttotal: 87.1ms\tremaining: 2.09s\n",
      "40:\tlearn: 0.5432614\ttotal: 88ms\tremaining: 2.06s\n",
      "41:\tlearn: 0.5398021\ttotal: 88.9ms\tremaining: 2.03s\n",
      "42:\tlearn: 0.5361576\ttotal: 89.9ms\tremaining: 2s\n",
      "43:\tlearn: 0.5331999\ttotal: 90.7ms\tremaining: 1.97s\n",
      "44:\tlearn: 0.5300741\ttotal: 91.7ms\tremaining: 1.95s\n",
      "45:\tlearn: 0.5268356\ttotal: 92.7ms\tremaining: 1.92s\n",
      "46:\tlearn: 0.5242635\ttotal: 93.7ms\tremaining: 1.9s\n",
      "47:\tlearn: 0.5213414\ttotal: 94.8ms\tremaining: 1.88s\n",
      "48:\tlearn: 0.5190200\ttotal: 96.1ms\tremaining: 1.86s\n",
      "49:\tlearn: 0.5157691\ttotal: 97.4ms\tremaining: 1.85s\n",
      "50:\tlearn: 0.5126467\ttotal: 98.5ms\tremaining: 1.83s\n",
      "51:\tlearn: 0.5103912\ttotal: 99.4ms\tremaining: 1.81s\n",
      "52:\tlearn: 0.5075627\ttotal: 100ms\tremaining: 1.79s\n",
      "53:\tlearn: 0.5051596\ttotal: 101ms\tremaining: 1.77s\n",
      "54:\tlearn: 0.5026137\ttotal: 102ms\tremaining: 1.75s\n",
      "55:\tlearn: 0.4996089\ttotal: 103ms\tremaining: 1.74s\n",
      "56:\tlearn: 0.4975502\ttotal: 104ms\tremaining: 1.72s\n",
      "57:\tlearn: 0.4947758\ttotal: 105ms\tremaining: 1.7s\n",
      "58:\tlearn: 0.4921954\ttotal: 106ms\tremaining: 1.69s\n",
      "59:\tlearn: 0.4894013\ttotal: 107ms\tremaining: 1.67s\n",
      "60:\tlearn: 0.4865378\ttotal: 108ms\tremaining: 1.66s\n",
      "61:\tlearn: 0.4836714\ttotal: 109ms\tremaining: 1.65s\n",
      "62:\tlearn: 0.4811325\ttotal: 111ms\tremaining: 1.65s\n",
      "63:\tlearn: 0.4782161\ttotal: 112ms\tremaining: 1.63s\n",
      "64:\tlearn: 0.4759435\ttotal: 113ms\tremaining: 1.62s\n",
      "65:\tlearn: 0.4738604\ttotal: 114ms\tremaining: 1.61s\n",
      "66:\tlearn: 0.4714641\ttotal: 115ms\tremaining: 1.6s\n",
      "67:\tlearn: 0.4688667\ttotal: 116ms\tremaining: 1.59s\n",
      "68:\tlearn: 0.4664211\ttotal: 117ms\tremaining: 1.58s\n",
      "69:\tlearn: 0.4637424\ttotal: 119ms\tremaining: 1.58s\n",
      "70:\tlearn: 0.4617427\ttotal: 120ms\tremaining: 1.56s\n",
      "71:\tlearn: 0.4592175\ttotal: 121ms\tremaining: 1.56s\n",
      "72:\tlearn: 0.4572030\ttotal: 122ms\tremaining: 1.55s\n",
      "73:\tlearn: 0.4545572\ttotal: 123ms\tremaining: 1.54s\n",
      "74:\tlearn: 0.4523745\ttotal: 124ms\tremaining: 1.53s\n",
      "75:\tlearn: 0.4499538\ttotal: 125ms\tremaining: 1.52s\n",
      "76:\tlearn: 0.4482099\ttotal: 126ms\tremaining: 1.51s\n",
      "77:\tlearn: 0.4461423\ttotal: 127ms\tremaining: 1.5s\n",
      "78:\tlearn: 0.4438906\ttotal: 128ms\tremaining: 1.5s\n",
      "79:\tlearn: 0.4419038\ttotal: 129ms\tremaining: 1.49s\n",
      "80:\tlearn: 0.4396016\ttotal: 130ms\tremaining: 1.48s\n",
      "81:\tlearn: 0.4371598\ttotal: 132ms\tremaining: 1.47s\n",
      "82:\tlearn: 0.4349850\ttotal: 133ms\tremaining: 1.47s\n",
      "83:\tlearn: 0.4331217\ttotal: 134ms\tremaining: 1.46s\n",
      "84:\tlearn: 0.4317814\ttotal: 135ms\tremaining: 1.45s\n",
      "85:\tlearn: 0.4296864\ttotal: 136ms\tremaining: 1.44s\n",
      "86:\tlearn: 0.4277968\ttotal: 136ms\tremaining: 1.43s\n",
      "87:\tlearn: 0.4256593\ttotal: 137ms\tremaining: 1.42s\n",
      "88:\tlearn: 0.4236958\ttotal: 138ms\tremaining: 1.42s\n",
      "89:\tlearn: 0.4215123\ttotal: 140ms\tremaining: 1.41s\n",
      "90:\tlearn: 0.4196417\ttotal: 141ms\tremaining: 1.41s\n",
      "91:\tlearn: 0.4182323\ttotal: 142ms\tremaining: 1.4s\n",
      "92:\tlearn: 0.4163470\ttotal: 143ms\tremaining: 1.4s\n",
      "93:\tlearn: 0.4148159\ttotal: 144ms\tremaining: 1.39s\n",
      "94:\tlearn: 0.4130830\ttotal: 145ms\tremaining: 1.39s\n",
      "95:\tlearn: 0.4112406\ttotal: 147ms\tremaining: 1.38s\n",
      "96:\tlearn: 0.4092378\ttotal: 148ms\tremaining: 1.38s\n",
      "97:\tlearn: 0.4075811\ttotal: 149ms\tremaining: 1.37s\n",
      "98:\tlearn: 0.4059892\ttotal: 150ms\tremaining: 1.36s\n",
      "99:\tlearn: 0.4040361\ttotal: 151ms\tremaining: 1.36s\n",
      "100:\tlearn: 0.4020963\ttotal: 152ms\tremaining: 1.35s\n",
      "101:\tlearn: 0.4009514\ttotal: 153ms\tremaining: 1.34s\n",
      "102:\tlearn: 0.3992145\ttotal: 154ms\tremaining: 1.34s\n",
      "103:\tlearn: 0.3975912\ttotal: 155ms\tremaining: 1.33s\n",
      "104:\tlearn: 0.3958567\ttotal: 156ms\tremaining: 1.33s\n",
      "105:\tlearn: 0.3943407\ttotal: 157ms\tremaining: 1.32s\n",
      "106:\tlearn: 0.3925829\ttotal: 158ms\tremaining: 1.32s\n",
      "107:\tlearn: 0.3909672\ttotal: 159ms\tremaining: 1.31s\n",
      "108:\tlearn: 0.3898966\ttotal: 160ms\tremaining: 1.31s\n",
      "109:\tlearn: 0.3883881\ttotal: 161ms\tremaining: 1.3s\n",
      "110:\tlearn: 0.3868003\ttotal: 162ms\tremaining: 1.3s\n",
      "111:\tlearn: 0.3851098\ttotal: 163ms\tremaining: 1.29s\n",
      "112:\tlearn: 0.3839043\ttotal: 164ms\tremaining: 1.29s\n",
      "113:\tlearn: 0.3821367\ttotal: 165ms\tremaining: 1.28s\n",
      "114:\tlearn: 0.3807026\ttotal: 166ms\tremaining: 1.28s\n",
      "115:\tlearn: 0.3792934\ttotal: 167ms\tremaining: 1.27s\n",
      "116:\tlearn: 0.3777450\ttotal: 168ms\tremaining: 1.27s\n",
      "117:\tlearn: 0.3761751\ttotal: 169ms\tremaining: 1.26s\n",
      "118:\tlearn: 0.3743495\ttotal: 170ms\tremaining: 1.26s\n",
      "119:\tlearn: 0.3725735\ttotal: 171ms\tremaining: 1.26s\n",
      "120:\tlearn: 0.3713333\ttotal: 173ms\tremaining: 1.25s\n",
      "121:\tlearn: 0.3702606\ttotal: 174ms\tremaining: 1.25s\n",
      "122:\tlearn: 0.3689062\ttotal: 175ms\tremaining: 1.25s\n",
      "123:\tlearn: 0.3676303\ttotal: 176ms\tremaining: 1.24s\n",
      "124:\tlearn: 0.3662576\ttotal: 177ms\tremaining: 1.24s\n",
      "125:\tlearn: 0.3650713\ttotal: 178ms\tremaining: 1.23s\n",
      "126:\tlearn: 0.3637773\ttotal: 179ms\tremaining: 1.23s\n",
      "127:\tlearn: 0.3624531\ttotal: 180ms\tremaining: 1.23s\n",
      "128:\tlearn: 0.3612091\ttotal: 181ms\tremaining: 1.22s\n",
      "129:\tlearn: 0.3600030\ttotal: 182ms\tremaining: 1.22s\n",
      "130:\tlearn: 0.3582477\ttotal: 183ms\tremaining: 1.22s\n",
      "131:\tlearn: 0.3571857\ttotal: 184ms\tremaining: 1.21s\n",
      "132:\tlearn: 0.3562894\ttotal: 185ms\tremaining: 1.21s\n",
      "133:\tlearn: 0.3549030\ttotal: 187ms\tremaining: 1.21s\n",
      "134:\tlearn: 0.3535247\ttotal: 188ms\tremaining: 1.21s\n",
      "135:\tlearn: 0.3523607\ttotal: 189ms\tremaining: 1.2s\n",
      "136:\tlearn: 0.3511257\ttotal: 191ms\tremaining: 1.21s\n",
      "137:\tlearn: 0.3498651\ttotal: 193ms\tremaining: 1.2s\n",
      "138:\tlearn: 0.3484974\ttotal: 194ms\tremaining: 1.2s\n",
      "139:\tlearn: 0.3477209\ttotal: 195ms\tremaining: 1.2s\n",
      "140:\tlearn: 0.3462543\ttotal: 196ms\tremaining: 1.19s\n",
      "141:\tlearn: 0.3451402\ttotal: 197ms\tremaining: 1.19s\n",
      "142:\tlearn: 0.3438039\ttotal: 197ms\tremaining: 1.18s\n",
      "143:\tlearn: 0.3424985\ttotal: 198ms\tremaining: 1.18s\n",
      "144:\tlearn: 0.3413139\ttotal: 199ms\tremaining: 1.18s\n",
      "145:\tlearn: 0.3401807\ttotal: 201ms\tremaining: 1.18s\n",
      "146:\tlearn: 0.3387814\ttotal: 202ms\tremaining: 1.17s\n",
      "147:\tlearn: 0.3371102\ttotal: 204ms\tremaining: 1.17s\n",
      "148:\tlearn: 0.3358767\ttotal: 205ms\tremaining: 1.17s\n",
      "149:\tlearn: 0.3347135\ttotal: 206ms\tremaining: 1.17s\n",
      "150:\tlearn: 0.3333193\ttotal: 208ms\tremaining: 1.17s\n",
      "151:\tlearn: 0.3322506\ttotal: 209ms\tremaining: 1.17s\n",
      "152:\tlearn: 0.3313531\ttotal: 210ms\tremaining: 1.16s\n",
      "153:\tlearn: 0.3305451\ttotal: 211ms\tremaining: 1.16s\n",
      "154:\tlearn: 0.3296243\ttotal: 213ms\tremaining: 1.16s\n",
      "155:\tlearn: 0.3285755\ttotal: 214ms\tremaining: 1.16s\n",
      "156:\tlearn: 0.3276190\ttotal: 215ms\tremaining: 1.16s\n",
      "157:\tlearn: 0.3267078\ttotal: 216ms\tremaining: 1.15s\n",
      "158:\tlearn: 0.3256974\ttotal: 217ms\tremaining: 1.15s\n",
      "159:\tlearn: 0.3246196\ttotal: 218ms\tremaining: 1.15s\n",
      "160:\tlearn: 0.3233818\ttotal: 219ms\tremaining: 1.14s\n",
      "161:\tlearn: 0.3219490\ttotal: 222ms\tremaining: 1.15s\n",
      "162:\tlearn: 0.3207440\ttotal: 224ms\tremaining: 1.15s\n",
      "163:\tlearn: 0.3195675\ttotal: 225ms\tremaining: 1.15s\n",
      "164:\tlearn: 0.3185120\ttotal: 226ms\tremaining: 1.14s\n",
      "165:\tlearn: 0.3172869\ttotal: 227ms\tremaining: 1.14s\n",
      "166:\tlearn: 0.3162770\ttotal: 228ms\tremaining: 1.14s\n",
      "167:\tlearn: 0.3153975\ttotal: 229ms\tremaining: 1.13s\n",
      "168:\tlearn: 0.3143821\ttotal: 230ms\tremaining: 1.13s\n",
      "169:\tlearn: 0.3134662\ttotal: 231ms\tremaining: 1.13s\n",
      "170:\tlearn: 0.3123963\ttotal: 232ms\tremaining: 1.12s\n",
      "171:\tlearn: 0.3114795\ttotal: 233ms\tremaining: 1.12s\n",
      "172:\tlearn: 0.3102893\ttotal: 233ms\tremaining: 1.12s\n",
      "173:\tlearn: 0.3096739\ttotal: 234ms\tremaining: 1.11s\n",
      "174:\tlearn: 0.3088098\ttotal: 235ms\tremaining: 1.11s\n",
      "175:\tlearn: 0.3078337\ttotal: 236ms\tremaining: 1.11s\n",
      "176:\tlearn: 0.3068470\ttotal: 237ms\tremaining: 1.1s\n",
      "177:\tlearn: 0.3059395\ttotal: 238ms\tremaining: 1.1s\n",
      "178:\tlearn: 0.3050285\ttotal: 239ms\tremaining: 1.1s\n",
      "179:\tlearn: 0.3039721\ttotal: 240ms\tremaining: 1.09s\n",
      "180:\tlearn: 0.3030074\ttotal: 241ms\tremaining: 1.09s\n",
      "181:\tlearn: 0.3017783\ttotal: 242ms\tremaining: 1.09s\n",
      "182:\tlearn: 0.3005285\ttotal: 243ms\tremaining: 1.09s\n",
      "183:\tlearn: 0.2996142\ttotal: 244ms\tremaining: 1.08s\n",
      "184:\tlearn: 0.2987699\ttotal: 246ms\tremaining: 1.08s\n",
      "185:\tlearn: 0.2980388\ttotal: 247ms\tremaining: 1.08s\n",
      "186:\tlearn: 0.2972895\ttotal: 249ms\tremaining: 1.08s\n",
      "187:\tlearn: 0.2963720\ttotal: 250ms\tremaining: 1.08s\n",
      "188:\tlearn: 0.2956795\ttotal: 252ms\tremaining: 1.08s\n",
      "189:\tlearn: 0.2950148\ttotal: 254ms\tremaining: 1.08s\n",
      "190:\tlearn: 0.2942236\ttotal: 255ms\tremaining: 1.08s\n",
      "191:\tlearn: 0.2936455\ttotal: 256ms\tremaining: 1.08s\n",
      "192:\tlearn: 0.2928111\ttotal: 257ms\tremaining: 1.07s\n",
      "193:\tlearn: 0.2919565\ttotal: 258ms\tremaining: 1.07s\n",
      "194:\tlearn: 0.2911035\ttotal: 259ms\tremaining: 1.07s\n",
      "195:\tlearn: 0.2904022\ttotal: 260ms\tremaining: 1.07s\n",
      "196:\tlearn: 0.2894549\ttotal: 262ms\tremaining: 1.07s\n",
      "197:\tlearn: 0.2886721\ttotal: 263ms\tremaining: 1.06s\n",
      "198:\tlearn: 0.2877609\ttotal: 264ms\tremaining: 1.06s\n",
      "199:\tlearn: 0.2870836\ttotal: 265ms\tremaining: 1.06s\n",
      "200:\tlearn: 0.2863374\ttotal: 267ms\tremaining: 1.06s\n",
      "201:\tlearn: 0.2853608\ttotal: 268ms\tremaining: 1.06s\n",
      "202:\tlearn: 0.2843435\ttotal: 269ms\tremaining: 1.06s\n",
      "203:\tlearn: 0.2836751\ttotal: 270ms\tremaining: 1.05s\n",
      "204:\tlearn: 0.2828465\ttotal: 271ms\tremaining: 1.05s\n",
      "205:\tlearn: 0.2821309\ttotal: 272ms\tremaining: 1.05s\n",
      "206:\tlearn: 0.2813143\ttotal: 273ms\tremaining: 1.05s\n",
      "207:\tlearn: 0.2802481\ttotal: 275ms\tremaining: 1.05s\n",
      "208:\tlearn: 0.2794385\ttotal: 276ms\tremaining: 1.04s\n",
      "209:\tlearn: 0.2785962\ttotal: 277ms\tremaining: 1.04s\n",
      "210:\tlearn: 0.2775409\ttotal: 280ms\tremaining: 1.04s\n",
      "211:\tlearn: 0.2767166\ttotal: 281ms\tremaining: 1.04s\n",
      "212:\tlearn: 0.2761888\ttotal: 283ms\tremaining: 1.04s\n",
      "213:\tlearn: 0.2753297\ttotal: 284ms\tremaining: 1.04s\n",
      "214:\tlearn: 0.2745196\ttotal: 285ms\tremaining: 1.04s\n",
      "215:\tlearn: 0.2737896\ttotal: 286ms\tremaining: 1.04s\n",
      "216:\tlearn: 0.2731620\ttotal: 287ms\tremaining: 1.04s\n",
      "217:\tlearn: 0.2722488\ttotal: 288ms\tremaining: 1.03s\n",
      "218:\tlearn: 0.2716363\ttotal: 289ms\tremaining: 1.03s\n",
      "219:\tlearn: 0.2709541\ttotal: 290ms\tremaining: 1.03s\n",
      "220:\tlearn: 0.2699554\ttotal: 292ms\tremaining: 1.03s\n",
      "221:\tlearn: 0.2692667\ttotal: 293ms\tremaining: 1.03s\n",
      "222:\tlearn: 0.2686694\ttotal: 294ms\tremaining: 1.02s\n",
      "223:\tlearn: 0.2679044\ttotal: 296ms\tremaining: 1.02s\n",
      "224:\tlearn: 0.2672491\ttotal: 298ms\tremaining: 1.03s\n",
      "225:\tlearn: 0.2665333\ttotal: 300ms\tremaining: 1.03s\n",
      "226:\tlearn: 0.2658541\ttotal: 302ms\tremaining: 1.03s\n",
      "227:\tlearn: 0.2648913\ttotal: 303ms\tremaining: 1.02s\n",
      "228:\tlearn: 0.2643365\ttotal: 304ms\tremaining: 1.02s\n",
      "229:\tlearn: 0.2634619\ttotal: 305ms\tremaining: 1.02s\n",
      "230:\tlearn: 0.2627624\ttotal: 308ms\tremaining: 1.02s\n",
      "231:\tlearn: 0.2618069\ttotal: 309ms\tremaining: 1.02s\n",
      "232:\tlearn: 0.2611296\ttotal: 310ms\tremaining: 1.02s\n",
      "233:\tlearn: 0.2604093\ttotal: 312ms\tremaining: 1.02s\n",
      "234:\tlearn: 0.2596033\ttotal: 315ms\tremaining: 1.02s\n",
      "235:\tlearn: 0.2589416\ttotal: 316ms\tremaining: 1.02s\n",
      "236:\tlearn: 0.2580099\ttotal: 317ms\tremaining: 1.02s\n",
      "237:\tlearn: 0.2575137\ttotal: 318ms\tremaining: 1.02s\n",
      "238:\tlearn: 0.2569328\ttotal: 320ms\tremaining: 1.02s\n",
      "239:\tlearn: 0.2564191\ttotal: 321ms\tremaining: 1.01s\n",
      "240:\tlearn: 0.2557491\ttotal: 322ms\tremaining: 1.01s\n",
      "241:\tlearn: 0.2550571\ttotal: 323ms\tremaining: 1.01s\n",
      "242:\tlearn: 0.2541963\ttotal: 326ms\tremaining: 1.01s\n",
      "243:\tlearn: 0.2534247\ttotal: 328ms\tremaining: 1.01s\n",
      "244:\tlearn: 0.2526492\ttotal: 330ms\tremaining: 1.02s\n",
      "245:\tlearn: 0.2521169\ttotal: 331ms\tremaining: 1.01s\n",
      "246:\tlearn: 0.2515031\ttotal: 332ms\tremaining: 1.01s\n",
      "247:\tlearn: 0.2507748\ttotal: 333ms\tremaining: 1.01s\n",
      "248:\tlearn: 0.2500780\ttotal: 335ms\tremaining: 1.01s\n",
      "249:\tlearn: 0.2495105\ttotal: 338ms\tremaining: 1.01s\n",
      "250:\tlearn: 0.2489974\ttotal: 339ms\tremaining: 1.01s\n",
      "251:\tlearn: 0.2485474\ttotal: 340ms\tremaining: 1.01s\n",
      "252:\tlearn: 0.2479609\ttotal: 342ms\tremaining: 1.01s\n",
      "253:\tlearn: 0.2472277\ttotal: 344ms\tremaining: 1.01s\n",
      "254:\tlearn: 0.2466338\ttotal: 346ms\tremaining: 1.01s\n",
      "255:\tlearn: 0.2460466\ttotal: 347ms\tremaining: 1.01s\n",
      "256:\tlearn: 0.2455269\ttotal: 348ms\tremaining: 1s\n",
      "257:\tlearn: 0.2449375\ttotal: 349ms\tremaining: 1s\n",
      "258:\tlearn: 0.2441953\ttotal: 350ms\tremaining: 1s\n",
      "259:\tlearn: 0.2435038\ttotal: 352ms\tremaining: 1s\n",
      "260:\tlearn: 0.2430463\ttotal: 354ms\tremaining: 1s\n",
      "261:\tlearn: 0.2424899\ttotal: 356ms\tremaining: 1s\n",
      "262:\tlearn: 0.2419789\ttotal: 357ms\tremaining: 1s\n",
      "263:\tlearn: 0.2415690\ttotal: 360ms\tremaining: 1s\n",
      "264:\tlearn: 0.2407777\ttotal: 362ms\tremaining: 1s\n",
      "265:\tlearn: 0.2401608\ttotal: 364ms\tremaining: 1s\n",
      "266:\tlearn: 0.2394401\ttotal: 365ms\tremaining: 1s\n",
      "267:\tlearn: 0.2389832\ttotal: 367ms\tremaining: 1s\n",
      "268:\tlearn: 0.2384091\ttotal: 369ms\tremaining: 1s\n",
      "269:\tlearn: 0.2376833\ttotal: 371ms\tremaining: 1s\n",
      "270:\tlearn: 0.2371034\ttotal: 374ms\tremaining: 1s\n",
      "271:\tlearn: 0.2364862\ttotal: 375ms\tremaining: 1s\n",
      "272:\tlearn: 0.2360254\ttotal: 376ms\tremaining: 1s\n",
      "273:\tlearn: 0.2356241\ttotal: 378ms\tremaining: 1s\n",
      "274:\tlearn: 0.2350443\ttotal: 379ms\tremaining: 999ms\n",
      "275:\tlearn: 0.2344603\ttotal: 380ms\tremaining: 997ms\n",
      "276:\tlearn: 0.2340531\ttotal: 381ms\tremaining: 995ms\n",
      "277:\tlearn: 0.2336367\ttotal: 383ms\tremaining: 994ms\n",
      "278:\tlearn: 0.2332558\ttotal: 384ms\tremaining: 993ms\n",
      "279:\tlearn: 0.2325955\ttotal: 386ms\tremaining: 992ms\n",
      "280:\tlearn: 0.2319048\ttotal: 388ms\tremaining: 992ms\n",
      "281:\tlearn: 0.2314711\ttotal: 389ms\tremaining: 991ms\n",
      "282:\tlearn: 0.2308984\ttotal: 390ms\tremaining: 989ms\n",
      "283:\tlearn: 0.2305398\ttotal: 391ms\tremaining: 987ms\n",
      "284:\tlearn: 0.2301496\ttotal: 394ms\tremaining: 987ms\n",
      "285:\tlearn: 0.2296019\ttotal: 395ms\tremaining: 986ms\n",
      "286:\tlearn: 0.2288908\ttotal: 396ms\tremaining: 984ms\n",
      "287:\tlearn: 0.2282185\ttotal: 397ms\tremaining: 982ms\n",
      "288:\tlearn: 0.2277326\ttotal: 399ms\tremaining: 982ms\n",
      "289:\tlearn: 0.2272657\ttotal: 400ms\tremaining: 980ms\n",
      "290:\tlearn: 0.2268319\ttotal: 403ms\tremaining: 981ms\n",
      "291:\tlearn: 0.2264228\ttotal: 404ms\tremaining: 980ms\n",
      "292:\tlearn: 0.2258668\ttotal: 405ms\tremaining: 978ms\n",
      "293:\tlearn: 0.2254371\ttotal: 406ms\tremaining: 976ms\n",
      "294:\tlearn: 0.2249964\ttotal: 407ms\tremaining: 974ms\n",
      "295:\tlearn: 0.2246841\ttotal: 408ms\tremaining: 971ms\n",
      "296:\tlearn: 0.2241410\ttotal: 410ms\tremaining: 970ms\n",
      "297:\tlearn: 0.2234765\ttotal: 411ms\tremaining: 968ms\n",
      "298:\tlearn: 0.2228918\ttotal: 412ms\tremaining: 967ms\n",
      "299:\tlearn: 0.2222763\ttotal: 414ms\tremaining: 965ms\n",
      "300:\tlearn: 0.2217866\ttotal: 415ms\tremaining: 964ms\n",
      "301:\tlearn: 0.2211989\ttotal: 417ms\tremaining: 963ms\n",
      "302:\tlearn: 0.2208362\ttotal: 418ms\tremaining: 961ms\n",
      "303:\tlearn: 0.2203703\ttotal: 419ms\tremaining: 959ms\n",
      "304:\tlearn: 0.2200411\ttotal: 420ms\tremaining: 957ms\n",
      "305:\tlearn: 0.2194865\ttotal: 421ms\tremaining: 955ms\n",
      "306:\tlearn: 0.2188775\ttotal: 422ms\tremaining: 953ms\n",
      "307:\tlearn: 0.2184687\ttotal: 423ms\tremaining: 951ms\n",
      "308:\tlearn: 0.2179995\ttotal: 424ms\tremaining: 949ms\n",
      "309:\tlearn: 0.2173587\ttotal: 425ms\tremaining: 947ms\n",
      "310:\tlearn: 0.2169673\ttotal: 427ms\tremaining: 946ms\n",
      "311:\tlearn: 0.2167057\ttotal: 428ms\tremaining: 944ms\n",
      "312:\tlearn: 0.2161428\ttotal: 429ms\tremaining: 942ms\n",
      "313:\tlearn: 0.2156259\ttotal: 430ms\tremaining: 940ms\n",
      "314:\tlearn: 0.2152578\ttotal: 431ms\tremaining: 938ms\n",
      "315:\tlearn: 0.2147370\ttotal: 432ms\tremaining: 936ms\n",
      "316:\tlearn: 0.2142572\ttotal: 433ms\tremaining: 934ms\n",
      "317:\tlearn: 0.2138305\ttotal: 435ms\tremaining: 932ms\n",
      "318:\tlearn: 0.2132798\ttotal: 436ms\tremaining: 930ms\n",
      "319:\tlearn: 0.2127511\ttotal: 437ms\tremaining: 929ms\n",
      "320:\tlearn: 0.2122274\ttotal: 438ms\tremaining: 927ms\n",
      "321:\tlearn: 0.2117491\ttotal: 440ms\tremaining: 927ms\n",
      "322:\tlearn: 0.2113288\ttotal: 442ms\tremaining: 926ms\n",
      "323:\tlearn: 0.2108753\ttotal: 443ms\tremaining: 924ms\n",
      "324:\tlearn: 0.2104710\ttotal: 444ms\tremaining: 922ms\n",
      "325:\tlearn: 0.2100033\ttotal: 445ms\tremaining: 920ms\n",
      "326:\tlearn: 0.2096525\ttotal: 447ms\tremaining: 919ms\n",
      "327:\tlearn: 0.2089450\ttotal: 448ms\tremaining: 918ms\n",
      "328:\tlearn: 0.2083715\ttotal: 449ms\tremaining: 917ms\n",
      "329:\tlearn: 0.2079290\ttotal: 451ms\tremaining: 915ms\n",
      "330:\tlearn: 0.2074694\ttotal: 452ms\tremaining: 913ms\n",
      "331:\tlearn: 0.2070290\ttotal: 453ms\tremaining: 912ms\n",
      "332:\tlearn: 0.2065573\ttotal: 455ms\tremaining: 911ms\n",
      "333:\tlearn: 0.2061939\ttotal: 456ms\tremaining: 910ms\n",
      "334:\tlearn: 0.2057092\ttotal: 457ms\tremaining: 908ms\n",
      "335:\tlearn: 0.2053309\ttotal: 459ms\tremaining: 906ms\n",
      "336:\tlearn: 0.2048620\ttotal: 460ms\tremaining: 906ms\n",
      "337:\tlearn: 0.2043554\ttotal: 462ms\tremaining: 905ms\n",
      "338:\tlearn: 0.2041824\ttotal: 463ms\tremaining: 903ms\n",
      "339:\tlearn: 0.2039201\ttotal: 465ms\tremaining: 902ms\n",
      "340:\tlearn: 0.2036341\ttotal: 466ms\tremaining: 900ms\n",
      "341:\tlearn: 0.2032749\ttotal: 467ms\tremaining: 899ms\n",
      "342:\tlearn: 0.2027984\ttotal: 469ms\tremaining: 898ms\n",
      "343:\tlearn: 0.2023308\ttotal: 471ms\tremaining: 897ms\n",
      "344:\tlearn: 0.2017532\ttotal: 472ms\tremaining: 896ms\n",
      "345:\tlearn: 0.2014170\ttotal: 473ms\tremaining: 894ms\n",
      "346:\tlearn: 0.2009889\ttotal: 474ms\tremaining: 892ms\n",
      "347:\tlearn: 0.2006008\ttotal: 476ms\tremaining: 891ms\n",
      "348:\tlearn: 0.2001270\ttotal: 477ms\tremaining: 890ms\n",
      "349:\tlearn: 0.1996232\ttotal: 479ms\tremaining: 889ms\n",
      "350:\tlearn: 0.1990423\ttotal: 480ms\tremaining: 888ms\n",
      "351:\tlearn: 0.1986908\ttotal: 482ms\tremaining: 887ms\n",
      "352:\tlearn: 0.1983663\ttotal: 483ms\tremaining: 886ms\n",
      "353:\tlearn: 0.1979368\ttotal: 485ms\tremaining: 885ms\n",
      "354:\tlearn: 0.1975619\ttotal: 486ms\tremaining: 883ms\n",
      "355:\tlearn: 0.1969980\ttotal: 487ms\tremaining: 881ms\n",
      "356:\tlearn: 0.1966672\ttotal: 489ms\tremaining: 880ms\n",
      "357:\tlearn: 0.1961575\ttotal: 490ms\tremaining: 879ms\n",
      "358:\tlearn: 0.1957582\ttotal: 492ms\tremaining: 879ms\n",
      "359:\tlearn: 0.1952674\ttotal: 493ms\tremaining: 877ms\n",
      "360:\tlearn: 0.1950051\ttotal: 495ms\tremaining: 876ms\n",
      "361:\tlearn: 0.1946709\ttotal: 496ms\tremaining: 874ms\n",
      "362:\tlearn: 0.1944485\ttotal: 497ms\tremaining: 873ms\n",
      "363:\tlearn: 0.1940329\ttotal: 499ms\tremaining: 872ms\n",
      "364:\tlearn: 0.1934665\ttotal: 500ms\tremaining: 871ms\n",
      "365:\tlearn: 0.1930038\ttotal: 502ms\tremaining: 870ms\n",
      "366:\tlearn: 0.1926726\ttotal: 504ms\tremaining: 869ms\n",
      "367:\tlearn: 0.1921853\ttotal: 505ms\tremaining: 868ms\n",
      "368:\tlearn: 0.1918497\ttotal: 507ms\tremaining: 867ms\n",
      "369:\tlearn: 0.1914620\ttotal: 509ms\tremaining: 866ms\n",
      "370:\tlearn: 0.1910004\ttotal: 510ms\tremaining: 864ms\n",
      "371:\tlearn: 0.1905339\ttotal: 512ms\tremaining: 864ms\n",
      "372:\tlearn: 0.1902263\ttotal: 513ms\tremaining: 863ms\n",
      "373:\tlearn: 0.1898596\ttotal: 515ms\tremaining: 861ms\n",
      "374:\tlearn: 0.1895928\ttotal: 516ms\tremaining: 860ms\n",
      "375:\tlearn: 0.1890917\ttotal: 517ms\tremaining: 858ms\n",
      "376:\tlearn: 0.1886177\ttotal: 519ms\tremaining: 857ms\n",
      "377:\tlearn: 0.1884018\ttotal: 521ms\tremaining: 857ms\n",
      "378:\tlearn: 0.1879803\ttotal: 522ms\tremaining: 855ms\n",
      "379:\tlearn: 0.1877572\ttotal: 523ms\tremaining: 853ms\n",
      "380:\tlearn: 0.1874383\ttotal: 524ms\tremaining: 852ms\n",
      "381:\tlearn: 0.1870758\ttotal: 526ms\tremaining: 850ms\n",
      "382:\tlearn: 0.1866689\ttotal: 527ms\tremaining: 849ms\n",
      "383:\tlearn: 0.1864274\ttotal: 528ms\tremaining: 848ms\n",
      "384:\tlearn: 0.1861303\ttotal: 530ms\tremaining: 847ms\n",
      "385:\tlearn: 0.1857567\ttotal: 532ms\tremaining: 846ms\n",
      "386:\tlearn: 0.1853657\ttotal: 533ms\tremaining: 844ms\n",
      "387:\tlearn: 0.1849267\ttotal: 534ms\tremaining: 843ms\n",
      "388:\tlearn: 0.1846012\ttotal: 536ms\tremaining: 843ms\n",
      "389:\tlearn: 0.1843186\ttotal: 538ms\tremaining: 841ms\n",
      "390:\tlearn: 0.1839835\ttotal: 539ms\tremaining: 840ms\n",
      "391:\tlearn: 0.1836841\ttotal: 541ms\tremaining: 839ms\n",
      "392:\tlearn: 0.1832155\ttotal: 542ms\tremaining: 838ms\n",
      "393:\tlearn: 0.1828332\ttotal: 544ms\tremaining: 836ms\n",
      "394:\tlearn: 0.1824435\ttotal: 545ms\tremaining: 835ms\n",
      "395:\tlearn: 0.1819758\ttotal: 546ms\tremaining: 833ms\n",
      "396:\tlearn: 0.1815632\ttotal: 549ms\tremaining: 835ms\n",
      "397:\tlearn: 0.1812401\ttotal: 552ms\tremaining: 834ms\n",
      "398:\tlearn: 0.1809431\ttotal: 553ms\tremaining: 833ms\n",
      "399:\tlearn: 0.1806710\ttotal: 554ms\tremaining: 831ms\n",
      "400:\tlearn: 0.1803953\ttotal: 555ms\tremaining: 830ms\n",
      "401:\tlearn: 0.1801931\ttotal: 557ms\tremaining: 828ms\n",
      "402:\tlearn: 0.1798738\ttotal: 558ms\tremaining: 827ms\n",
      "403:\tlearn: 0.1795643\ttotal: 560ms\tremaining: 826ms\n",
      "404:\tlearn: 0.1792805\ttotal: 561ms\tremaining: 825ms\n",
      "405:\tlearn: 0.1789967\ttotal: 563ms\tremaining: 824ms\n",
      "406:\tlearn: 0.1787028\ttotal: 565ms\tremaining: 823ms\n",
      "407:\tlearn: 0.1783946\ttotal: 567ms\tremaining: 822ms\n",
      "408:\tlearn: 0.1781832\ttotal: 568ms\tremaining: 821ms\n",
      "409:\tlearn: 0.1779637\ttotal: 569ms\tremaining: 819ms\n",
      "410:\tlearn: 0.1776436\ttotal: 571ms\tremaining: 819ms\n",
      "411:\tlearn: 0.1772283\ttotal: 573ms\tremaining: 817ms\n",
      "412:\tlearn: 0.1769451\ttotal: 574ms\tremaining: 816ms\n",
      "413:\tlearn: 0.1766656\ttotal: 575ms\tremaining: 814ms\n",
      "414:\tlearn: 0.1762997\ttotal: 577ms\tremaining: 813ms\n",
      "415:\tlearn: 0.1758580\ttotal: 578ms\tremaining: 812ms\n",
      "416:\tlearn: 0.1754682\ttotal: 580ms\tremaining: 811ms\n",
      "417:\tlearn: 0.1752283\ttotal: 581ms\tremaining: 809ms\n",
      "418:\tlearn: 0.1748704\ttotal: 582ms\tremaining: 807ms\n",
      "419:\tlearn: 0.1745465\ttotal: 584ms\tremaining: 806ms\n",
      "420:\tlearn: 0.1743326\ttotal: 585ms\tremaining: 804ms\n",
      "421:\tlearn: 0.1739260\ttotal: 586ms\tremaining: 803ms\n",
      "422:\tlearn: 0.1736738\ttotal: 587ms\tremaining: 801ms\n",
      "423:\tlearn: 0.1733603\ttotal: 589ms\tremaining: 800ms\n",
      "424:\tlearn: 0.1729504\ttotal: 590ms\tremaining: 798ms\n",
      "425:\tlearn: 0.1725729\ttotal: 591ms\tremaining: 796ms\n",
      "426:\tlearn: 0.1721432\ttotal: 592ms\tremaining: 795ms\n",
      "427:\tlearn: 0.1719536\ttotal: 593ms\tremaining: 793ms\n",
      "428:\tlearn: 0.1716399\ttotal: 595ms\tremaining: 791ms\n",
      "429:\tlearn: 0.1713326\ttotal: 596ms\tremaining: 790ms\n",
      "430:\tlearn: 0.1710948\ttotal: 597ms\tremaining: 788ms\n",
      "431:\tlearn: 0.1707938\ttotal: 598ms\tremaining: 786ms\n",
      "432:\tlearn: 0.1704609\ttotal: 599ms\tremaining: 785ms\n",
      "433:\tlearn: 0.1700102\ttotal: 601ms\tremaining: 783ms\n",
      "434:\tlearn: 0.1697435\ttotal: 602ms\tremaining: 782ms\n",
      "435:\tlearn: 0.1693971\ttotal: 603ms\tremaining: 780ms\n",
      "436:\tlearn: 0.1692138\ttotal: 605ms\tremaining: 780ms\n",
      "437:\tlearn: 0.1687652\ttotal: 607ms\tremaining: 779ms\n",
      "438:\tlearn: 0.1684637\ttotal: 609ms\tremaining: 778ms\n",
      "439:\tlearn: 0.1680974\ttotal: 610ms\tremaining: 776ms\n",
      "440:\tlearn: 0.1677330\ttotal: 612ms\tremaining: 775ms\n",
      "441:\tlearn: 0.1674262\ttotal: 613ms\tremaining: 774ms\n",
      "442:\tlearn: 0.1670086\ttotal: 615ms\tremaining: 773ms\n",
      "443:\tlearn: 0.1667076\ttotal: 616ms\tremaining: 772ms\n",
      "444:\tlearn: 0.1661913\ttotal: 617ms\tremaining: 770ms\n",
      "445:\tlearn: 0.1658965\ttotal: 619ms\tremaining: 768ms\n",
      "446:\tlearn: 0.1655845\ttotal: 620ms\tremaining: 767ms\n",
      "447:\tlearn: 0.1652072\ttotal: 621ms\tremaining: 765ms\n",
      "448:\tlearn: 0.1648768\ttotal: 622ms\tremaining: 764ms\n",
      "449:\tlearn: 0.1645412\ttotal: 624ms\tremaining: 762ms\n",
      "450:\tlearn: 0.1642992\ttotal: 625ms\tremaining: 761ms\n",
      "451:\tlearn: 0.1640298\ttotal: 626ms\tremaining: 760ms\n",
      "452:\tlearn: 0.1636355\ttotal: 628ms\tremaining: 758ms\n",
      "453:\tlearn: 0.1634307\ttotal: 629ms\tremaining: 757ms\n",
      "454:\tlearn: 0.1630704\ttotal: 631ms\tremaining: 755ms\n",
      "455:\tlearn: 0.1629034\ttotal: 632ms\tremaining: 754ms\n",
      "456:\tlearn: 0.1625916\ttotal: 634ms\tremaining: 753ms\n",
      "457:\tlearn: 0.1623773\ttotal: 635ms\tremaining: 752ms\n",
      "458:\tlearn: 0.1621188\ttotal: 637ms\tremaining: 751ms\n",
      "459:\tlearn: 0.1617618\ttotal: 639ms\tremaining: 750ms\n",
      "460:\tlearn: 0.1613852\ttotal: 640ms\tremaining: 748ms\n",
      "461:\tlearn: 0.1610845\ttotal: 641ms\tremaining: 747ms\n",
      "462:\tlearn: 0.1607753\ttotal: 642ms\tremaining: 745ms\n",
      "463:\tlearn: 0.1605906\ttotal: 643ms\tremaining: 743ms\n",
      "464:\tlearn: 0.1604469\ttotal: 646ms\tremaining: 743ms\n",
      "465:\tlearn: 0.1602388\ttotal: 647ms\tremaining: 741ms\n",
      "466:\tlearn: 0.1600109\ttotal: 648ms\tremaining: 740ms\n",
      "467:\tlearn: 0.1598114\ttotal: 649ms\tremaining: 738ms\n",
      "468:\tlearn: 0.1595235\ttotal: 651ms\tremaining: 737ms\n",
      "469:\tlearn: 0.1592619\ttotal: 652ms\tremaining: 735ms\n",
      "470:\tlearn: 0.1590916\ttotal: 653ms\tremaining: 734ms\n",
      "471:\tlearn: 0.1587982\ttotal: 655ms\tremaining: 733ms\n",
      "472:\tlearn: 0.1585218\ttotal: 657ms\tremaining: 732ms\n",
      "473:\tlearn: 0.1582865\ttotal: 659ms\tremaining: 731ms\n",
      "474:\tlearn: 0.1581640\ttotal: 660ms\tremaining: 730ms\n",
      "475:\tlearn: 0.1579690\ttotal: 662ms\tremaining: 728ms\n",
      "476:\tlearn: 0.1575537\ttotal: 663ms\tremaining: 727ms\n",
      "477:\tlearn: 0.1573235\ttotal: 665ms\tremaining: 726ms\n",
      "478:\tlearn: 0.1570857\ttotal: 667ms\tremaining: 725ms\n",
      "479:\tlearn: 0.1567391\ttotal: 669ms\tremaining: 725ms\n",
      "480:\tlearn: 0.1564878\ttotal: 671ms\tremaining: 724ms\n",
      "481:\tlearn: 0.1560984\ttotal: 672ms\tremaining: 722ms\n",
      "482:\tlearn: 0.1557555\ttotal: 673ms\tremaining: 721ms\n",
      "483:\tlearn: 0.1556009\ttotal: 675ms\tremaining: 719ms\n",
      "484:\tlearn: 0.1552429\ttotal: 676ms\tremaining: 718ms\n",
      "485:\tlearn: 0.1550744\ttotal: 678ms\tremaining: 717ms\n",
      "486:\tlearn: 0.1547451\ttotal: 680ms\tremaining: 716ms\n",
      "487:\tlearn: 0.1545427\ttotal: 681ms\tremaining: 715ms\n",
      "488:\tlearn: 0.1543587\ttotal: 683ms\tremaining: 714ms\n",
      "489:\tlearn: 0.1540104\ttotal: 685ms\tremaining: 713ms\n",
      "490:\tlearn: 0.1537080\ttotal: 687ms\tremaining: 712ms\n",
      "491:\tlearn: 0.1534524\ttotal: 688ms\tremaining: 710ms\n",
      "492:\tlearn: 0.1532580\ttotal: 689ms\tremaining: 709ms\n",
      "493:\tlearn: 0.1530182\ttotal: 692ms\tremaining: 709ms\n",
      "494:\tlearn: 0.1527923\ttotal: 693ms\tremaining: 707ms\n",
      "495:\tlearn: 0.1526382\ttotal: 695ms\tremaining: 706ms\n",
      "496:\tlearn: 0.1524011\ttotal: 696ms\tremaining: 704ms\n",
      "497:\tlearn: 0.1520402\ttotal: 697ms\tremaining: 703ms\n",
      "498:\tlearn: 0.1517292\ttotal: 699ms\tremaining: 702ms\n",
      "499:\tlearn: 0.1513512\ttotal: 701ms\tremaining: 701ms\n",
      "500:\tlearn: 0.1510860\ttotal: 702ms\tremaining: 699ms\n",
      "501:\tlearn: 0.1507737\ttotal: 703ms\tremaining: 698ms\n",
      "502:\tlearn: 0.1503570\ttotal: 704ms\tremaining: 696ms\n",
      "503:\tlearn: 0.1499992\ttotal: 706ms\tremaining: 694ms\n",
      "504:\tlearn: 0.1496793\ttotal: 707ms\tremaining: 693ms\n",
      "505:\tlearn: 0.1492283\ttotal: 709ms\tremaining: 692ms\n",
      "506:\tlearn: 0.1490326\ttotal: 711ms\tremaining: 691ms\n",
      "507:\tlearn: 0.1489114\ttotal: 712ms\tremaining: 690ms\n",
      "508:\tlearn: 0.1486883\ttotal: 714ms\tremaining: 689ms\n",
      "509:\tlearn: 0.1484740\ttotal: 715ms\tremaining: 687ms\n",
      "510:\tlearn: 0.1482659\ttotal: 717ms\tremaining: 686ms\n",
      "511:\tlearn: 0.1481137\ttotal: 718ms\tremaining: 684ms\n",
      "512:\tlearn: 0.1478981\ttotal: 719ms\tremaining: 683ms\n",
      "513:\tlearn: 0.1477075\ttotal: 721ms\tremaining: 682ms\n",
      "514:\tlearn: 0.1475031\ttotal: 723ms\tremaining: 681ms\n",
      "515:\tlearn: 0.1472522\ttotal: 724ms\tremaining: 679ms\n",
      "516:\tlearn: 0.1469931\ttotal: 725ms\tremaining: 678ms\n",
      "517:\tlearn: 0.1467916\ttotal: 727ms\tremaining: 676ms\n",
      "518:\tlearn: 0.1465386\ttotal: 728ms\tremaining: 675ms\n",
      "519:\tlearn: 0.1463120\ttotal: 730ms\tremaining: 674ms\n",
      "520:\tlearn: 0.1460283\ttotal: 732ms\tremaining: 673ms\n",
      "521:\tlearn: 0.1458384\ttotal: 734ms\tremaining: 672ms\n",
      "522:\tlearn: 0.1455706\ttotal: 735ms\tremaining: 670ms\n",
      "523:\tlearn: 0.1453396\ttotal: 736ms\tremaining: 669ms\n",
      "524:\tlearn: 0.1451389\ttotal: 738ms\tremaining: 668ms\n",
      "525:\tlearn: 0.1448886\ttotal: 740ms\tremaining: 667ms\n",
      "526:\tlearn: 0.1445797\ttotal: 742ms\tremaining: 666ms\n",
      "527:\tlearn: 0.1443321\ttotal: 743ms\tremaining: 665ms\n",
      "528:\tlearn: 0.1440113\ttotal: 745ms\tremaining: 663ms\n",
      "529:\tlearn: 0.1438349\ttotal: 747ms\tremaining: 662ms\n",
      "530:\tlearn: 0.1436155\ttotal: 748ms\tremaining: 661ms\n",
      "531:\tlearn: 0.1433870\ttotal: 750ms\tremaining: 660ms\n",
      "532:\tlearn: 0.1432868\ttotal: 752ms\tremaining: 658ms\n",
      "533:\tlearn: 0.1431049\ttotal: 753ms\tremaining: 657ms\n",
      "534:\tlearn: 0.1430361\ttotal: 754ms\tremaining: 656ms\n",
      "535:\tlearn: 0.1427360\ttotal: 756ms\tremaining: 655ms\n",
      "536:\tlearn: 0.1424754\ttotal: 758ms\tremaining: 654ms\n",
      "537:\tlearn: 0.1421373\ttotal: 760ms\tremaining: 652ms\n",
      "538:\tlearn: 0.1419720\ttotal: 761ms\tremaining: 651ms\n",
      "539:\tlearn: 0.1418068\ttotal: 762ms\tremaining: 649ms\n",
      "540:\tlearn: 0.1415434\ttotal: 764ms\tremaining: 648ms\n",
      "541:\tlearn: 0.1412585\ttotal: 765ms\tremaining: 646ms\n",
      "542:\tlearn: 0.1410846\ttotal: 767ms\tremaining: 645ms\n",
      "543:\tlearn: 0.1408992\ttotal: 768ms\tremaining: 644ms\n",
      "544:\tlearn: 0.1407604\ttotal: 770ms\tremaining: 643ms\n",
      "545:\tlearn: 0.1406356\ttotal: 771ms\tremaining: 641ms\n",
      "546:\tlearn: 0.1403623\ttotal: 773ms\tremaining: 640ms\n",
      "547:\tlearn: 0.1399771\ttotal: 775ms\tremaining: 639ms\n",
      "548:\tlearn: 0.1397478\ttotal: 776ms\tremaining: 637ms\n",
      "549:\tlearn: 0.1395525\ttotal: 777ms\tremaining: 636ms\n",
      "550:\tlearn: 0.1393857\ttotal: 778ms\tremaining: 634ms\n",
      "551:\tlearn: 0.1391483\ttotal: 780ms\tremaining: 633ms\n",
      "552:\tlearn: 0.1389418\ttotal: 781ms\tremaining: 631ms\n",
      "553:\tlearn: 0.1387514\ttotal: 783ms\tremaining: 630ms\n",
      "554:\tlearn: 0.1384383\ttotal: 784ms\tremaining: 629ms\n",
      "555:\tlearn: 0.1381768\ttotal: 785ms\tremaining: 627ms\n",
      "556:\tlearn: 0.1380539\ttotal: 787ms\tremaining: 626ms\n",
      "557:\tlearn: 0.1378010\ttotal: 788ms\tremaining: 624ms\n",
      "558:\tlearn: 0.1376163\ttotal: 789ms\tremaining: 623ms\n",
      "559:\tlearn: 0.1373438\ttotal: 791ms\tremaining: 621ms\n",
      "560:\tlearn: 0.1371929\ttotal: 792ms\tremaining: 620ms\n",
      "561:\tlearn: 0.1370536\ttotal: 794ms\tremaining: 618ms\n",
      "562:\tlearn: 0.1367749\ttotal: 795ms\tremaining: 617ms\n",
      "563:\tlearn: 0.1366088\ttotal: 796ms\tremaining: 616ms\n",
      "564:\tlearn: 0.1364507\ttotal: 798ms\tremaining: 614ms\n",
      "565:\tlearn: 0.1362409\ttotal: 799ms\tremaining: 613ms\n",
      "566:\tlearn: 0.1360363\ttotal: 800ms\tremaining: 611ms\n",
      "567:\tlearn: 0.1357444\ttotal: 802ms\tremaining: 610ms\n",
      "568:\tlearn: 0.1356084\ttotal: 804ms\tremaining: 609ms\n",
      "569:\tlearn: 0.1354638\ttotal: 805ms\tremaining: 607ms\n",
      "570:\tlearn: 0.1352369\ttotal: 807ms\tremaining: 606ms\n",
      "571:\tlearn: 0.1351495\ttotal: 808ms\tremaining: 605ms\n",
      "572:\tlearn: 0.1350843\ttotal: 810ms\tremaining: 603ms\n",
      "573:\tlearn: 0.1349929\ttotal: 811ms\tremaining: 602ms\n",
      "574:\tlearn: 0.1348317\ttotal: 812ms\tremaining: 600ms\n",
      "575:\tlearn: 0.1346170\ttotal: 814ms\tremaining: 599ms\n",
      "576:\tlearn: 0.1343630\ttotal: 816ms\tremaining: 598ms\n",
      "577:\tlearn: 0.1340436\ttotal: 818ms\tremaining: 597ms\n",
      "578:\tlearn: 0.1337761\ttotal: 820ms\tremaining: 596ms\n",
      "579:\tlearn: 0.1336118\ttotal: 821ms\tremaining: 595ms\n",
      "580:\tlearn: 0.1334414\ttotal: 822ms\tremaining: 593ms\n",
      "581:\tlearn: 0.1332768\ttotal: 825ms\tremaining: 592ms\n",
      "582:\tlearn: 0.1330066\ttotal: 826ms\tremaining: 591ms\n",
      "583:\tlearn: 0.1327413\ttotal: 828ms\tremaining: 589ms\n",
      "584:\tlearn: 0.1325316\ttotal: 829ms\tremaining: 588ms\n",
      "585:\tlearn: 0.1323380\ttotal: 830ms\tremaining: 587ms\n",
      "586:\tlearn: 0.1322542\ttotal: 832ms\tremaining: 585ms\n",
      "587:\tlearn: 0.1321597\ttotal: 834ms\tremaining: 584ms\n",
      "588:\tlearn: 0.1319209\ttotal: 835ms\tremaining: 583ms\n",
      "589:\tlearn: 0.1317601\ttotal: 837ms\tremaining: 581ms\n",
      "590:\tlearn: 0.1315646\ttotal: 838ms\tremaining: 580ms\n",
      "591:\tlearn: 0.1314544\ttotal: 840ms\tremaining: 579ms\n",
      "592:\tlearn: 0.1313053\ttotal: 841ms\tremaining: 577ms\n",
      "593:\tlearn: 0.1310954\ttotal: 842ms\tremaining: 576ms\n",
      "594:\tlearn: 0.1309080\ttotal: 844ms\tremaining: 574ms\n",
      "595:\tlearn: 0.1306574\ttotal: 845ms\tremaining: 573ms\n",
      "596:\tlearn: 0.1304024\ttotal: 847ms\tremaining: 572ms\n",
      "597:\tlearn: 0.1302254\ttotal: 849ms\tremaining: 570ms\n",
      "598:\tlearn: 0.1300503\ttotal: 850ms\tremaining: 569ms\n",
      "599:\tlearn: 0.1298426\ttotal: 852ms\tremaining: 568ms\n",
      "600:\tlearn: 0.1296327\ttotal: 853ms\tremaining: 566ms\n",
      "601:\tlearn: 0.1293647\ttotal: 854ms\tremaining: 565ms\n",
      "602:\tlearn: 0.1291220\ttotal: 855ms\tremaining: 563ms\n",
      "603:\tlearn: 0.1289097\ttotal: 857ms\tremaining: 562ms\n",
      "604:\tlearn: 0.1286165\ttotal: 859ms\tremaining: 561ms\n",
      "605:\tlearn: 0.1283934\ttotal: 860ms\tremaining: 559ms\n",
      "606:\tlearn: 0.1282463\ttotal: 863ms\tremaining: 558ms\n",
      "607:\tlearn: 0.1281157\ttotal: 865ms\tremaining: 558ms\n",
      "608:\tlearn: 0.1278321\ttotal: 866ms\tremaining: 556ms\n",
      "609:\tlearn: 0.1274816\ttotal: 868ms\tremaining: 555ms\n",
      "610:\tlearn: 0.1271699\ttotal: 869ms\tremaining: 553ms\n",
      "611:\tlearn: 0.1270174\ttotal: 871ms\tremaining: 552ms\n",
      "612:\tlearn: 0.1266724\ttotal: 872ms\tremaining: 550ms\n",
      "613:\tlearn: 0.1264973\ttotal: 873ms\tremaining: 549ms\n",
      "614:\tlearn: 0.1263340\ttotal: 875ms\tremaining: 548ms\n",
      "615:\tlearn: 0.1260969\ttotal: 877ms\tremaining: 547ms\n",
      "616:\tlearn: 0.1260093\ttotal: 879ms\tremaining: 546ms\n",
      "617:\tlearn: 0.1257153\ttotal: 881ms\tremaining: 544ms\n",
      "618:\tlearn: 0.1256356\ttotal: 882ms\tremaining: 543ms\n",
      "619:\tlearn: 0.1254406\ttotal: 884ms\tremaining: 542ms\n",
      "620:\tlearn: 0.1251727\ttotal: 886ms\tremaining: 540ms\n",
      "621:\tlearn: 0.1249381\ttotal: 888ms\tremaining: 540ms\n",
      "622:\tlearn: 0.1246124\ttotal: 890ms\tremaining: 539ms\n",
      "623:\tlearn: 0.1244671\ttotal: 892ms\tremaining: 537ms\n",
      "624:\tlearn: 0.1242089\ttotal: 894ms\tremaining: 536ms\n",
      "625:\tlearn: 0.1240185\ttotal: 896ms\tremaining: 535ms\n",
      "626:\tlearn: 0.1238090\ttotal: 897ms\tremaining: 534ms\n",
      "627:\tlearn: 0.1236661\ttotal: 899ms\tremaining: 533ms\n",
      "628:\tlearn: 0.1234785\ttotal: 900ms\tremaining: 531ms\n",
      "629:\tlearn: 0.1232266\ttotal: 902ms\tremaining: 530ms\n",
      "630:\tlearn: 0.1230181\ttotal: 903ms\tremaining: 528ms\n",
      "631:\tlearn: 0.1228606\ttotal: 904ms\tremaining: 526ms\n",
      "632:\tlearn: 0.1225935\ttotal: 906ms\tremaining: 525ms\n",
      "633:\tlearn: 0.1224256\ttotal: 908ms\tremaining: 524ms\n",
      "634:\tlearn: 0.1221941\ttotal: 909ms\tremaining: 522ms\n",
      "635:\tlearn: 0.1219941\ttotal: 910ms\tremaining: 521ms\n",
      "636:\tlearn: 0.1217815\ttotal: 912ms\tremaining: 520ms\n",
      "637:\tlearn: 0.1217236\ttotal: 913ms\tremaining: 518ms\n",
      "638:\tlearn: 0.1215217\ttotal: 915ms\tremaining: 517ms\n",
      "639:\tlearn: 0.1213443\ttotal: 916ms\tremaining: 515ms\n",
      "640:\tlearn: 0.1210917\ttotal: 918ms\tremaining: 514ms\n",
      "641:\tlearn: 0.1209060\ttotal: 920ms\tremaining: 513ms\n",
      "642:\tlearn: 0.1207131\ttotal: 922ms\tremaining: 512ms\n",
      "643:\tlearn: 0.1206067\ttotal: 923ms\tremaining: 510ms\n",
      "644:\tlearn: 0.1204574\ttotal: 924ms\tremaining: 509ms\n",
      "645:\tlearn: 0.1203590\ttotal: 925ms\tremaining: 507ms\n",
      "646:\tlearn: 0.1201535\ttotal: 927ms\tremaining: 506ms\n",
      "647:\tlearn: 0.1199197\ttotal: 928ms\tremaining: 504ms\n",
      "648:\tlearn: 0.1197916\ttotal: 930ms\tremaining: 503ms\n",
      "649:\tlearn: 0.1196180\ttotal: 931ms\tremaining: 501ms\n",
      "650:\tlearn: 0.1195445\ttotal: 932ms\tremaining: 500ms\n",
      "651:\tlearn: 0.1193639\ttotal: 933ms\tremaining: 498ms\n",
      "652:\tlearn: 0.1191813\ttotal: 935ms\tremaining: 497ms\n",
      "653:\tlearn: 0.1189181\ttotal: 937ms\tremaining: 496ms\n",
      "654:\tlearn: 0.1187580\ttotal: 938ms\tremaining: 494ms\n",
      "655:\tlearn: 0.1185790\ttotal: 939ms\tremaining: 493ms\n",
      "656:\tlearn: 0.1183596\ttotal: 941ms\tremaining: 491ms\n",
      "657:\tlearn: 0.1181636\ttotal: 942ms\tremaining: 489ms\n",
      "658:\tlearn: 0.1179565\ttotal: 943ms\tremaining: 488ms\n",
      "659:\tlearn: 0.1178193\ttotal: 944ms\tremaining: 486ms\n",
      "660:\tlearn: 0.1176367\ttotal: 945ms\tremaining: 485ms\n",
      "661:\tlearn: 0.1174358\ttotal: 946ms\tremaining: 483ms\n",
      "662:\tlearn: 0.1172886\ttotal: 947ms\tremaining: 482ms\n",
      "663:\tlearn: 0.1170987\ttotal: 949ms\tremaining: 480ms\n",
      "664:\tlearn: 0.1168822\ttotal: 950ms\tremaining: 479ms\n",
      "665:\tlearn: 0.1165617\ttotal: 952ms\tremaining: 478ms\n",
      "666:\tlearn: 0.1164181\ttotal: 954ms\tremaining: 476ms\n",
      "667:\tlearn: 0.1161601\ttotal: 955ms\tremaining: 474ms\n",
      "668:\tlearn: 0.1158888\ttotal: 956ms\tremaining: 473ms\n",
      "669:\tlearn: 0.1157257\ttotal: 957ms\tremaining: 471ms\n",
      "670:\tlearn: 0.1155418\ttotal: 958ms\tremaining: 470ms\n",
      "671:\tlearn: 0.1154176\ttotal: 959ms\tremaining: 468ms\n",
      "672:\tlearn: 0.1152072\ttotal: 961ms\tremaining: 467ms\n",
      "673:\tlearn: 0.1150144\ttotal: 962ms\tremaining: 465ms\n",
      "674:\tlearn: 0.1149048\ttotal: 963ms\tremaining: 464ms\n",
      "675:\tlearn: 0.1147667\ttotal: 965ms\tremaining: 462ms\n",
      "676:\tlearn: 0.1146464\ttotal: 966ms\tremaining: 461ms\n",
      "677:\tlearn: 0.1144347\ttotal: 967ms\tremaining: 459ms\n",
      "678:\tlearn: 0.1143268\ttotal: 969ms\tremaining: 458ms\n",
      "679:\tlearn: 0.1142094\ttotal: 970ms\tremaining: 456ms\n",
      "680:\tlearn: 0.1140395\ttotal: 971ms\tremaining: 455ms\n",
      "681:\tlearn: 0.1139179\ttotal: 973ms\tremaining: 454ms\n",
      "682:\tlearn: 0.1138549\ttotal: 975ms\tremaining: 452ms\n",
      "683:\tlearn: 0.1137660\ttotal: 976ms\tremaining: 451ms\n",
      "684:\tlearn: 0.1136106\ttotal: 977ms\tremaining: 449ms\n",
      "685:\tlearn: 0.1135497\ttotal: 979ms\tremaining: 448ms\n",
      "686:\tlearn: 0.1134633\ttotal: 980ms\tremaining: 447ms\n",
      "687:\tlearn: 0.1133031\ttotal: 982ms\tremaining: 446ms\n",
      "688:\tlearn: 0.1132365\ttotal: 984ms\tremaining: 444ms\n",
      "689:\tlearn: 0.1131089\ttotal: 985ms\tremaining: 443ms\n",
      "690:\tlearn: 0.1130039\ttotal: 986ms\tremaining: 441ms\n",
      "691:\tlearn: 0.1128662\ttotal: 988ms\tremaining: 440ms\n",
      "692:\tlearn: 0.1128166\ttotal: 989ms\tremaining: 438ms\n",
      "693:\tlearn: 0.1126578\ttotal: 990ms\tremaining: 437ms\n",
      "694:\tlearn: 0.1125361\ttotal: 992ms\tremaining: 435ms\n",
      "695:\tlearn: 0.1123247\ttotal: 994ms\tremaining: 434ms\n",
      "696:\tlearn: 0.1121997\ttotal: 995ms\tremaining: 432ms\n",
      "697:\tlearn: 0.1120561\ttotal: 996ms\tremaining: 431ms\n",
      "698:\tlearn: 0.1118652\ttotal: 998ms\tremaining: 430ms\n",
      "699:\tlearn: 0.1117312\ttotal: 999ms\tremaining: 428ms\n",
      "700:\tlearn: 0.1116847\ttotal: 1s\tremaining: 427ms\n",
      "701:\tlearn: 0.1114968\ttotal: 1s\tremaining: 425ms\n",
      "702:\tlearn: 0.1113461\ttotal: 1s\tremaining: 424ms\n",
      "703:\tlearn: 0.1112255\ttotal: 1s\tremaining: 423ms\n",
      "704:\tlearn: 0.1110546\ttotal: 1.01s\tremaining: 421ms\n",
      "705:\tlearn: 0.1109190\ttotal: 1.01s\tremaining: 420ms\n",
      "706:\tlearn: 0.1107918\ttotal: 1.01s\tremaining: 418ms\n",
      "707:\tlearn: 0.1106156\ttotal: 1.01s\tremaining: 417ms\n",
      "708:\tlearn: 0.1104897\ttotal: 1.01s\tremaining: 415ms\n",
      "709:\tlearn: 0.1103879\ttotal: 1.01s\tremaining: 414ms\n",
      "710:\tlearn: 0.1102977\ttotal: 1.01s\tremaining: 412ms\n",
      "711:\tlearn: 0.1102237\ttotal: 1.01s\tremaining: 411ms\n",
      "712:\tlearn: 0.1100770\ttotal: 1.02s\tremaining: 409ms\n",
      "713:\tlearn: 0.1099515\ttotal: 1.02s\tremaining: 408ms\n",
      "714:\tlearn: 0.1096949\ttotal: 1.02s\tremaining: 407ms\n",
      "715:\tlearn: 0.1096354\ttotal: 1.02s\tremaining: 405ms\n",
      "716:\tlearn: 0.1094799\ttotal: 1.02s\tremaining: 404ms\n",
      "717:\tlearn: 0.1092420\ttotal: 1.02s\tremaining: 402ms\n",
      "718:\tlearn: 0.1091059\ttotal: 1.02s\tremaining: 400ms\n",
      "719:\tlearn: 0.1088798\ttotal: 1.02s\tremaining: 399ms\n",
      "720:\tlearn: 0.1087820\ttotal: 1.03s\tremaining: 398ms\n",
      "721:\tlearn: 0.1086963\ttotal: 1.03s\tremaining: 396ms\n",
      "722:\tlearn: 0.1085918\ttotal: 1.03s\tremaining: 395ms\n",
      "723:\tlearn: 0.1083499\ttotal: 1.03s\tremaining: 393ms\n",
      "724:\tlearn: 0.1082634\ttotal: 1.03s\tremaining: 392ms\n",
      "725:\tlearn: 0.1081042\ttotal: 1.03s\tremaining: 390ms\n",
      "726:\tlearn: 0.1078624\ttotal: 1.03s\tremaining: 389ms\n",
      "727:\tlearn: 0.1077085\ttotal: 1.04s\tremaining: 387ms\n",
      "728:\tlearn: 0.1075496\ttotal: 1.04s\tremaining: 386ms\n",
      "729:\tlearn: 0.1072842\ttotal: 1.04s\tremaining: 384ms\n",
      "730:\tlearn: 0.1070491\ttotal: 1.04s\tremaining: 383ms\n",
      "731:\tlearn: 0.1069621\ttotal: 1.04s\tremaining: 382ms\n",
      "732:\tlearn: 0.1068601\ttotal: 1.04s\tremaining: 380ms\n",
      "733:\tlearn: 0.1067206\ttotal: 1.04s\tremaining: 379ms\n",
      "734:\tlearn: 0.1065313\ttotal: 1.05s\tremaining: 377ms\n",
      "735:\tlearn: 0.1063551\ttotal: 1.05s\tremaining: 376ms\n",
      "736:\tlearn: 0.1062641\ttotal: 1.05s\tremaining: 375ms\n",
      "737:\tlearn: 0.1060685\ttotal: 1.05s\tremaining: 373ms\n",
      "738:\tlearn: 0.1059385\ttotal: 1.05s\tremaining: 372ms\n",
      "739:\tlearn: 0.1057652\ttotal: 1.05s\tremaining: 370ms\n",
      "740:\tlearn: 0.1055636\ttotal: 1.05s\tremaining: 369ms\n",
      "741:\tlearn: 0.1054448\ttotal: 1.06s\tremaining: 368ms\n",
      "742:\tlearn: 0.1053818\ttotal: 1.06s\tremaining: 366ms\n",
      "743:\tlearn: 0.1052346\ttotal: 1.06s\tremaining: 365ms\n",
      "744:\tlearn: 0.1051414\ttotal: 1.06s\tremaining: 363ms\n",
      "745:\tlearn: 0.1050435\ttotal: 1.06s\tremaining: 362ms\n",
      "746:\tlearn: 0.1049113\ttotal: 1.06s\tremaining: 360ms\n",
      "747:\tlearn: 0.1046070\ttotal: 1.06s\tremaining: 359ms\n",
      "748:\tlearn: 0.1045080\ttotal: 1.07s\tremaining: 357ms\n",
      "749:\tlearn: 0.1043481\ttotal: 1.07s\tremaining: 356ms\n",
      "750:\tlearn: 0.1042372\ttotal: 1.07s\tremaining: 354ms\n",
      "751:\tlearn: 0.1040499\ttotal: 1.07s\tremaining: 353ms\n",
      "752:\tlearn: 0.1038073\ttotal: 1.07s\tremaining: 352ms\n",
      "753:\tlearn: 0.1036575\ttotal: 1.07s\tremaining: 350ms\n",
      "754:\tlearn: 0.1035672\ttotal: 1.07s\tremaining: 349ms\n",
      "755:\tlearn: 0.1034734\ttotal: 1.08s\tremaining: 347ms\n",
      "756:\tlearn: 0.1033634\ttotal: 1.08s\tremaining: 346ms\n",
      "757:\tlearn: 0.1033253\ttotal: 1.08s\tremaining: 345ms\n",
      "758:\tlearn: 0.1031879\ttotal: 1.08s\tremaining: 343ms\n",
      "759:\tlearn: 0.1030748\ttotal: 1.08s\tremaining: 342ms\n",
      "760:\tlearn: 0.1028748\ttotal: 1.08s\tremaining: 340ms\n",
      "761:\tlearn: 0.1027123\ttotal: 1.08s\tremaining: 339ms\n",
      "762:\tlearn: 0.1025802\ttotal: 1.09s\tremaining: 337ms\n",
      "763:\tlearn: 0.1024219\ttotal: 1.09s\tremaining: 336ms\n",
      "764:\tlearn: 0.1022851\ttotal: 1.09s\tremaining: 334ms\n",
      "765:\tlearn: 0.1021620\ttotal: 1.09s\tremaining: 333ms\n",
      "766:\tlearn: 0.1019610\ttotal: 1.09s\tremaining: 331ms\n",
      "767:\tlearn: 0.1017875\ttotal: 1.09s\tremaining: 330ms\n",
      "768:\tlearn: 0.1016080\ttotal: 1.09s\tremaining: 329ms\n",
      "769:\tlearn: 0.1014062\ttotal: 1.1s\tremaining: 328ms\n",
      "770:\tlearn: 0.1012932\ttotal: 1.1s\tremaining: 326ms\n",
      "771:\tlearn: 0.1011820\ttotal: 1.1s\tremaining: 325ms\n",
      "772:\tlearn: 0.1009989\ttotal: 1.1s\tremaining: 323ms\n",
      "773:\tlearn: 0.1008707\ttotal: 1.1s\tremaining: 322ms\n",
      "774:\tlearn: 0.1006820\ttotal: 1.1s\tremaining: 320ms\n",
      "775:\tlearn: 0.1005541\ttotal: 1.1s\tremaining: 319ms\n",
      "776:\tlearn: 0.1004135\ttotal: 1.11s\tremaining: 318ms\n",
      "777:\tlearn: 0.1003171\ttotal: 1.11s\tremaining: 316ms\n",
      "778:\tlearn: 0.1001703\ttotal: 1.11s\tremaining: 315ms\n",
      "779:\tlearn: 0.1000985\ttotal: 1.11s\tremaining: 313ms\n",
      "780:\tlearn: 0.0999655\ttotal: 1.11s\tremaining: 312ms\n",
      "781:\tlearn: 0.0998326\ttotal: 1.11s\tremaining: 310ms\n",
      "782:\tlearn: 0.0996882\ttotal: 1.11s\tremaining: 309ms\n",
      "783:\tlearn: 0.0995463\ttotal: 1.11s\tremaining: 307ms\n",
      "784:\tlearn: 0.0993494\ttotal: 1.12s\tremaining: 306ms\n",
      "785:\tlearn: 0.0992020\ttotal: 1.12s\tremaining: 305ms\n",
      "786:\tlearn: 0.0990079\ttotal: 1.12s\tremaining: 303ms\n",
      "787:\tlearn: 0.0989449\ttotal: 1.12s\tremaining: 302ms\n",
      "788:\tlearn: 0.0988381\ttotal: 1.12s\tremaining: 300ms\n",
      "789:\tlearn: 0.0987088\ttotal: 1.13s\tremaining: 299ms\n",
      "790:\tlearn: 0.0985703\ttotal: 1.13s\tremaining: 298ms\n",
      "791:\tlearn: 0.0984833\ttotal: 1.13s\tremaining: 296ms\n",
      "792:\tlearn: 0.0983823\ttotal: 1.13s\tremaining: 295ms\n",
      "793:\tlearn: 0.0981718\ttotal: 1.13s\tremaining: 293ms\n",
      "794:\tlearn: 0.0979177\ttotal: 1.13s\tremaining: 292ms\n",
      "795:\tlearn: 0.0978390\ttotal: 1.13s\tremaining: 290ms\n",
      "796:\tlearn: 0.0976729\ttotal: 1.13s\tremaining: 289ms\n",
      "797:\tlearn: 0.0975147\ttotal: 1.14s\tremaining: 288ms\n",
      "798:\tlearn: 0.0973988\ttotal: 1.14s\tremaining: 286ms\n",
      "799:\tlearn: 0.0972749\ttotal: 1.14s\tremaining: 285ms\n",
      "800:\tlearn: 0.0971083\ttotal: 1.14s\tremaining: 283ms\n",
      "801:\tlearn: 0.0969958\ttotal: 1.14s\tremaining: 282ms\n",
      "802:\tlearn: 0.0967895\ttotal: 1.14s\tremaining: 280ms\n",
      "803:\tlearn: 0.0965955\ttotal: 1.14s\tremaining: 279ms\n",
      "804:\tlearn: 0.0965070\ttotal: 1.15s\tremaining: 277ms\n",
      "805:\tlearn: 0.0964246\ttotal: 1.15s\tremaining: 276ms\n",
      "806:\tlearn: 0.0962477\ttotal: 1.15s\tremaining: 275ms\n",
      "807:\tlearn: 0.0960208\ttotal: 1.15s\tremaining: 273ms\n",
      "808:\tlearn: 0.0958364\ttotal: 1.15s\tremaining: 272ms\n",
      "809:\tlearn: 0.0956580\ttotal: 1.15s\tremaining: 270ms\n",
      "810:\tlearn: 0.0955858\ttotal: 1.15s\tremaining: 269ms\n",
      "811:\tlearn: 0.0954908\ttotal: 1.16s\tremaining: 267ms\n",
      "812:\tlearn: 0.0954236\ttotal: 1.16s\tremaining: 266ms\n",
      "813:\tlearn: 0.0953831\ttotal: 1.16s\tremaining: 265ms\n",
      "814:\tlearn: 0.0951751\ttotal: 1.16s\tremaining: 263ms\n",
      "815:\tlearn: 0.0950453\ttotal: 1.16s\tremaining: 262ms\n",
      "816:\tlearn: 0.0948847\ttotal: 1.16s\tremaining: 260ms\n",
      "817:\tlearn: 0.0947339\ttotal: 1.16s\tremaining: 259ms\n",
      "818:\tlearn: 0.0945380\ttotal: 1.17s\tremaining: 258ms\n",
      "819:\tlearn: 0.0944394\ttotal: 1.17s\tremaining: 256ms\n",
      "820:\tlearn: 0.0942792\ttotal: 1.17s\tremaining: 255ms\n",
      "821:\tlearn: 0.0941952\ttotal: 1.17s\tremaining: 253ms\n",
      "822:\tlearn: 0.0941075\ttotal: 1.17s\tremaining: 252ms\n",
      "823:\tlearn: 0.0939433\ttotal: 1.17s\tremaining: 251ms\n",
      "824:\tlearn: 0.0937808\ttotal: 1.17s\tremaining: 249ms\n",
      "825:\tlearn: 0.0936716\ttotal: 1.18s\tremaining: 248ms\n",
      "826:\tlearn: 0.0935944\ttotal: 1.18s\tremaining: 246ms\n",
      "827:\tlearn: 0.0934778\ttotal: 1.18s\tremaining: 245ms\n",
      "828:\tlearn: 0.0933205\ttotal: 1.18s\tremaining: 243ms\n",
      "829:\tlearn: 0.0932261\ttotal: 1.18s\tremaining: 242ms\n",
      "830:\tlearn: 0.0930009\ttotal: 1.18s\tremaining: 240ms\n",
      "831:\tlearn: 0.0928948\ttotal: 1.18s\tremaining: 239ms\n",
      "832:\tlearn: 0.0927117\ttotal: 1.19s\tremaining: 238ms\n",
      "833:\tlearn: 0.0926431\ttotal: 1.19s\tremaining: 236ms\n",
      "834:\tlearn: 0.0925488\ttotal: 1.19s\tremaining: 235ms\n",
      "835:\tlearn: 0.0924166\ttotal: 1.19s\tremaining: 233ms\n",
      "836:\tlearn: 0.0922602\ttotal: 1.19s\tremaining: 232ms\n",
      "837:\tlearn: 0.0920725\ttotal: 1.19s\tremaining: 231ms\n",
      "838:\tlearn: 0.0919232\ttotal: 1.19s\tremaining: 229ms\n",
      "839:\tlearn: 0.0917352\ttotal: 1.2s\tremaining: 228ms\n",
      "840:\tlearn: 0.0916222\ttotal: 1.2s\tremaining: 226ms\n",
      "841:\tlearn: 0.0914927\ttotal: 1.2s\tremaining: 225ms\n",
      "842:\tlearn: 0.0913249\ttotal: 1.2s\tremaining: 223ms\n",
      "843:\tlearn: 0.0911587\ttotal: 1.2s\tremaining: 222ms\n",
      "844:\tlearn: 0.0909914\ttotal: 1.2s\tremaining: 221ms\n",
      "845:\tlearn: 0.0908698\ttotal: 1.2s\tremaining: 219ms\n",
      "846:\tlearn: 0.0907426\ttotal: 1.2s\tremaining: 218ms\n",
      "847:\tlearn: 0.0906616\ttotal: 1.21s\tremaining: 216ms\n",
      "848:\tlearn: 0.0905422\ttotal: 1.21s\tremaining: 215ms\n",
      "849:\tlearn: 0.0903961\ttotal: 1.21s\tremaining: 213ms\n",
      "850:\tlearn: 0.0903204\ttotal: 1.21s\tremaining: 212ms\n",
      "851:\tlearn: 0.0901532\ttotal: 1.21s\tremaining: 210ms\n",
      "852:\tlearn: 0.0900014\ttotal: 1.21s\tremaining: 209ms\n",
      "853:\tlearn: 0.0898884\ttotal: 1.21s\tremaining: 207ms\n",
      "854:\tlearn: 0.0897917\ttotal: 1.21s\tremaining: 206ms\n",
      "855:\tlearn: 0.0896604\ttotal: 1.22s\tremaining: 204ms\n",
      "856:\tlearn: 0.0895556\ttotal: 1.22s\tremaining: 203ms\n",
      "857:\tlearn: 0.0894489\ttotal: 1.22s\tremaining: 202ms\n",
      "858:\tlearn: 0.0893239\ttotal: 1.22s\tremaining: 200ms\n",
      "859:\tlearn: 0.0891592\ttotal: 1.22s\tremaining: 199ms\n",
      "860:\tlearn: 0.0890475\ttotal: 1.22s\tremaining: 197ms\n",
      "861:\tlearn: 0.0889238\ttotal: 1.22s\tremaining: 196ms\n",
      "862:\tlearn: 0.0888234\ttotal: 1.23s\tremaining: 195ms\n",
      "863:\tlearn: 0.0887091\ttotal: 1.23s\tremaining: 193ms\n",
      "864:\tlearn: 0.0886477\ttotal: 1.23s\tremaining: 192ms\n",
      "865:\tlearn: 0.0885424\ttotal: 1.23s\tremaining: 190ms\n",
      "866:\tlearn: 0.0884358\ttotal: 1.23s\tremaining: 189ms\n",
      "867:\tlearn: 0.0882136\ttotal: 1.23s\tremaining: 188ms\n",
      "868:\tlearn: 0.0880641\ttotal: 1.23s\tremaining: 186ms\n",
      "869:\tlearn: 0.0879002\ttotal: 1.24s\tremaining: 185ms\n",
      "870:\tlearn: 0.0878219\ttotal: 1.24s\tremaining: 183ms\n",
      "871:\tlearn: 0.0877175\ttotal: 1.24s\tremaining: 182ms\n",
      "872:\tlearn: 0.0876466\ttotal: 1.24s\tremaining: 181ms\n",
      "873:\tlearn: 0.0875691\ttotal: 1.24s\tremaining: 179ms\n",
      "874:\tlearn: 0.0874333\ttotal: 1.24s\tremaining: 178ms\n",
      "875:\tlearn: 0.0873727\ttotal: 1.24s\tremaining: 176ms\n",
      "876:\tlearn: 0.0872968\ttotal: 1.25s\tremaining: 175ms\n",
      "877:\tlearn: 0.0871777\ttotal: 1.25s\tremaining: 173ms\n",
      "878:\tlearn: 0.0870342\ttotal: 1.25s\tremaining: 172ms\n",
      "879:\tlearn: 0.0869347\ttotal: 1.25s\tremaining: 171ms\n",
      "880:\tlearn: 0.0868672\ttotal: 1.25s\tremaining: 169ms\n",
      "881:\tlearn: 0.0867726\ttotal: 1.25s\tremaining: 168ms\n",
      "882:\tlearn: 0.0866420\ttotal: 1.25s\tremaining: 166ms\n",
      "883:\tlearn: 0.0864654\ttotal: 1.26s\tremaining: 165ms\n",
      "884:\tlearn: 0.0863091\ttotal: 1.26s\tremaining: 163ms\n",
      "885:\tlearn: 0.0862193\ttotal: 1.26s\tremaining: 162ms\n",
      "886:\tlearn: 0.0861140\ttotal: 1.26s\tremaining: 161ms\n",
      "887:\tlearn: 0.0859762\ttotal: 1.26s\tremaining: 159ms\n",
      "888:\tlearn: 0.0858956\ttotal: 1.26s\tremaining: 158ms\n",
      "889:\tlearn: 0.0856994\ttotal: 1.26s\tremaining: 156ms\n",
      "890:\tlearn: 0.0855965\ttotal: 1.26s\tremaining: 155ms\n",
      "891:\tlearn: 0.0855228\ttotal: 1.27s\tremaining: 153ms\n",
      "892:\tlearn: 0.0853893\ttotal: 1.27s\tremaining: 152ms\n",
      "893:\tlearn: 0.0852484\ttotal: 1.27s\tremaining: 151ms\n",
      "894:\tlearn: 0.0851931\ttotal: 1.27s\tremaining: 149ms\n",
      "895:\tlearn: 0.0850808\ttotal: 1.27s\tremaining: 148ms\n",
      "896:\tlearn: 0.0849268\ttotal: 1.27s\tremaining: 146ms\n",
      "897:\tlearn: 0.0848539\ttotal: 1.27s\tremaining: 145ms\n",
      "898:\tlearn: 0.0846710\ttotal: 1.28s\tremaining: 144ms\n",
      "899:\tlearn: 0.0846260\ttotal: 1.28s\tremaining: 142ms\n",
      "900:\tlearn: 0.0845119\ttotal: 1.28s\tremaining: 141ms\n",
      "901:\tlearn: 0.0844202\ttotal: 1.28s\tremaining: 139ms\n",
      "902:\tlearn: 0.0842758\ttotal: 1.28s\tremaining: 138ms\n",
      "903:\tlearn: 0.0842134\ttotal: 1.28s\tremaining: 136ms\n",
      "904:\tlearn: 0.0841984\ttotal: 1.28s\tremaining: 135ms\n",
      "905:\tlearn: 0.0841055\ttotal: 1.29s\tremaining: 134ms\n",
      "906:\tlearn: 0.0840025\ttotal: 1.29s\tremaining: 132ms\n",
      "907:\tlearn: 0.0839175\ttotal: 1.29s\tremaining: 131ms\n",
      "908:\tlearn: 0.0838568\ttotal: 1.29s\tremaining: 129ms\n",
      "909:\tlearn: 0.0837915\ttotal: 1.29s\tremaining: 128ms\n",
      "910:\tlearn: 0.0837021\ttotal: 1.29s\tremaining: 126ms\n",
      "911:\tlearn: 0.0836253\ttotal: 1.29s\tremaining: 125ms\n",
      "912:\tlearn: 0.0835722\ttotal: 1.29s\tremaining: 123ms\n",
      "913:\tlearn: 0.0834931\ttotal: 1.3s\tremaining: 122ms\n",
      "914:\tlearn: 0.0833788\ttotal: 1.3s\tremaining: 121ms\n",
      "915:\tlearn: 0.0832150\ttotal: 1.3s\tremaining: 119ms\n",
      "916:\tlearn: 0.0831357\ttotal: 1.3s\tremaining: 118ms\n",
      "917:\tlearn: 0.0829709\ttotal: 1.3s\tremaining: 116ms\n",
      "918:\tlearn: 0.0829030\ttotal: 1.3s\tremaining: 115ms\n",
      "919:\tlearn: 0.0827906\ttotal: 1.31s\tremaining: 114ms\n",
      "920:\tlearn: 0.0827492\ttotal: 1.31s\tremaining: 112ms\n",
      "921:\tlearn: 0.0826527\ttotal: 1.31s\tremaining: 111ms\n",
      "922:\tlearn: 0.0825458\ttotal: 1.31s\tremaining: 109ms\n",
      "923:\tlearn: 0.0823936\ttotal: 1.31s\tremaining: 108ms\n",
      "924:\tlearn: 0.0823196\ttotal: 1.31s\tremaining: 106ms\n",
      "925:\tlearn: 0.0821805\ttotal: 1.31s\tremaining: 105ms\n",
      "926:\tlearn: 0.0820953\ttotal: 1.31s\tremaining: 104ms\n",
      "927:\tlearn: 0.0820219\ttotal: 1.32s\tremaining: 102ms\n",
      "928:\tlearn: 0.0818876\ttotal: 1.32s\tremaining: 101ms\n",
      "929:\tlearn: 0.0817812\ttotal: 1.32s\tremaining: 99.3ms\n",
      "930:\tlearn: 0.0817129\ttotal: 1.32s\tremaining: 97.9ms\n",
      "931:\tlearn: 0.0816739\ttotal: 1.32s\tremaining: 96.5ms\n",
      "932:\tlearn: 0.0816142\ttotal: 1.32s\tremaining: 95.1ms\n",
      "933:\tlearn: 0.0815717\ttotal: 1.32s\tremaining: 93.7ms\n",
      "934:\tlearn: 0.0814458\ttotal: 1.33s\tremaining: 92.2ms\n",
      "935:\tlearn: 0.0813472\ttotal: 1.33s\tremaining: 90.8ms\n",
      "936:\tlearn: 0.0812461\ttotal: 1.33s\tremaining: 89.4ms\n",
      "937:\tlearn: 0.0811470\ttotal: 1.33s\tremaining: 87.9ms\n",
      "938:\tlearn: 0.0810722\ttotal: 1.33s\tremaining: 86.5ms\n",
      "939:\tlearn: 0.0810041\ttotal: 1.33s\tremaining: 85.1ms\n",
      "940:\tlearn: 0.0809221\ttotal: 1.33s\tremaining: 83.7ms\n",
      "941:\tlearn: 0.0808032\ttotal: 1.34s\tremaining: 82.3ms\n",
      "942:\tlearn: 0.0806712\ttotal: 1.34s\tremaining: 80.9ms\n",
      "943:\tlearn: 0.0805892\ttotal: 1.34s\tremaining: 79.4ms\n",
      "944:\tlearn: 0.0804764\ttotal: 1.34s\tremaining: 78ms\n",
      "945:\tlearn: 0.0804130\ttotal: 1.34s\tremaining: 76.6ms\n",
      "946:\tlearn: 0.0803151\ttotal: 1.34s\tremaining: 75.2ms\n",
      "947:\tlearn: 0.0802205\ttotal: 1.34s\tremaining: 73.8ms\n",
      "948:\tlearn: 0.0801402\ttotal: 1.35s\tremaining: 72.4ms\n",
      "949:\tlearn: 0.0800540\ttotal: 1.35s\tremaining: 70.9ms\n",
      "950:\tlearn: 0.0799422\ttotal: 1.35s\tremaining: 69.5ms\n",
      "951:\tlearn: 0.0798146\ttotal: 1.35s\tremaining: 68.1ms\n",
      "952:\tlearn: 0.0797067\ttotal: 1.35s\tremaining: 66.7ms\n",
      "953:\tlearn: 0.0795011\ttotal: 1.35s\tremaining: 65.3ms\n",
      "954:\tlearn: 0.0794599\ttotal: 1.35s\tremaining: 63.9ms\n",
      "955:\tlearn: 0.0793978\ttotal: 1.36s\tremaining: 62.4ms\n",
      "956:\tlearn: 0.0792906\ttotal: 1.36s\tremaining: 61ms\n",
      "957:\tlearn: 0.0791818\ttotal: 1.36s\tremaining: 59.6ms\n",
      "958:\tlearn: 0.0791072\ttotal: 1.36s\tremaining: 58.2ms\n",
      "959:\tlearn: 0.0790611\ttotal: 1.36s\tremaining: 56.7ms\n",
      "960:\tlearn: 0.0789873\ttotal: 1.36s\tremaining: 55.3ms\n",
      "961:\tlearn: 0.0789116\ttotal: 1.36s\tremaining: 53.9ms\n",
      "962:\tlearn: 0.0788114\ttotal: 1.36s\tremaining: 52.5ms\n",
      "963:\tlearn: 0.0787315\ttotal: 1.37s\tremaining: 51ms\n",
      "964:\tlearn: 0.0786467\ttotal: 1.37s\tremaining: 49.6ms\n",
      "965:\tlearn: 0.0784642\ttotal: 1.37s\tremaining: 48.2ms\n",
      "966:\tlearn: 0.0784146\ttotal: 1.37s\tremaining: 46.8ms\n",
      "967:\tlearn: 0.0783521\ttotal: 1.37s\tremaining: 45.3ms\n",
      "968:\tlearn: 0.0781936\ttotal: 1.37s\tremaining: 43.9ms\n",
      "969:\tlearn: 0.0780487\ttotal: 1.37s\tremaining: 42.5ms\n",
      "970:\tlearn: 0.0779965\ttotal: 1.38s\tremaining: 41.1ms\n",
      "971:\tlearn: 0.0779154\ttotal: 1.38s\tremaining: 39.7ms\n",
      "972:\tlearn: 0.0778453\ttotal: 1.38s\tremaining: 38.2ms\n",
      "973:\tlearn: 0.0777614\ttotal: 1.38s\tremaining: 36.8ms\n",
      "974:\tlearn: 0.0776810\ttotal: 1.38s\tremaining: 35.4ms\n",
      "975:\tlearn: 0.0776148\ttotal: 1.38s\tremaining: 34ms\n",
      "976:\tlearn: 0.0775393\ttotal: 1.38s\tremaining: 32.6ms\n",
      "977:\tlearn: 0.0774545\ttotal: 1.38s\tremaining: 31.1ms\n",
      "978:\tlearn: 0.0772833\ttotal: 1.39s\tremaining: 29.7ms\n",
      "979:\tlearn: 0.0771545\ttotal: 1.39s\tremaining: 28.3ms\n",
      "980:\tlearn: 0.0770513\ttotal: 1.39s\tremaining: 26.9ms\n",
      "981:\tlearn: 0.0769024\ttotal: 1.39s\tremaining: 25.5ms\n",
      "982:\tlearn: 0.0767469\ttotal: 1.39s\tremaining: 24ms\n",
      "983:\tlearn: 0.0765943\ttotal: 1.39s\tremaining: 22.6ms\n",
      "984:\tlearn: 0.0764603\ttotal: 1.39s\tremaining: 21.2ms\n",
      "985:\tlearn: 0.0763891\ttotal: 1.39s\tremaining: 19.8ms\n",
      "986:\tlearn: 0.0763196\ttotal: 1.39s\tremaining: 18.4ms\n",
      "987:\tlearn: 0.0761689\ttotal: 1.4s\tremaining: 17ms\n",
      "988:\tlearn: 0.0760548\ttotal: 1.4s\tremaining: 15.5ms\n",
      "989:\tlearn: 0.0759753\ttotal: 1.4s\tremaining: 14.1ms\n",
      "990:\tlearn: 0.0759135\ttotal: 1.4s\tremaining: 12.7ms\n",
      "991:\tlearn: 0.0757786\ttotal: 1.4s\tremaining: 11.3ms\n",
      "992:\tlearn: 0.0757159\ttotal: 1.4s\tremaining: 9.88ms\n",
      "993:\tlearn: 0.0756392\ttotal: 1.4s\tremaining: 8.47ms\n",
      "994:\tlearn: 0.0755762\ttotal: 1.4s\tremaining: 7.06ms\n",
      "995:\tlearn: 0.0754829\ttotal: 1.41s\tremaining: 5.64ms\n",
      "996:\tlearn: 0.0753836\ttotal: 1.41s\tremaining: 4.23ms\n",
      "997:\tlearn: 0.0752579\ttotal: 1.41s\tremaining: 2.82ms\n",
      "998:\tlearn: 0.0751448\ttotal: 1.41s\tremaining: 1.41ms\n",
      "999:\tlearn: 0.0750497\ttotal: 1.41s\tremaining: 0us\n",
      "Accuracy: 0.83\n",
      "ROC AUC Score: 0.83\n",
      "G-Mean: 0.69\n",
      "F1 Score: 0.82\n",
      "Sensitivity: 0.8\n",
      "Specificity: 0.87\n",
      "Precision: 0.85\n",
      "AVG: 0.78\n"
     ]
    },
    {
     "data": {
      "text/plain": "<Figure size 800x600 with 2 Axes>",
      "image/png": "[encoded data removed]"
     },
     "metadata": {},
     "output_type": "display_data"
    }
   ],
   "source": [
    "model = CatBoostClassifier()\n",
    "\n",
    "y_pred = train_model(model, X_train, X_test, y_train)\n",
    "results, conf_matrix = generate_results(y_pred, y_test)\n",
    "display_results(results)\n",
    "display_confusion_matrix(conf_matrix)"
   ],
   "metadata": {
    "collapsed": false,
    "pycharm": {
     "name": "#%%\n"
    },
    "ExecuteTime": {
     "end_time": "2023-07-15T22:37:15.172369790Z",
     "start_time": "2023-07-15T22:37:13.282976654Z"
    }
   }
  },
  {
   "cell_type": "markdown",
   "source": [
    "### LGBM"
   ],
   "metadata": {
    "collapsed": false
   }
  },
  {
   "cell_type": "code",
   "execution_count": 19,
   "outputs": [
    {
     "name": "stdout",
     "output_type": "stream",
     "text": [
      "[LightGBM] [Info] Number of positive: 114, number of negative: 114\n",
      "[LightGBM] [Warning] Auto-choosing row-wise multi-threading, the overhead of testing was 0.000112 seconds.\n",
      "You can set `force_row_wise=true` to remove the overhead.\n",
      "And if memory is not enough, you can set `force_col_wise=true`.\n",
      "[LightGBM] [Info] Total Bins 262\n",
      "[LightGBM] [Info] Number of data points in the train set: 228, number of used features: 13\n",
      "[LightGBM] [Info] [binary:BoostFromScore]: pavg=0.500000 -> initscore=0.000000\n",
      "[LightGBM] [Warning] No further splits with positive gain, best gain: -inf\n",
      "[LightGBM] [Warning] No further splits with positive gain, best gain: -inf\n",
      "[LightGBM] [Warning] No further splits with positive gain, best gain: -inf\n",
      "[LightGBM] [Warning] No further splits with positive gain, best gain: -inf\n",
      "[LightGBM] [Warning] No further splits with positive gain, best gain: -inf\n",
      "[LightGBM] [Warning] No further splits with positive gain, best gain: -inf\n",
      "[LightGBM] [Warning] No further splits with positive gain, best gain: -inf\n",
      "[LightGBM] [Warning] No further splits with positive gain, best gain: -inf\n",
      "[LightGBM] [Warning] No further splits with positive gain, best gain: -inf\n",
      "[LightGBM] [Warning] No further splits with positive gain, best gain: -inf\n",
      "[LightGBM] [Warning] No further splits with positive gain, best gain: -inf\n",
      "[LightGBM] [Warning] No further splits with positive gain, best gain: -inf\n",
      "[LightGBM] [Warning] No further splits with positive gain, best gain: -inf\n",
      "[LightGBM] [Warning] No further splits with positive gain, best gain: -inf\n",
      "[LightGBM] [Warning] No further splits with positive gain, best gain: -inf\n",
      "[LightGBM] [Warning] No further splits with positive gain, best gain: -inf\n",
      "[LightGBM] [Warning] No further splits with positive gain, best gain: -inf\n",
      "[LightGBM] [Warning] No further splits with positive gain, best gain: -inf\n",
      "[LightGBM] [Warning] No further splits with positive gain, best gain: -inf\n",
      "[LightGBM] [Warning] No further splits with positive gain, best gain: -inf\n",
      "[LightGBM] [Warning] No further splits with positive gain, best gain: -inf\n",
      "[LightGBM] [Warning] No further splits with positive gain, best gain: -inf\n",
      "[LightGBM] [Warning] No further splits with positive gain, best gain: -inf\n",
      "[LightGBM] [Warning] No further splits with positive gain, best gain: -inf\n",
      "[LightGBM] [Warning] No further splits with positive gain, best gain: -inf\n",
      "[LightGBM] [Warning] No further splits with positive gain, best gain: -inf\n",
      "[LightGBM] [Warning] No further splits with positive gain, best gain: -inf\n",
      "[LightGBM] [Warning] No further splits with positive gain, best gain: -inf\n",
      "[LightGBM] [Warning] No further splits with positive gain, best gain: -inf\n",
      "[LightGBM] [Warning] No further splits with positive gain, best gain: -inf\n",
      "[LightGBM] [Warning] No further splits with positive gain, best gain: -inf\n",
      "[LightGBM] [Warning] No further splits with positive gain, best gain: -inf\n",
      "[LightGBM] [Warning] No further splits with positive gain, best gain: -inf\n",
      "[LightGBM] [Warning] No further splits with positive gain, best gain: -inf\n",
      "[LightGBM] [Warning] No further splits with positive gain, best gain: -inf\n",
      "[LightGBM] [Warning] No further splits with positive gain, best gain: -inf\n",
      "[LightGBM] [Warning] No further splits with positive gain, best gain: -inf\n",
      "[LightGBM] [Warning] No further splits with positive gain, best gain: -inf\n",
      "[LightGBM] [Warning] No further splits with positive gain, best gain: -inf\n",
      "[LightGBM] [Warning] No further splits with positive gain, best gain: -inf\n",
      "[LightGBM] [Warning] No further splits with positive gain, best gain: -inf\n",
      "[LightGBM] [Warning] No further splits with positive gain, best gain: -inf\n",
      "[LightGBM] [Warning] No further splits with positive gain, best gain: -inf\n",
      "[LightGBM] [Warning] No further splits with positive gain, best gain: -inf\n",
      "[LightGBM] [Warning] No further splits with positive gain, best gain: -inf\n",
      "[LightGBM] [Warning] No further splits with positive gain, best gain: -inf\n",
      "[LightGBM] [Warning] No further splits with positive gain, best gain: -inf\n",
      "[LightGBM] [Warning] No further splits with positive gain, best gain: -inf\n",
      "[LightGBM] [Warning] No further splits with positive gain, best gain: -inf\n",
      "[LightGBM] [Warning] No further splits with positive gain, best gain: -inf\n",
      "[LightGBM] [Warning] No further splits with positive gain, best gain: -inf\n",
      "[LightGBM] [Warning] No further splits with positive gain, best gain: -inf\n",
      "[LightGBM] [Warning] No further splits with positive gain, best gain: -inf\n",
      "[LightGBM] [Warning] No further splits with positive gain, best gain: -inf\n",
      "[LightGBM] [Warning] No further splits with positive gain, best gain: -inf\n",
      "[LightGBM] [Warning] No further splits with positive gain, best gain: -inf\n",
      "[LightGBM] [Warning] No further splits with positive gain, best gain: -inf\n",
      "[LightGBM] [Warning] No further splits with positive gain, best gain: -inf\n",
      "[LightGBM] [Warning] No further splits with positive gain, best gain: -inf\n",
      "[LightGBM] [Warning] No further splits with positive gain, best gain: -inf\n",
      "[LightGBM] [Warning] No further splits with positive gain, best gain: -inf\n",
      "[LightGBM] [Warning] No further splits with positive gain, best gain: -inf\n",
      "[LightGBM] [Warning] No further splits with positive gain, best gain: -inf\n",
      "[LightGBM] [Warning] No further splits with positive gain, best gain: -inf\n",
      "[LightGBM] [Warning] No further splits with positive gain, best gain: -inf\n",
      "[LightGBM] [Warning] No further splits with positive gain, best gain: -inf\n",
      "[LightGBM] [Warning] No further splits with positive gain, best gain: -inf\n",
      "[LightGBM] [Warning] No further splits with positive gain, best gain: -inf\n",
      "[LightGBM] [Warning] No further splits with positive gain, best gain: -inf\n",
      "[LightGBM] [Warning] No further splits with positive gain, best gain: -inf\n",
      "[LightGBM] [Warning] No further splits with positive gain, best gain: -inf\n",
      "[LightGBM] [Warning] No further splits with positive gain, best gain: -inf\n",
      "[LightGBM] [Warning] No further splits with positive gain, best gain: -inf\n",
      "[LightGBM] [Warning] No further splits with positive gain, best gain: -inf\n",
      "[LightGBM] [Warning] No further splits with positive gain, best gain: -inf\n",
      "[LightGBM] [Warning] No further splits with positive gain, best gain: -inf\n",
      "[LightGBM] [Warning] No further splits with positive gain, best gain: -inf\n",
      "[LightGBM] [Warning] No further splits with positive gain, best gain: -inf\n",
      "[LightGBM] [Warning] No further splits with positive gain, best gain: -inf\n",
      "[LightGBM] [Warning] No further splits with positive gain, best gain: -inf\n",
      "[LightGBM] [Warning] No further splits with positive gain, best gain: -inf\n",
      "[LightGBM] [Warning] No further splits with positive gain, best gain: -inf\n",
      "[LightGBM] [Warning] No further splits with positive gain, best gain: -inf\n",
      "[LightGBM] [Warning] No further splits with positive gain, best gain: -inf\n",
      "[LightGBM] [Warning] No further splits with positive gain, best gain: -inf\n",
      "[LightGBM] [Warning] No further splits with positive gain, best gain: -inf\n",
      "[LightGBM] [Warning] No further splits with positive gain, best gain: -inf\n",
      "[LightGBM] [Warning] No further splits with positive gain, best gain: -inf\n",
      "[LightGBM] [Warning] No further splits with positive gain, best gain: -inf\n",
      "[LightGBM] [Warning] No further splits with positive gain, best gain: -inf\n",
      "[LightGBM] [Warning] No further splits with positive gain, best gain: -inf\n",
      "[LightGBM] [Warning] No further splits with positive gain, best gain: -inf\n",
      "[LightGBM] [Warning] No further splits with positive gain, best gain: -inf\n",
      "[LightGBM] [Warning] No further splits with positive gain, best gain: -inf\n",
      "[LightGBM] [Warning] No further splits with positive gain, best gain: -inf\n",
      "[LightGBM] [Warning] No further splits with positive gain, best gain: -inf\n",
      "[LightGBM] [Warning] No further splits with positive gain, best gain: -inf\n",
      "[LightGBM] [Warning] No further splits with positive gain, best gain: -inf\n",
      "[LightGBM] [Warning] No further splits with positive gain, best gain: -inf\n",
      "[LightGBM] [Warning] No further splits with positive gain, best gain: -inf\n",
      "Accuracy: 0.81\n",
      "ROC AUC Score: 0.81\n",
      "G-Mean: 0.66\n",
      "F1 Score: 0.8\n",
      "Sensitivity: 0.8\n",
      "Specificity: 0.83\n",
      "Precision: 0.81\n",
      "AVG: 0.76\n"
     ]
    },
    {
     "data": {
      "text/plain": "<Figure size 800x600 with 2 Axes>",
      "image/png": "[encoded data removed]"
     },
     "metadata": {},
     "output_type": "display_data"
    }
   ],
   "source": [
    "model = LGBMClassifier()\n",
    "\n",
    "y_pred = train_model(model, X_train, X_test, y_train)\n",
    "results, conf_matrix = generate_results(y_pred, y_test)\n",
    "display_results(results)\n",
    "display_confusion_matrix(conf_matrix)"
   ],
   "metadata": {
    "collapsed": false,
    "pycharm": {
     "name": "#%%\n"
    },
    "ExecuteTime": {
     "end_time": "2023-07-15T22:37:15.691883441Z",
     "start_time": "2023-07-15T22:37:15.181179326Z"
    }
   }
  }
 ],
 "metadata": {
  "kernelspec": {
   "display_name": "Python 3",
   "language": "python",
   "name": "python3"
  },
  "language_info": {
   "codemirror_mode": {
    "name": "ipython",
    "version": 2
   },
   "file_extension": ".py",
   "mimetype": "text/x-python",
   "name": "python",
   "nbconvert_exporter": "python",
   "pygments_lexer": "ipython2",
   "version": "2.7.6"
  }
 },
 "nbformat": 4,
 "nbformat_minor": 0
}
